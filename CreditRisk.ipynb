{
 "cells": [
  {
   "cell_type": "code",
   "execution_count": 4,
   "metadata": {
    "id": "ph7RoG5Kw_Va"
   },
   "outputs": [],
   "source": [
    "# Import Package\n",
    "import numpy as np \n",
    "import pandas as pd \n",
    "import os\n",
    "import seaborn as sns \n",
    "import matplotlib.pyplot as plt\n",
    "from sklearn.feature_selection import SelectKBest\n",
    "from sklearn.feature_selection import chi2\n",
    "from sklearn.feature_selection import f_classif\n",
    "from numpy import set_printoptions\n",
    "from sklearn.feature_selection import mutual_info_classif\n",
    "\n",
    "# Import Data\n",
    "\n",
    "data = pd.read_excel(\"GermanCreditData.xlsx\")"
   ]
  },
  {
   "cell_type": "code",
   "execution_count": 5,
   "metadata": {
    "colab": {
     "base_uri": "https://localhost:8080/"
    },
    "id": "A1hMdASexN98",
    "outputId": "74d4344b-41da-41b7-e707-4ca0de201866"
   },
   "outputs": [
    {
     "name": "stdout",
     "output_type": "stream",
     "text": [
      "Requirement already satisfied: scorecardpy in /opt/anaconda3/lib/python3.7/site-packages (0.1.9.2)\n",
      "Requirement already satisfied: pandas>=0.25.0 in /opt/anaconda3/lib/python3.7/site-packages (from scorecardpy) (1.0.5)\n",
      "Requirement already satisfied: scikit-learn>=0.19.1 in /opt/anaconda3/lib/python3.7/site-packages (from scorecardpy) (1.0.2)\n",
      "Requirement already satisfied: matplotlib in /opt/anaconda3/lib/python3.7/site-packages (from scorecardpy) (3.2.2)\n",
      "Requirement already satisfied: numpy in /opt/anaconda3/lib/python3.7/site-packages (from scorecardpy) (1.18.5)\n",
      "Requirement already satisfied: python-dateutil>=2.6.1 in /opt/anaconda3/lib/python3.7/site-packages (from pandas>=0.25.0->scorecardpy) (2.8.1)\n",
      "Requirement already satisfied: pytz>=2017.2 in /opt/anaconda3/lib/python3.7/site-packages (from pandas>=0.25.0->scorecardpy) (2020.1)\n",
      "Requirement already satisfied: scipy>=1.1.0 in /opt/anaconda3/lib/python3.7/site-packages (from scikit-learn>=0.19.1->scorecardpy) (1.7.3)\n",
      "Requirement already satisfied: threadpoolctl>=2.0.0 in /opt/anaconda3/lib/python3.7/site-packages (from scikit-learn>=0.19.1->scorecardpy) (2.1.0)\n",
      "Requirement already satisfied: joblib>=0.11 in /opt/anaconda3/lib/python3.7/site-packages (from scikit-learn>=0.19.1->scorecardpy) (0.16.0)\n",
      "Requirement already satisfied: cycler>=0.10 in /opt/anaconda3/lib/python3.7/site-packages (from matplotlib->scorecardpy) (0.10.0)\n",
      "Requirement already satisfied: pyparsing!=2.0.4,!=2.1.2,!=2.1.6,>=2.0.1 in /opt/anaconda3/lib/python3.7/site-packages (from matplotlib->scorecardpy) (2.4.7)\n",
      "Requirement already satisfied: kiwisolver>=1.0.1 in /opt/anaconda3/lib/python3.7/site-packages (from matplotlib->scorecardpy) (1.2.0)\n",
      "Requirement already satisfied: six in /opt/anaconda3/lib/python3.7/site-packages (from cycler>=0.10->matplotlib->scorecardpy) (1.15.0)\n"
     ]
    }
   ],
   "source": [
    "# Install the Scorecard Model Algorithm Package\n",
    "!pip install scorecardpy\n",
    "import scorecardpy as sc"
   ]
  },
  {
   "cell_type": "code",
   "execution_count": 6,
   "metadata": {
    "colab": {
     "base_uri": "https://localhost:8080/",
     "height": 235
    },
    "id": "iqxIRoDaxU0n",
    "outputId": "1913df94-0e12-4cb3-d336-2dbfcecb4a01"
   },
   "outputs": [
    {
     "data": {
      "text/html": [
       "<div>\n",
       "<style scoped>\n",
       "    .dataframe tbody tr th:only-of-type {\n",
       "        vertical-align: middle;\n",
       "    }\n",
       "\n",
       "    .dataframe tbody tr th {\n",
       "        vertical-align: top;\n",
       "    }\n",
       "\n",
       "    .dataframe thead th {\n",
       "        text-align: right;\n",
       "    }\n",
       "</style>\n",
       "<table border=\"1\" class=\"dataframe\">\n",
       "  <thead>\n",
       "    <tr style=\"text-align: right;\">\n",
       "      <th></th>\n",
       "      <th>Checking</th>\n",
       "      <th>Duration</th>\n",
       "      <th>History</th>\n",
       "      <th>Purpose</th>\n",
       "      <th>Amount</th>\n",
       "      <th>Savings</th>\n",
       "      <th>Emploed</th>\n",
       "      <th>Installp</th>\n",
       "      <th>marital</th>\n",
       "      <th>Coapp</th>\n",
       "      <th>...</th>\n",
       "      <th>Age</th>\n",
       "      <th>Other</th>\n",
       "      <th>housing</th>\n",
       "      <th>Existcr</th>\n",
       "      <th>Job</th>\n",
       "      <th>Depends</th>\n",
       "      <th>Telephone</th>\n",
       "      <th>Foreign</th>\n",
       "      <th>Bad</th>\n",
       "      <th>Good</th>\n",
       "    </tr>\n",
       "  </thead>\n",
       "  <tbody>\n",
       "    <tr>\n",
       "      <th>0</th>\n",
       "      <td>1</td>\n",
       "      <td>6</td>\n",
       "      <td>4</td>\n",
       "      <td>3</td>\n",
       "      <td>1169</td>\n",
       "      <td>5</td>\n",
       "      <td>5</td>\n",
       "      <td>4</td>\n",
       "      <td>3</td>\n",
       "      <td>1</td>\n",
       "      <td>...</td>\n",
       "      <td>67</td>\n",
       "      <td>3</td>\n",
       "      <td>2</td>\n",
       "      <td>2</td>\n",
       "      <td>3</td>\n",
       "      <td>1</td>\n",
       "      <td>2</td>\n",
       "      <td>1</td>\n",
       "      <td>0</td>\n",
       "      <td>1</td>\n",
       "    </tr>\n",
       "    <tr>\n",
       "      <th>1</th>\n",
       "      <td>2</td>\n",
       "      <td>48</td>\n",
       "      <td>2</td>\n",
       "      <td>3</td>\n",
       "      <td>5951</td>\n",
       "      <td>1</td>\n",
       "      <td>3</td>\n",
       "      <td>2</td>\n",
       "      <td>2</td>\n",
       "      <td>1</td>\n",
       "      <td>...</td>\n",
       "      <td>22</td>\n",
       "      <td>3</td>\n",
       "      <td>2</td>\n",
       "      <td>1</td>\n",
       "      <td>3</td>\n",
       "      <td>1</td>\n",
       "      <td>1</td>\n",
       "      <td>1</td>\n",
       "      <td>1</td>\n",
       "      <td>0</td>\n",
       "    </tr>\n",
       "    <tr>\n",
       "      <th>2</th>\n",
       "      <td>4</td>\n",
       "      <td>12</td>\n",
       "      <td>4</td>\n",
       "      <td>6</td>\n",
       "      <td>2096</td>\n",
       "      <td>1</td>\n",
       "      <td>4</td>\n",
       "      <td>2</td>\n",
       "      <td>3</td>\n",
       "      <td>1</td>\n",
       "      <td>...</td>\n",
       "      <td>49</td>\n",
       "      <td>3</td>\n",
       "      <td>2</td>\n",
       "      <td>1</td>\n",
       "      <td>2</td>\n",
       "      <td>2</td>\n",
       "      <td>1</td>\n",
       "      <td>1</td>\n",
       "      <td>0</td>\n",
       "      <td>1</td>\n",
       "    </tr>\n",
       "    <tr>\n",
       "      <th>3</th>\n",
       "      <td>1</td>\n",
       "      <td>42</td>\n",
       "      <td>2</td>\n",
       "      <td>2</td>\n",
       "      <td>7882</td>\n",
       "      <td>1</td>\n",
       "      <td>4</td>\n",
       "      <td>2</td>\n",
       "      <td>3</td>\n",
       "      <td>3</td>\n",
       "      <td>...</td>\n",
       "      <td>45</td>\n",
       "      <td>3</td>\n",
       "      <td>3</td>\n",
       "      <td>1</td>\n",
       "      <td>3</td>\n",
       "      <td>2</td>\n",
       "      <td>1</td>\n",
       "      <td>1</td>\n",
       "      <td>0</td>\n",
       "      <td>1</td>\n",
       "    </tr>\n",
       "    <tr>\n",
       "      <th>4</th>\n",
       "      <td>1</td>\n",
       "      <td>24</td>\n",
       "      <td>3</td>\n",
       "      <td>0</td>\n",
       "      <td>4870</td>\n",
       "      <td>1</td>\n",
       "      <td>3</td>\n",
       "      <td>3</td>\n",
       "      <td>3</td>\n",
       "      <td>1</td>\n",
       "      <td>...</td>\n",
       "      <td>53</td>\n",
       "      <td>3</td>\n",
       "      <td>3</td>\n",
       "      <td>2</td>\n",
       "      <td>3</td>\n",
       "      <td>2</td>\n",
       "      <td>1</td>\n",
       "      <td>1</td>\n",
       "      <td>1</td>\n",
       "      <td>0</td>\n",
       "    </tr>\n",
       "  </tbody>\n",
       "</table>\n",
       "<p>5 rows × 22 columns</p>\n",
       "</div>"
      ],
      "text/plain": [
       "   Checking  Duration  History Purpose  Amount  Savings  Emploed  Installp  \\\n",
       "0         1         6        4       3    1169        5        5         4   \n",
       "1         2        48        2       3    5951        1        3         2   \n",
       "2         4        12        4       6    2096        1        4         2   \n",
       "3         1        42        2       2    7882        1        4         2   \n",
       "4         1        24        3       0    4870        1        3         3   \n",
       "\n",
       "   marital  Coapp  ...  Age  Other  housing  Existcr  Job  Depends  Telephone  \\\n",
       "0        3      1  ...   67      3        2        2    3        1          2   \n",
       "1        2      1  ...   22      3        2        1    3        1          1   \n",
       "2        3      1  ...   49      3        2        1    2        2          1   \n",
       "3        3      3  ...   45      3        3        1    3        2          1   \n",
       "4        3      1  ...   53      3        3        2    3        2          1   \n",
       "\n",
       "   Foreign  Bad  Good  \n",
       "0        1    0     1  \n",
       "1        1    1     0  \n",
       "2        1    0     1  \n",
       "3        1    0     1  \n",
       "4        1    1     0  \n",
       "\n",
       "[5 rows x 22 columns]"
      ]
     },
     "execution_count": 6,
     "metadata": {},
     "output_type": "execute_result"
    }
   ],
   "source": [
    "data.head()"
   ]
  },
  {
   "cell_type": "code",
   "execution_count": 7,
   "metadata": {
    "colab": {
     "base_uri": "https://localhost:8080/"
    },
    "id": "V8Qfvubkyhk1",
    "outputId": "7597bbf9-95c0-4ce2-c6ee-2d4f9d577aaf"
   },
   "outputs": [
    {
     "name": "stdout",
     "output_type": "stream",
     "text": [
      "<class 'pandas.core.frame.DataFrame'>\n",
      "RangeIndex: 1000 entries, 0 to 999\n",
      "Data columns (total 22 columns):\n",
      " #   Column     Non-Null Count  Dtype \n",
      "---  ------     --------------  ----- \n",
      " 0   Checking   1000 non-null   int64 \n",
      " 1   Duration   1000 non-null   int64 \n",
      " 2   History    1000 non-null   int64 \n",
      " 3   Purpose    1000 non-null   object\n",
      " 4   Amount     1000 non-null   int64 \n",
      " 5   Savings    1000 non-null   int64 \n",
      " 6   Emploed    1000 non-null   int64 \n",
      " 7   Installp   1000 non-null   int64 \n",
      " 8   marital    1000 non-null   int64 \n",
      " 9   Coapp      1000 non-null   int64 \n",
      " 10  Resident   1000 non-null   int64 \n",
      " 11  Property   1000 non-null   int64 \n",
      " 12  Age        1000 non-null   int64 \n",
      " 13  Other      1000 non-null   int64 \n",
      " 14  housing    1000 non-null   int64 \n",
      " 15  Existcr    1000 non-null   int64 \n",
      " 16  Job        1000 non-null   int64 \n",
      " 17  Depends    1000 non-null   int64 \n",
      " 18  Telephone  1000 non-null   int64 \n",
      " 19  Foreign    1000 non-null   int64 \n",
      " 20  Bad        1000 non-null   int64 \n",
      " 21  Good       1000 non-null   int64 \n",
      "dtypes: int64(21), object(1)\n",
      "memory usage: 172.0+ KB\n"
     ]
    }
   ],
   "source": [
    "data.info()"
   ]
  },
  {
   "cell_type": "code",
   "execution_count": 8,
   "metadata": {
    "colab": {
     "base_uri": "https://localhost:8080/"
    },
    "id": "K3f9Oy9umRjI",
    "outputId": "570d60d0-6501-4b4f-8423-3efb9dfb8423"
   },
   "outputs": [
    {
     "data": {
      "text/plain": [
       "(1000, 22)"
      ]
     },
     "execution_count": 8,
     "metadata": {},
     "output_type": "execute_result"
    }
   ],
   "source": [
    "data.shape"
   ]
  },
  {
   "cell_type": "code",
   "execution_count": 9,
   "metadata": {
    "colab": {
     "base_uri": "https://localhost:8080/"
    },
    "id": "gQCRF2LN3r22",
    "outputId": "161733c0-5810-4299-cc5e-8ffd56b80448"
   },
   "outputs": [
    {
     "data": {
      "text/plain": [
       "0"
      ]
     },
     "execution_count": 9,
     "metadata": {},
     "output_type": "execute_result"
    }
   ],
   "source": [
    "# Data Cleaning\n",
    "\n",
    "data.isnull().values.sum()"
   ]
  },
  {
   "cell_type": "code",
   "execution_count": 10,
   "metadata": {
    "colab": {
     "base_uri": "https://localhost:8080/"
    },
    "id": "ROhEbzrEjfLQ",
    "outputId": "acdfd94c-a381-4376-a6c4-149a126ba3a2"
   },
   "outputs": [
    {
     "data": {
      "text/plain": [
       "0"
      ]
     },
     "execution_count": 10,
     "metadata": {},
     "output_type": "execute_result"
    }
   ],
   "source": [
    "data.duplicated().sum()"
   ]
  },
  {
   "cell_type": "code",
   "execution_count": 11,
   "metadata": {
    "colab": {
     "base_uri": "https://localhost:8080/",
     "height": 394
    },
    "id": "k9CNV6C3jZES",
    "outputId": "25f70c6f-b9f5-4e31-d43a-328836ac9527"
   },
   "outputs": [
    {
     "data": {
      "text/html": [
       "<div>\n",
       "<style scoped>\n",
       "    .dataframe tbody tr th:only-of-type {\n",
       "        vertical-align: middle;\n",
       "    }\n",
       "\n",
       "    .dataframe tbody tr th {\n",
       "        vertical-align: top;\n",
       "    }\n",
       "\n",
       "    .dataframe thead th {\n",
       "        text-align: right;\n",
       "    }\n",
       "</style>\n",
       "<table border=\"1\" class=\"dataframe\">\n",
       "  <thead>\n",
       "    <tr style=\"text-align: right;\">\n",
       "      <th></th>\n",
       "      <th>Checking</th>\n",
       "      <th>Duration</th>\n",
       "      <th>History</th>\n",
       "      <th>Amount</th>\n",
       "      <th>Savings</th>\n",
       "      <th>Emploed</th>\n",
       "      <th>Installp</th>\n",
       "      <th>marital</th>\n",
       "      <th>Coapp</th>\n",
       "      <th>Resident</th>\n",
       "      <th>...</th>\n",
       "      <th>Age</th>\n",
       "      <th>Other</th>\n",
       "      <th>housing</th>\n",
       "      <th>Existcr</th>\n",
       "      <th>Job</th>\n",
       "      <th>Depends</th>\n",
       "      <th>Telephone</th>\n",
       "      <th>Foreign</th>\n",
       "      <th>Bad</th>\n",
       "      <th>Good</th>\n",
       "    </tr>\n",
       "  </thead>\n",
       "  <tbody>\n",
       "    <tr>\n",
       "      <th>count</th>\n",
       "      <td>1000.000000</td>\n",
       "      <td>1000.000000</td>\n",
       "      <td>1000.00000</td>\n",
       "      <td>1000.000000</td>\n",
       "      <td>1000.000000</td>\n",
       "      <td>1000.000000</td>\n",
       "      <td>1000.000000</td>\n",
       "      <td>1000.00000</td>\n",
       "      <td>1000.000000</td>\n",
       "      <td>1000.000000</td>\n",
       "      <td>...</td>\n",
       "      <td>1000.000000</td>\n",
       "      <td>1000.000000</td>\n",
       "      <td>1000.000000</td>\n",
       "      <td>1000.000000</td>\n",
       "      <td>1000.000000</td>\n",
       "      <td>1000.000000</td>\n",
       "      <td>1000.000000</td>\n",
       "      <td>1000.000000</td>\n",
       "      <td>1000.000000</td>\n",
       "      <td>1000.000000</td>\n",
       "    </tr>\n",
       "    <tr>\n",
       "      <th>mean</th>\n",
       "      <td>2.577000</td>\n",
       "      <td>20.903000</td>\n",
       "      <td>2.54500</td>\n",
       "      <td>3271.258000</td>\n",
       "      <td>2.105000</td>\n",
       "      <td>3.384000</td>\n",
       "      <td>2.973000</td>\n",
       "      <td>2.68200</td>\n",
       "      <td>1.145000</td>\n",
       "      <td>2.845000</td>\n",
       "      <td>...</td>\n",
       "      <td>35.546000</td>\n",
       "      <td>2.675000</td>\n",
       "      <td>1.929000</td>\n",
       "      <td>1.407000</td>\n",
       "      <td>2.904000</td>\n",
       "      <td>1.155000</td>\n",
       "      <td>1.404000</td>\n",
       "      <td>1.037000</td>\n",
       "      <td>0.300000</td>\n",
       "      <td>0.700000</td>\n",
       "    </tr>\n",
       "    <tr>\n",
       "      <th>std</th>\n",
       "      <td>1.257638</td>\n",
       "      <td>12.058814</td>\n",
       "      <td>1.08312</td>\n",
       "      <td>2822.736876</td>\n",
       "      <td>1.580023</td>\n",
       "      <td>1.208306</td>\n",
       "      <td>1.118715</td>\n",
       "      <td>0.70808</td>\n",
       "      <td>0.477706</td>\n",
       "      <td>1.103718</td>\n",
       "      <td>...</td>\n",
       "      <td>11.375469</td>\n",
       "      <td>0.705601</td>\n",
       "      <td>0.531264</td>\n",
       "      <td>0.577654</td>\n",
       "      <td>0.653614</td>\n",
       "      <td>0.362086</td>\n",
       "      <td>0.490943</td>\n",
       "      <td>0.188856</td>\n",
       "      <td>0.458487</td>\n",
       "      <td>0.458487</td>\n",
       "    </tr>\n",
       "    <tr>\n",
       "      <th>min</th>\n",
       "      <td>1.000000</td>\n",
       "      <td>4.000000</td>\n",
       "      <td>0.00000</td>\n",
       "      <td>250.000000</td>\n",
       "      <td>1.000000</td>\n",
       "      <td>1.000000</td>\n",
       "      <td>1.000000</td>\n",
       "      <td>1.00000</td>\n",
       "      <td>1.000000</td>\n",
       "      <td>1.000000</td>\n",
       "      <td>...</td>\n",
       "      <td>19.000000</td>\n",
       "      <td>1.000000</td>\n",
       "      <td>1.000000</td>\n",
       "      <td>1.000000</td>\n",
       "      <td>1.000000</td>\n",
       "      <td>1.000000</td>\n",
       "      <td>1.000000</td>\n",
       "      <td>1.000000</td>\n",
       "      <td>0.000000</td>\n",
       "      <td>0.000000</td>\n",
       "    </tr>\n",
       "    <tr>\n",
       "      <th>25%</th>\n",
       "      <td>1.000000</td>\n",
       "      <td>12.000000</td>\n",
       "      <td>2.00000</td>\n",
       "      <td>1365.500000</td>\n",
       "      <td>1.000000</td>\n",
       "      <td>3.000000</td>\n",
       "      <td>2.000000</td>\n",
       "      <td>2.00000</td>\n",
       "      <td>1.000000</td>\n",
       "      <td>2.000000</td>\n",
       "      <td>...</td>\n",
       "      <td>27.000000</td>\n",
       "      <td>3.000000</td>\n",
       "      <td>2.000000</td>\n",
       "      <td>1.000000</td>\n",
       "      <td>3.000000</td>\n",
       "      <td>1.000000</td>\n",
       "      <td>1.000000</td>\n",
       "      <td>1.000000</td>\n",
       "      <td>0.000000</td>\n",
       "      <td>0.000000</td>\n",
       "    </tr>\n",
       "    <tr>\n",
       "      <th>50%</th>\n",
       "      <td>2.000000</td>\n",
       "      <td>18.000000</td>\n",
       "      <td>2.00000</td>\n",
       "      <td>2319.500000</td>\n",
       "      <td>1.000000</td>\n",
       "      <td>3.000000</td>\n",
       "      <td>3.000000</td>\n",
       "      <td>3.00000</td>\n",
       "      <td>1.000000</td>\n",
       "      <td>3.000000</td>\n",
       "      <td>...</td>\n",
       "      <td>33.000000</td>\n",
       "      <td>3.000000</td>\n",
       "      <td>2.000000</td>\n",
       "      <td>1.000000</td>\n",
       "      <td>3.000000</td>\n",
       "      <td>1.000000</td>\n",
       "      <td>1.000000</td>\n",
       "      <td>1.000000</td>\n",
       "      <td>0.000000</td>\n",
       "      <td>1.000000</td>\n",
       "    </tr>\n",
       "    <tr>\n",
       "      <th>75%</th>\n",
       "      <td>4.000000</td>\n",
       "      <td>24.000000</td>\n",
       "      <td>4.00000</td>\n",
       "      <td>3972.250000</td>\n",
       "      <td>3.000000</td>\n",
       "      <td>5.000000</td>\n",
       "      <td>4.000000</td>\n",
       "      <td>3.00000</td>\n",
       "      <td>1.000000</td>\n",
       "      <td>4.000000</td>\n",
       "      <td>...</td>\n",
       "      <td>42.000000</td>\n",
       "      <td>3.000000</td>\n",
       "      <td>2.000000</td>\n",
       "      <td>2.000000</td>\n",
       "      <td>3.000000</td>\n",
       "      <td>1.000000</td>\n",
       "      <td>2.000000</td>\n",
       "      <td>1.000000</td>\n",
       "      <td>1.000000</td>\n",
       "      <td>1.000000</td>\n",
       "    </tr>\n",
       "    <tr>\n",
       "      <th>max</th>\n",
       "      <td>4.000000</td>\n",
       "      <td>72.000000</td>\n",
       "      <td>4.00000</td>\n",
       "      <td>18424.000000</td>\n",
       "      <td>5.000000</td>\n",
       "      <td>5.000000</td>\n",
       "      <td>4.000000</td>\n",
       "      <td>4.00000</td>\n",
       "      <td>3.000000</td>\n",
       "      <td>4.000000</td>\n",
       "      <td>...</td>\n",
       "      <td>75.000000</td>\n",
       "      <td>3.000000</td>\n",
       "      <td>3.000000</td>\n",
       "      <td>4.000000</td>\n",
       "      <td>4.000000</td>\n",
       "      <td>2.000000</td>\n",
       "      <td>2.000000</td>\n",
       "      <td>2.000000</td>\n",
       "      <td>1.000000</td>\n",
       "      <td>1.000000</td>\n",
       "    </tr>\n",
       "  </tbody>\n",
       "</table>\n",
       "<p>8 rows × 21 columns</p>\n",
       "</div>"
      ],
      "text/plain": [
       "          Checking     Duration     History        Amount      Savings  \\\n",
       "count  1000.000000  1000.000000  1000.00000   1000.000000  1000.000000   \n",
       "mean      2.577000    20.903000     2.54500   3271.258000     2.105000   \n",
       "std       1.257638    12.058814     1.08312   2822.736876     1.580023   \n",
       "min       1.000000     4.000000     0.00000    250.000000     1.000000   \n",
       "25%       1.000000    12.000000     2.00000   1365.500000     1.000000   \n",
       "50%       2.000000    18.000000     2.00000   2319.500000     1.000000   \n",
       "75%       4.000000    24.000000     4.00000   3972.250000     3.000000   \n",
       "max       4.000000    72.000000     4.00000  18424.000000     5.000000   \n",
       "\n",
       "           Emploed     Installp     marital        Coapp     Resident  ...  \\\n",
       "count  1000.000000  1000.000000  1000.00000  1000.000000  1000.000000  ...   \n",
       "mean      3.384000     2.973000     2.68200     1.145000     2.845000  ...   \n",
       "std       1.208306     1.118715     0.70808     0.477706     1.103718  ...   \n",
       "min       1.000000     1.000000     1.00000     1.000000     1.000000  ...   \n",
       "25%       3.000000     2.000000     2.00000     1.000000     2.000000  ...   \n",
       "50%       3.000000     3.000000     3.00000     1.000000     3.000000  ...   \n",
       "75%       5.000000     4.000000     3.00000     1.000000     4.000000  ...   \n",
       "max       5.000000     4.000000     4.00000     3.000000     4.000000  ...   \n",
       "\n",
       "               Age        Other      housing      Existcr          Job  \\\n",
       "count  1000.000000  1000.000000  1000.000000  1000.000000  1000.000000   \n",
       "mean     35.546000     2.675000     1.929000     1.407000     2.904000   \n",
       "std      11.375469     0.705601     0.531264     0.577654     0.653614   \n",
       "min      19.000000     1.000000     1.000000     1.000000     1.000000   \n",
       "25%      27.000000     3.000000     2.000000     1.000000     3.000000   \n",
       "50%      33.000000     3.000000     2.000000     1.000000     3.000000   \n",
       "75%      42.000000     3.000000     2.000000     2.000000     3.000000   \n",
       "max      75.000000     3.000000     3.000000     4.000000     4.000000   \n",
       "\n",
       "           Depends    Telephone      Foreign          Bad         Good  \n",
       "count  1000.000000  1000.000000  1000.000000  1000.000000  1000.000000  \n",
       "mean      1.155000     1.404000     1.037000     0.300000     0.700000  \n",
       "std       0.362086     0.490943     0.188856     0.458487     0.458487  \n",
       "min       1.000000     1.000000     1.000000     0.000000     0.000000  \n",
       "25%       1.000000     1.000000     1.000000     0.000000     0.000000  \n",
       "50%       1.000000     1.000000     1.000000     0.000000     1.000000  \n",
       "75%       1.000000     2.000000     1.000000     1.000000     1.000000  \n",
       "max       2.000000     2.000000     2.000000     1.000000     1.000000  \n",
       "\n",
       "[8 rows x 21 columns]"
      ]
     },
     "execution_count": 11,
     "metadata": {},
     "output_type": "execute_result"
    }
   ],
   "source": [
    "data.describe()"
   ]
  },
  {
   "cell_type": "code",
   "execution_count": 12,
   "metadata": {
    "colab": {
     "base_uri": "https://localhost:8080/"
    },
    "id": "9ySR8RYl8KHJ",
    "outputId": "074996eb-234a-46d6-f332-99e459686cfa"
   },
   "outputs": [],
   "source": [
    "# Since the columns 'Bad' and 'Good' show the same values differently, we can remove the 'Bad' column to remove confusion\n",
    "data = data.drop('Bad', 1)"
   ]
  },
  {
   "cell_type": "code",
   "execution_count": 13,
   "metadata": {
    "colab": {
     "base_uri": "https://localhost:8080/"
    },
    "id": "3FIEyACb0EIb",
    "outputId": "f2c95c18-82ec-41fe-cccd-add3dec0707b"
   },
   "outputs": [
    {
     "data": {
      "text/plain": [
       "3    280\n",
       "0    234\n",
       "2    181\n",
       "1    103\n",
       "9     97\n",
       "6     50\n",
       "5     22\n",
       "X     12\n",
       "4     12\n",
       "8      9\n",
       "Name: Purpose, dtype: int64"
      ]
     },
     "execution_count": 13,
     "metadata": {},
     "output_type": "execute_result"
    }
   ],
   "source": [
    "data.Purpose.value_counts()"
   ]
  },
  {
   "cell_type": "code",
   "execution_count": 14,
   "metadata": {
    "id": "VrD98Fcj0uaR"
   },
   "outputs": [],
   "source": [
    "# Since we have some 'X' values in this columns, we need to replace it with 'Other' cateogory i.e '9' for better analysis\n",
    "data['Purpose'].replace('X','9',inplace=True)"
   ]
  },
  {
   "cell_type": "code",
   "execution_count": 15,
   "metadata": {
    "colab": {
     "base_uri": "https://localhost:8080/"
    },
    "id": "agMD9R-h1gQ3",
    "outputId": "0d45569f-ae4c-4193-db1e-ce15c2c44da0"
   },
   "outputs": [
    {
     "data": {
      "text/plain": [
       "3    280\n",
       "0    234\n",
       "2    181\n",
       "1    103\n",
       "9     97\n",
       "6     50\n",
       "5     22\n",
       "9     12\n",
       "4     12\n",
       "8      9\n",
       "Name: Purpose, dtype: int64"
      ]
     },
     "execution_count": 15,
     "metadata": {},
     "output_type": "execute_result"
    }
   ],
   "source": [
    "data.Purpose.value_counts()"
   ]
  },
  {
   "cell_type": "code",
   "execution_count": 16,
   "metadata": {
    "colab": {
     "base_uri": "https://localhost:8080/",
     "height": 351
    },
    "id": "48F5yNpZXXbB",
    "outputId": "f6eb1c9d-d8bb-4754-ce40-a8d9981b7cec"
   },
   "outputs": [
    {
     "data": {
      "text/plain": [
       "<matplotlib.axes._subplots.AxesSubplot at 0x7fdc14e07410>"
      ]
     },
     "execution_count": 16,
     "metadata": {},
     "output_type": "execute_result"
    },
    {
     "data": {
      "image/png": "[encoded data removed]",
      "text/plain": [
       "<Figure size 432x288 with 1 Axes>"
      ]
     },
     "metadata": {
      "needs_background": "light"
     },
     "output_type": "display_data"
    }
   ],
   "source": [
    "sns.boxplot(data['Duration'])"
   ]
  },
  {
   "cell_type": "code",
   "execution_count": 17,
   "metadata": {
    "colab": {
     "base_uri": "https://localhost:8080/"
    },
    "id": "Ddj1zWIYXr_8",
    "outputId": "feb6cf91-0be8-4d32-fa22-8a40aee89e50"
   },
   "outputs": [
    {
     "ename": "AttributeError",
     "evalue": "'DataFrame' object has no attribute 'value_counts'",
     "output_type": "error",
     "traceback": [
      "\u001b[0;31m---------------------------------------------------------------------------\u001b[0m",
      "\u001b[0;31mAttributeError\u001b[0m                            Traceback (most recent call last)",
      "\u001b[0;32m<ipython-input-17-e61aea829f70>\u001b[0m in \u001b[0;36m<module>\u001b[0;34m\u001b[0m\n\u001b[0;32m----> 1\u001b[0;31m \u001b[0mdata\u001b[0m\u001b[0;34m[\u001b[0m\u001b[0mdata\u001b[0m\u001b[0;34m.\u001b[0m\u001b[0mDuration\u001b[0m \u001b[0;34m>=\u001b[0m\u001b[0;36m60\u001b[0m\u001b[0;34m]\u001b[0m\u001b[0;34m.\u001b[0m\u001b[0mvalue_counts\u001b[0m\u001b[0;34m(\u001b[0m\u001b[0;34m)\u001b[0m\u001b[0;34m\u001b[0m\u001b[0;34m\u001b[0m\u001b[0m\n\u001b[0m",
      "\u001b[0;32m/opt/anaconda3/lib/python3.7/site-packages/pandas/core/generic.py\u001b[0m in \u001b[0;36m__getattr__\u001b[0;34m(self, name)\u001b[0m\n\u001b[1;32m   5272\u001b[0m             \u001b[0;32mif\u001b[0m \u001b[0mself\u001b[0m\u001b[0;34m.\u001b[0m\u001b[0m_info_axis\u001b[0m\u001b[0;34m.\u001b[0m\u001b[0m_can_hold_identifiers_and_holds_name\u001b[0m\u001b[0;34m(\u001b[0m\u001b[0mname\u001b[0m\u001b[0;34m)\u001b[0m\u001b[0;34m:\u001b[0m\u001b[0;34m\u001b[0m\u001b[0;34m\u001b[0m\u001b[0m\n\u001b[1;32m   5273\u001b[0m                 \u001b[0;32mreturn\u001b[0m \u001b[0mself\u001b[0m\u001b[0;34m[\u001b[0m\u001b[0mname\u001b[0m\u001b[0;34m]\u001b[0m\u001b[0;34m\u001b[0m\u001b[0;34m\u001b[0m\u001b[0m\n\u001b[0;32m-> 5274\u001b[0;31m             \u001b[0;32mreturn\u001b[0m \u001b[0mobject\u001b[0m\u001b[0;34m.\u001b[0m\u001b[0m__getattribute__\u001b[0m\u001b[0;34m(\u001b[0m\u001b[0mself\u001b[0m\u001b[0;34m,\u001b[0m \u001b[0mname\u001b[0m\u001b[0;34m)\u001b[0m\u001b[0;34m\u001b[0m\u001b[0;34m\u001b[0m\u001b[0m\n\u001b[0m\u001b[1;32m   5275\u001b[0m \u001b[0;34m\u001b[0m\u001b[0m\n\u001b[1;32m   5276\u001b[0m     \u001b[0;32mdef\u001b[0m \u001b[0m__setattr__\u001b[0m\u001b[0;34m(\u001b[0m\u001b[0mself\u001b[0m\u001b[0;34m,\u001b[0m \u001b[0mname\u001b[0m\u001b[0;34m:\u001b[0m \u001b[0mstr\u001b[0m\u001b[0;34m,\u001b[0m \u001b[0mvalue\u001b[0m\u001b[0;34m)\u001b[0m \u001b[0;34m->\u001b[0m \u001b[0;32mNone\u001b[0m\u001b[0;34m:\u001b[0m\u001b[0;34m\u001b[0m\u001b[0;34m\u001b[0m\u001b[0m\n",
      "\u001b[0;31mAttributeError\u001b[0m: 'DataFrame' object has no attribute 'value_counts'"
     ]
    }
   ],
   "source": [
    "data[data.Duration >=60].value_counts()"
   ]
  },
  {
   "cell_type": "code",
   "execution_count": 18,
   "metadata": {
    "id": "j7GxeDHTqBV-"
   },
   "outputs": [],
   "source": [
    "# Removing Outliers\n",
    "data.drop(data[(data['Duration'] >= 60)].index, inplace=True)"
   ]
  },
  {
   "cell_type": "code",
   "execution_count": 19,
   "metadata": {
    "colab": {
     "base_uri": "https://localhost:8080/",
     "height": 351
    },
    "id": "66KY5h5D5lG0",
    "outputId": "1966505f-a147-420c-b7f0-5acf88652bc5"
   },
   "outputs": [
    {
     "data": {
      "text/plain": [
       "<matplotlib.axes._subplots.AxesSubplot at 0x7fdc1c7078d0>"
      ]
     },
     "execution_count": 19,
     "metadata": {},
     "output_type": "execute_result"
    },
    {
     "data": {
      "image/png": "[encoded data removed]",
      "text/plain": [
       "<Figure size 432x288 with 1 Axes>"
      ]
     },
     "metadata": {
      "needs_background": "light"
     },
     "output_type": "display_data"
    }
   ],
   "source": [
    "sns.boxplot(data['Existcr'])"
   ]
  },
  {
   "cell_type": "code",
   "execution_count": 20,
   "metadata": {
    "colab": {
     "base_uri": "https://localhost:8080/"
    },
    "id": "w0w7BD9uXIo4",
    "outputId": "2b3ef683-aff2-492a-b97f-a4a61526258c"
   },
   "outputs": [
    {
     "ename": "AttributeError",
     "evalue": "'DataFrame' object has no attribute 'value_counts'",
     "output_type": "error",
     "traceback": [
      "\u001b[0;31m---------------------------------------------------------------------------\u001b[0m",
      "\u001b[0;31mAttributeError\u001b[0m                            Traceback (most recent call last)",
      "\u001b[0;32m<ipython-input-20-acdfed903ec5>\u001b[0m in \u001b[0;36m<module>\u001b[0;34m\u001b[0m\n\u001b[0;32m----> 1\u001b[0;31m \u001b[0mdata\u001b[0m\u001b[0;34m[\u001b[0m\u001b[0mdata\u001b[0m\u001b[0;34m.\u001b[0m\u001b[0mExistcr\u001b[0m \u001b[0;34m>=\u001b[0m\u001b[0;36m4\u001b[0m\u001b[0;34m]\u001b[0m\u001b[0;34m.\u001b[0m\u001b[0mvalue_counts\u001b[0m\u001b[0;34m(\u001b[0m\u001b[0;34m)\u001b[0m\u001b[0;34m\u001b[0m\u001b[0;34m\u001b[0m\u001b[0m\n\u001b[0m",
      "\u001b[0;32m/opt/anaconda3/lib/python3.7/site-packages/pandas/core/generic.py\u001b[0m in \u001b[0;36m__getattr__\u001b[0;34m(self, name)\u001b[0m\n\u001b[1;32m   5272\u001b[0m             \u001b[0;32mif\u001b[0m \u001b[0mself\u001b[0m\u001b[0;34m.\u001b[0m\u001b[0m_info_axis\u001b[0m\u001b[0;34m.\u001b[0m\u001b[0m_can_hold_identifiers_and_holds_name\u001b[0m\u001b[0;34m(\u001b[0m\u001b[0mname\u001b[0m\u001b[0;34m)\u001b[0m\u001b[0;34m:\u001b[0m\u001b[0;34m\u001b[0m\u001b[0;34m\u001b[0m\u001b[0m\n\u001b[1;32m   5273\u001b[0m                 \u001b[0;32mreturn\u001b[0m \u001b[0mself\u001b[0m\u001b[0;34m[\u001b[0m\u001b[0mname\u001b[0m\u001b[0;34m]\u001b[0m\u001b[0;34m\u001b[0m\u001b[0;34m\u001b[0m\u001b[0m\n\u001b[0;32m-> 5274\u001b[0;31m             \u001b[0;32mreturn\u001b[0m \u001b[0mobject\u001b[0m\u001b[0;34m.\u001b[0m\u001b[0m__getattribute__\u001b[0m\u001b[0;34m(\u001b[0m\u001b[0mself\u001b[0m\u001b[0;34m,\u001b[0m \u001b[0mname\u001b[0m\u001b[0;34m)\u001b[0m\u001b[0;34m\u001b[0m\u001b[0;34m\u001b[0m\u001b[0m\n\u001b[0m\u001b[1;32m   5275\u001b[0m \u001b[0;34m\u001b[0m\u001b[0m\n\u001b[1;32m   5276\u001b[0m     \u001b[0;32mdef\u001b[0m \u001b[0m__setattr__\u001b[0m\u001b[0;34m(\u001b[0m\u001b[0mself\u001b[0m\u001b[0;34m,\u001b[0m \u001b[0mname\u001b[0m\u001b[0;34m:\u001b[0m \u001b[0mstr\u001b[0m\u001b[0;34m,\u001b[0m \u001b[0mvalue\u001b[0m\u001b[0;34m)\u001b[0m \u001b[0;34m->\u001b[0m \u001b[0;32mNone\u001b[0m\u001b[0;34m:\u001b[0m\u001b[0;34m\u001b[0m\u001b[0;34m\u001b[0m\u001b[0m\n",
      "\u001b[0;31mAttributeError\u001b[0m: 'DataFrame' object has no attribute 'value_counts'"
     ]
    }
   ],
   "source": [
    "data[data.Existcr >=4].value_counts()"
   ]
  },
  {
   "cell_type": "code",
   "execution_count": 21,
   "metadata": {
    "colab": {
     "base_uri": "https://localhost:8080/",
     "height": 351
    },
    "id": "wrfGFzo55n-T",
    "outputId": "d47e3279-7ee0-4495-beff-fa199d0d4d57"
   },
   "outputs": [
    {
     "data": {
      "text/plain": [
       "<matplotlib.axes._subplots.AxesSubplot at 0x7fdc1c784e90>"
      ]
     },
     "execution_count": 21,
     "metadata": {},
     "output_type": "execute_result"
    },
    {
     "data": {
      "image/png": "[encoded data removed]",
      "text/plain": [
       "<Figure size 432x288 with 1 Axes>"
      ]
     },
     "metadata": {
      "needs_background": "light"
     },
     "output_type": "display_data"
    }
   ],
   "source": [
    "sns.boxplot(data['Depends'])"
   ]
  },
  {
   "cell_type": "code",
   "execution_count": 22,
   "metadata": {
    "colab": {
     "base_uri": "https://localhost:8080/"
    },
    "id": "niYuD17h5-G-",
    "outputId": "aa1baa6a-8d23-4777-e0de-0439228ad194"
   },
   "outputs": [
    {
     "ename": "AttributeError",
     "evalue": "'DataFrame' object has no attribute 'value_counts'",
     "output_type": "error",
     "traceback": [
      "\u001b[0;31m---------------------------------------------------------------------------\u001b[0m",
      "\u001b[0;31mAttributeError\u001b[0m                            Traceback (most recent call last)",
      "\u001b[0;32m<ipython-input-22-ee67435b8078>\u001b[0m in \u001b[0;36m<module>\u001b[0;34m\u001b[0m\n\u001b[0;32m----> 1\u001b[0;31m \u001b[0mdata\u001b[0m\u001b[0;34m[\u001b[0m\u001b[0mdata\u001b[0m\u001b[0;34m.\u001b[0m\u001b[0mDepends\u001b[0m \u001b[0;34m>=\u001b[0m\u001b[0;36m2\u001b[0m\u001b[0;34m]\u001b[0m\u001b[0;34m.\u001b[0m\u001b[0mvalue_counts\u001b[0m\u001b[0;34m(\u001b[0m\u001b[0;34m)\u001b[0m\u001b[0;34m\u001b[0m\u001b[0;34m\u001b[0m\u001b[0m\n\u001b[0m",
      "\u001b[0;32m/opt/anaconda3/lib/python3.7/site-packages/pandas/core/generic.py\u001b[0m in \u001b[0;36m__getattr__\u001b[0;34m(self, name)\u001b[0m\n\u001b[1;32m   5272\u001b[0m             \u001b[0;32mif\u001b[0m \u001b[0mself\u001b[0m\u001b[0;34m.\u001b[0m\u001b[0m_info_axis\u001b[0m\u001b[0;34m.\u001b[0m\u001b[0m_can_hold_identifiers_and_holds_name\u001b[0m\u001b[0;34m(\u001b[0m\u001b[0mname\u001b[0m\u001b[0;34m)\u001b[0m\u001b[0;34m:\u001b[0m\u001b[0;34m\u001b[0m\u001b[0;34m\u001b[0m\u001b[0m\n\u001b[1;32m   5273\u001b[0m                 \u001b[0;32mreturn\u001b[0m \u001b[0mself\u001b[0m\u001b[0;34m[\u001b[0m\u001b[0mname\u001b[0m\u001b[0;34m]\u001b[0m\u001b[0;34m\u001b[0m\u001b[0;34m\u001b[0m\u001b[0m\n\u001b[0;32m-> 5274\u001b[0;31m             \u001b[0;32mreturn\u001b[0m \u001b[0mobject\u001b[0m\u001b[0;34m.\u001b[0m\u001b[0m__getattribute__\u001b[0m\u001b[0;34m(\u001b[0m\u001b[0mself\u001b[0m\u001b[0;34m,\u001b[0m \u001b[0mname\u001b[0m\u001b[0;34m)\u001b[0m\u001b[0;34m\u001b[0m\u001b[0;34m\u001b[0m\u001b[0m\n\u001b[0m\u001b[1;32m   5275\u001b[0m \u001b[0;34m\u001b[0m\u001b[0m\n\u001b[1;32m   5276\u001b[0m     \u001b[0;32mdef\u001b[0m \u001b[0m__setattr__\u001b[0m\u001b[0;34m(\u001b[0m\u001b[0mself\u001b[0m\u001b[0;34m,\u001b[0m \u001b[0mname\u001b[0m\u001b[0;34m:\u001b[0m \u001b[0mstr\u001b[0m\u001b[0;34m,\u001b[0m \u001b[0mvalue\u001b[0m\u001b[0;34m)\u001b[0m \u001b[0;34m->\u001b[0m \u001b[0;32mNone\u001b[0m\u001b[0;34m:\u001b[0m\u001b[0;34m\u001b[0m\u001b[0;34m\u001b[0m\u001b[0m\n",
      "\u001b[0;31mAttributeError\u001b[0m: 'DataFrame' object has no attribute 'value_counts'"
     ]
    }
   ],
   "source": [
    "data[data.Depends >=2].value_counts()"
   ]
  },
  {
   "cell_type": "code",
   "execution_count": 23,
   "metadata": {
    "colab": {
     "base_uri": "https://localhost:8080/",
     "height": 351
    },
    "id": "L4OVeu8x5hll",
    "outputId": "b31e0e80-81e8-4432-c8bc-629d3921d2ca"
   },
   "outputs": [
    {
     "data": {
      "text/plain": [
       "<matplotlib.axes._subplots.AxesSubplot at 0x7fdc1c874350>"
      ]
     },
     "execution_count": 23,
     "metadata": {},
     "output_type": "execute_result"
    },
    {
     "data": {
      "image/png": "[encoded data removed]",
      "text/plain": [
       "<Figure size 432x288 with 1 Axes>"
      ]
     },
     "metadata": {
      "needs_background": "light"
     },
     "output_type": "display_data"
    }
   ],
   "source": [
    "sns.boxplot(data['Installp'])"
   ]
  },
  {
   "cell_type": "code",
   "execution_count": 24,
   "metadata": {
    "colab": {
     "base_uri": "https://localhost:8080/",
     "height": 351
    },
    "id": "mG5t6dopgvyO",
    "outputId": "b572424a-01d3-4e42-fb55-58ece24b3f8f"
   },
   "outputs": [
    {
     "data": {
      "text/plain": [
       "<matplotlib.axes._subplots.AxesSubplot at 0x7fdc1c939810>"
      ]
     },
     "execution_count": 24,
     "metadata": {},
     "output_type": "execute_result"
    },
    {
     "data": {
      "image/png": "[encoded data removed]",
      "text/plain": [
       "<Figure size 432x288 with 1 Axes>"
      ]
     },
     "metadata": {
      "needs_background": "light"
     },
     "output_type": "display_data"
    }
   ],
   "source": [
    "sns.boxplot(data['Age'])"
   ]
  },
  {
   "cell_type": "code",
   "execution_count": 25,
   "metadata": {
    "colab": {
     "base_uri": "https://localhost:8080/"
    },
    "id": "7ZtXoyIAipYS",
    "outputId": "398e0798-1995-4b76-b45b-79281160dc8c"
   },
   "outputs": [
    {
     "ename": "AttributeError",
     "evalue": "'DataFrame' object has no attribute 'value_counts'",
     "output_type": "error",
     "traceback": [
      "\u001b[0;31m---------------------------------------------------------------------------\u001b[0m",
      "\u001b[0;31mAttributeError\u001b[0m                            Traceback (most recent call last)",
      "\u001b[0;32m<ipython-input-25-aadbcc22f7bd>\u001b[0m in \u001b[0;36m<module>\u001b[0;34m\u001b[0m\n\u001b[0;32m----> 1\u001b[0;31m \u001b[0mdata\u001b[0m\u001b[0;34m[\u001b[0m\u001b[0mdata\u001b[0m\u001b[0;34m.\u001b[0m\u001b[0mAge\u001b[0m \u001b[0;34m>=\u001b[0m\u001b[0;36m70\u001b[0m\u001b[0;34m]\u001b[0m\u001b[0;34m.\u001b[0m\u001b[0mvalue_counts\u001b[0m\u001b[0;34m(\u001b[0m\u001b[0;34m)\u001b[0m\u001b[0;34m\u001b[0m\u001b[0;34m\u001b[0m\u001b[0m\n\u001b[0m",
      "\u001b[0;32m/opt/anaconda3/lib/python3.7/site-packages/pandas/core/generic.py\u001b[0m in \u001b[0;36m__getattr__\u001b[0;34m(self, name)\u001b[0m\n\u001b[1;32m   5272\u001b[0m             \u001b[0;32mif\u001b[0m \u001b[0mself\u001b[0m\u001b[0;34m.\u001b[0m\u001b[0m_info_axis\u001b[0m\u001b[0;34m.\u001b[0m\u001b[0m_can_hold_identifiers_and_holds_name\u001b[0m\u001b[0;34m(\u001b[0m\u001b[0mname\u001b[0m\u001b[0;34m)\u001b[0m\u001b[0;34m:\u001b[0m\u001b[0;34m\u001b[0m\u001b[0;34m\u001b[0m\u001b[0m\n\u001b[1;32m   5273\u001b[0m                 \u001b[0;32mreturn\u001b[0m \u001b[0mself\u001b[0m\u001b[0;34m[\u001b[0m\u001b[0mname\u001b[0m\u001b[0;34m]\u001b[0m\u001b[0;34m\u001b[0m\u001b[0;34m\u001b[0m\u001b[0m\n\u001b[0;32m-> 5274\u001b[0;31m             \u001b[0;32mreturn\u001b[0m \u001b[0mobject\u001b[0m\u001b[0;34m.\u001b[0m\u001b[0m__getattribute__\u001b[0m\u001b[0;34m(\u001b[0m\u001b[0mself\u001b[0m\u001b[0;34m,\u001b[0m \u001b[0mname\u001b[0m\u001b[0;34m)\u001b[0m\u001b[0;34m\u001b[0m\u001b[0;34m\u001b[0m\u001b[0m\n\u001b[0m\u001b[1;32m   5275\u001b[0m \u001b[0;34m\u001b[0m\u001b[0m\n\u001b[1;32m   5276\u001b[0m     \u001b[0;32mdef\u001b[0m \u001b[0m__setattr__\u001b[0m\u001b[0;34m(\u001b[0m\u001b[0mself\u001b[0m\u001b[0;34m,\u001b[0m \u001b[0mname\u001b[0m\u001b[0;34m:\u001b[0m \u001b[0mstr\u001b[0m\u001b[0;34m,\u001b[0m \u001b[0mvalue\u001b[0m\u001b[0;34m)\u001b[0m \u001b[0;34m->\u001b[0m \u001b[0;32mNone\u001b[0m\u001b[0;34m:\u001b[0m\u001b[0;34m\u001b[0m\u001b[0;34m\u001b[0m\u001b[0m\n",
      "\u001b[0;31mAttributeError\u001b[0m: 'DataFrame' object has no attribute 'value_counts'"
     ]
    }
   ],
   "source": [
    "data[data.Age >=70].value_counts()"
   ]
  },
  {
   "cell_type": "code",
   "execution_count": 26,
   "metadata": {
    "id": "xEbhTL7Br57M"
   },
   "outputs": [],
   "source": [
    "# Removing Outliers\n",
    "data.drop(data[(data['Age'] >= 70)].index, inplace=True)"
   ]
  },
  {
   "cell_type": "code",
   "execution_count": 27,
   "metadata": {
    "colab": {
     "base_uri": "https://localhost:8080/",
     "height": 351
    },
    "id": "GkN4fVrEgxXO",
    "outputId": "33a1d552-3de5-44a1-e5f0-d573101ea632"
   },
   "outputs": [
    {
     "data": {
      "text/plain": [
       "<matplotlib.axes._subplots.AxesSubplot at 0x7fdc1c9f8a90>"
      ]
     },
     "execution_count": 27,
     "metadata": {},
     "output_type": "execute_result"
    },
    {
     "data": {
      "image/png": "[encoded data removed]",
      "text/plain": [
       "<Figure size 432x288 with 1 Axes>"
      ]
     },
     "metadata": {
      "needs_background": "light"
     },
     "output_type": "display_data"
    }
   ],
   "source": [
    "sns.boxplot(data['Amount'])"
   ]
  },
  {
   "cell_type": "code",
   "execution_count": 28,
   "metadata": {
    "colab": {
     "base_uri": "https://localhost:8080/"
    },
    "id": "UQq6X03xi0pb",
    "outputId": "38734d8d-8bc3-4ae1-e1b7-47a4d9e95dd8"
   },
   "outputs": [
    {
     "ename": "AttributeError",
     "evalue": "'DataFrame' object has no attribute 'value_counts'",
     "output_type": "error",
     "traceback": [
      "\u001b[0;31m---------------------------------------------------------------------------\u001b[0m",
      "\u001b[0;31mAttributeError\u001b[0m                            Traceback (most recent call last)",
      "\u001b[0;32m<ipython-input-28-10d7c813dfb8>\u001b[0m in \u001b[0;36m<module>\u001b[0;34m\u001b[0m\n\u001b[0;32m----> 1\u001b[0;31m \u001b[0mdata\u001b[0m\u001b[0;34m[\u001b[0m\u001b[0mdata\u001b[0m\u001b[0;34m.\u001b[0m\u001b[0mAmount\u001b[0m \u001b[0;34m>=\u001b[0m\u001b[0;36m17500\u001b[0m\u001b[0;34m]\u001b[0m\u001b[0;34m.\u001b[0m\u001b[0mvalue_counts\u001b[0m\u001b[0;34m(\u001b[0m\u001b[0;34m)\u001b[0m\u001b[0;34m\u001b[0m\u001b[0;34m\u001b[0m\u001b[0m\n\u001b[0m",
      "\u001b[0;32m/opt/anaconda3/lib/python3.7/site-packages/pandas/core/generic.py\u001b[0m in \u001b[0;36m__getattr__\u001b[0;34m(self, name)\u001b[0m\n\u001b[1;32m   5272\u001b[0m             \u001b[0;32mif\u001b[0m \u001b[0mself\u001b[0m\u001b[0;34m.\u001b[0m\u001b[0m_info_axis\u001b[0m\u001b[0;34m.\u001b[0m\u001b[0m_can_hold_identifiers_and_holds_name\u001b[0m\u001b[0;34m(\u001b[0m\u001b[0mname\u001b[0m\u001b[0;34m)\u001b[0m\u001b[0;34m:\u001b[0m\u001b[0;34m\u001b[0m\u001b[0;34m\u001b[0m\u001b[0m\n\u001b[1;32m   5273\u001b[0m                 \u001b[0;32mreturn\u001b[0m \u001b[0mself\u001b[0m\u001b[0;34m[\u001b[0m\u001b[0mname\u001b[0m\u001b[0;34m]\u001b[0m\u001b[0;34m\u001b[0m\u001b[0;34m\u001b[0m\u001b[0m\n\u001b[0;32m-> 5274\u001b[0;31m             \u001b[0;32mreturn\u001b[0m \u001b[0mobject\u001b[0m\u001b[0;34m.\u001b[0m\u001b[0m__getattribute__\u001b[0m\u001b[0;34m(\u001b[0m\u001b[0mself\u001b[0m\u001b[0;34m,\u001b[0m \u001b[0mname\u001b[0m\u001b[0;34m)\u001b[0m\u001b[0;34m\u001b[0m\u001b[0;34m\u001b[0m\u001b[0m\n\u001b[0m\u001b[1;32m   5275\u001b[0m \u001b[0;34m\u001b[0m\u001b[0m\n\u001b[1;32m   5276\u001b[0m     \u001b[0;32mdef\u001b[0m \u001b[0m__setattr__\u001b[0m\u001b[0;34m(\u001b[0m\u001b[0mself\u001b[0m\u001b[0;34m,\u001b[0m \u001b[0mname\u001b[0m\u001b[0;34m:\u001b[0m \u001b[0mstr\u001b[0m\u001b[0;34m,\u001b[0m \u001b[0mvalue\u001b[0m\u001b[0;34m)\u001b[0m \u001b[0;34m->\u001b[0m \u001b[0;32mNone\u001b[0m\u001b[0;34m:\u001b[0m\u001b[0;34m\u001b[0m\u001b[0;34m\u001b[0m\u001b[0m\n",
      "\u001b[0;31mAttributeError\u001b[0m: 'DataFrame' object has no attribute 'value_counts'"
     ]
    }
   ],
   "source": [
    "data[data.Amount >=17500].value_counts()"
   ]
  },
  {
   "cell_type": "code",
   "execution_count": 29,
   "metadata": {
    "id": "NBRSvsZdr-Qj"
   },
   "outputs": [],
   "source": [
    "# Removing Outliers\n",
    "data.drop(data[(data['Amount'] >= 17500)].index, inplace=True)"
   ]
  },
  {
   "cell_type": "code",
   "execution_count": 30,
   "metadata": {
    "id": "dWB670tsjS_a"
   },
   "outputs": [],
   "source": [
    "# It is clear from these observations that there are certain outliers that need to be removed from the columns: DURATION, AMOUNT, AGE since their max values are quite\n",
    "# large compartively to the mean values of these columns. Likewise, the boxplots also clearly show some values allowing for discrepency in the data"
   ]
  },
  {
   "cell_type": "code",
   "execution_count": 31,
   "metadata": {
    "colab": {
     "base_uri": "https://localhost:8080/"
    },
    "id": "1e-lVlxyRE2W",
    "outputId": "927c2d0b-87f0-42a4-8b48-9fb24658d9a0"
   },
   "outputs": [
    {
     "name": "stdout",
     "output_type": "stream",
     "text": [
      "<class 'pandas.core.frame.DataFrame'>\n",
      "Int64Index: 978 entries, 0 to 999\n",
      "Data columns (total 21 columns):\n",
      " #   Column     Non-Null Count  Dtype \n",
      "---  ------     --------------  ----- \n",
      " 0   Checking   978 non-null    object\n",
      " 1   Duration   978 non-null    int64 \n",
      " 2   History    978 non-null    object\n",
      " 3   Purpose    978 non-null    object\n",
      " 4   Amount     978 non-null    int64 \n",
      " 5   Savings    978 non-null    object\n",
      " 6   Emploed    978 non-null    object\n",
      " 7   Installp   978 non-null    int64 \n",
      " 8   marital    978 non-null    object\n",
      " 9   Coapp      978 non-null    int64 \n",
      " 10  Resident   978 non-null    int64 \n",
      " 11  Property   978 non-null    object\n",
      " 12  Age        978 non-null    int64 \n",
      " 13  Other      978 non-null    object\n",
      " 14  housing    978 non-null    object\n",
      " 15  Existcr    978 non-null    int64 \n",
      " 16  Job        978 non-null    object\n",
      " 17  Depends    978 non-null    int64 \n",
      " 18  Telephone  978 non-null    object\n",
      " 19  Foreign    978 non-null    object\n",
      " 20  Good       978 non-null    int64 \n",
      "dtypes: int64(9), object(12)\n",
      "memory usage: 168.1+ KB\n"
     ]
    }
   ],
   "source": [
    "data['Checking'] = data['Checking'].values.astype(str)\n",
    "data['History'] = data['History'].values.astype(str)\n",
    "data['Purpose'] = data['Purpose'].values.astype(str)\n",
    "data['Savings'] = data['Savings'].values.astype(str)\n",
    "data['Emploed'] = data['Emploed'].values.astype(str)\n",
    "data['marital'] = data['marital'].values.astype(str)\n",
    "data['Property'] = data['Property'].values.astype(str)\n",
    "data['Other'] = data['Other'].values.astype(str)\n",
    "data['housing'] = data['housing'].values.astype(str)\n",
    "data['Job'] = data['Job'].values.astype(str)\n",
    "data['Telephone'] = data['Telephone'].values.astype(str)\n",
    "data['Foreign'] = data['Foreign'].values.astype(str)\n",
    "data.info()"
   ]
  },
  {
   "cell_type": "code",
   "execution_count": 32,
   "metadata": {
    "id": "kPLSh-E6WIzW"
   },
   "outputs": [],
   "source": [
    "data = data.replace(r'^\\s*$', np.nan, regex=True)"
   ]
  },
  {
   "cell_type": "code",
   "execution_count": 38,
   "metadata": {
    "colab": {
     "base_uri": "https://localhost:8080/",
     "height": 235
    },
    "id": "f1gJD2bKxPQC",
    "outputId": "7429dacc-9d95-4230-f783-6b56763dddfd"
   },
   "outputs": [
    {
     "data": {
      "text/html": [
       "<div>\n",
       "<style scoped>\n",
       "    .dataframe tbody tr th:only-of-type {\n",
       "        vertical-align: middle;\n",
       "    }\n",
       "\n",
       "    .dataframe tbody tr th {\n",
       "        vertical-align: top;\n",
       "    }\n",
       "\n",
       "    .dataframe thead th {\n",
       "        text-align: right;\n",
       "    }\n",
       "</style>\n",
       "<table border=\"1\" class=\"dataframe\">\n",
       "  <thead>\n",
       "    <tr style=\"text-align: right;\">\n",
       "      <th></th>\n",
       "      <th>Checking</th>\n",
       "      <th>Duration</th>\n",
       "      <th>History</th>\n",
       "      <th>Purpose</th>\n",
       "      <th>Amount</th>\n",
       "      <th>Savings</th>\n",
       "      <th>Emploed</th>\n",
       "      <th>Installp</th>\n",
       "      <th>marital</th>\n",
       "      <th>Coapp</th>\n",
       "      <th>...</th>\n",
       "      <th>Property</th>\n",
       "      <th>Age</th>\n",
       "      <th>Other</th>\n",
       "      <th>housing</th>\n",
       "      <th>Existcr</th>\n",
       "      <th>Job</th>\n",
       "      <th>Depends</th>\n",
       "      <th>Telephone</th>\n",
       "      <th>Foreign</th>\n",
       "      <th>Good</th>\n",
       "    </tr>\n",
       "  </thead>\n",
       "  <tbody>\n",
       "    <tr>\n",
       "      <th>0</th>\n",
       "      <td>1</td>\n",
       "      <td>6</td>\n",
       "      <td>4</td>\n",
       "      <td>3</td>\n",
       "      <td>1169</td>\n",
       "      <td>5</td>\n",
       "      <td>5</td>\n",
       "      <td>4</td>\n",
       "      <td>3</td>\n",
       "      <td>1</td>\n",
       "      <td>...</td>\n",
       "      <td>1</td>\n",
       "      <td>67</td>\n",
       "      <td>3</td>\n",
       "      <td>2</td>\n",
       "      <td>2</td>\n",
       "      <td>3</td>\n",
       "      <td>1</td>\n",
       "      <td>2</td>\n",
       "      <td>1</td>\n",
       "      <td>1</td>\n",
       "    </tr>\n",
       "    <tr>\n",
       "      <th>2</th>\n",
       "      <td>4</td>\n",
       "      <td>12</td>\n",
       "      <td>4</td>\n",
       "      <td>6</td>\n",
       "      <td>2096</td>\n",
       "      <td>1</td>\n",
       "      <td>4</td>\n",
       "      <td>2</td>\n",
       "      <td>3</td>\n",
       "      <td>1</td>\n",
       "      <td>...</td>\n",
       "      <td>1</td>\n",
       "      <td>49</td>\n",
       "      <td>3</td>\n",
       "      <td>2</td>\n",
       "      <td>1</td>\n",
       "      <td>2</td>\n",
       "      <td>2</td>\n",
       "      <td>1</td>\n",
       "      <td>1</td>\n",
       "      <td>1</td>\n",
       "    </tr>\n",
       "    <tr>\n",
       "      <th>8</th>\n",
       "      <td>4</td>\n",
       "      <td>12</td>\n",
       "      <td>2</td>\n",
       "      <td>3</td>\n",
       "      <td>3059</td>\n",
       "      <td>4</td>\n",
       "      <td>4</td>\n",
       "      <td>2</td>\n",
       "      <td>1</td>\n",
       "      <td>1</td>\n",
       "      <td>...</td>\n",
       "      <td>1</td>\n",
       "      <td>61</td>\n",
       "      <td>3</td>\n",
       "      <td>2</td>\n",
       "      <td>1</td>\n",
       "      <td>2</td>\n",
       "      <td>1</td>\n",
       "      <td>1</td>\n",
       "      <td>1</td>\n",
       "      <td>1</td>\n",
       "    </tr>\n",
       "    <tr>\n",
       "      <th>10</th>\n",
       "      <td>2</td>\n",
       "      <td>12</td>\n",
       "      <td>2</td>\n",
       "      <td>0</td>\n",
       "      <td>1295</td>\n",
       "      <td>1</td>\n",
       "      <td>2</td>\n",
       "      <td>3</td>\n",
       "      <td>2</td>\n",
       "      <td>1</td>\n",
       "      <td>...</td>\n",
       "      <td>3</td>\n",
       "      <td>25</td>\n",
       "      <td>3</td>\n",
       "      <td>1</td>\n",
       "      <td>1</td>\n",
       "      <td>3</td>\n",
       "      <td>1</td>\n",
       "      <td>1</td>\n",
       "      <td>1</td>\n",
       "      <td>0</td>\n",
       "    </tr>\n",
       "    <tr>\n",
       "      <th>12</th>\n",
       "      <td>2</td>\n",
       "      <td>12</td>\n",
       "      <td>2</td>\n",
       "      <td>3</td>\n",
       "      <td>1567</td>\n",
       "      <td>1</td>\n",
       "      <td>3</td>\n",
       "      <td>1</td>\n",
       "      <td>2</td>\n",
       "      <td>1</td>\n",
       "      <td>...</td>\n",
       "      <td>3</td>\n",
       "      <td>22</td>\n",
       "      <td>3</td>\n",
       "      <td>2</td>\n",
       "      <td>1</td>\n",
       "      <td>3</td>\n",
       "      <td>1</td>\n",
       "      <td>2</td>\n",
       "      <td>1</td>\n",
       "      <td>1</td>\n",
       "    </tr>\n",
       "  </tbody>\n",
       "</table>\n",
       "<p>5 rows × 21 columns</p>\n",
       "</div>"
      ],
      "text/plain": [
       "   Checking  Duration History Purpose  Amount Savings Emploed  Installp  \\\n",
       "0         1         6       4       3    1169       5       5         4   \n",
       "2         4        12       4       6    2096       1       4         2   \n",
       "8         4        12       2       3    3059       4       4         2   \n",
       "10        2        12       2       0    1295       1       2         3   \n",
       "12        2        12       2       3    1567       1       3         1   \n",
       "\n",
       "   marital  Coapp  ...  Property Age  Other housing Existcr  Job Depends  \\\n",
       "0        3      1  ...         1  67      3       2       2    3       1   \n",
       "2        3      1  ...         1  49      3       2       1    2       2   \n",
       "8        1      1  ...         1  61      3       2       1    2       1   \n",
       "10       2      1  ...         3  25      3       1       1    3       1   \n",
       "12       2      1  ...         3  22      3       2       1    3       1   \n",
       "\n",
       "    Telephone Foreign Good  \n",
       "0           2       1    1  \n",
       "2           1       1    1  \n",
       "8           1       1    1  \n",
       "10          1       1    0  \n",
       "12          2       1    1  \n",
       "\n",
       "[5 rows x 21 columns]"
      ]
     },
     "execution_count": 38,
     "metadata": {},
     "output_type": "execute_result"
    }
   ],
   "source": [
    "# Question 1 : Split dataset to <=12 months and >12 months\n",
    "\n",
    "data1 = data[data.Duration <= 12]\n",
    "data2 = data[data.Duration > 12]\n",
    "data1.head()"
   ]
  },
  {
   "cell_type": "code",
   "execution_count": 39,
   "metadata": {
    "colab": {
     "base_uri": "https://localhost:8080/",
     "height": 235
    },
    "id": "iPo2qQdEyH7e",
    "outputId": "c1f31c39-4471-45fc-9bb4-894b479f4c1e"
   },
   "outputs": [
    {
     "data": {
      "text/html": [
       "<div>\n",
       "<style scoped>\n",
       "    .dataframe tbody tr th:only-of-type {\n",
       "        vertical-align: middle;\n",
       "    }\n",
       "\n",
       "    .dataframe tbody tr th {\n",
       "        vertical-align: top;\n",
       "    }\n",
       "\n",
       "    .dataframe thead th {\n",
       "        text-align: right;\n",
       "    }\n",
       "</style>\n",
       "<table border=\"1\" class=\"dataframe\">\n",
       "  <thead>\n",
       "    <tr style=\"text-align: right;\">\n",
       "      <th></th>\n",
       "      <th>Checking</th>\n",
       "      <th>Duration</th>\n",
       "      <th>History</th>\n",
       "      <th>Purpose</th>\n",
       "      <th>Amount</th>\n",
       "      <th>Savings</th>\n",
       "      <th>Emploed</th>\n",
       "      <th>Installp</th>\n",
       "      <th>marital</th>\n",
       "      <th>Coapp</th>\n",
       "      <th>...</th>\n",
       "      <th>Property</th>\n",
       "      <th>Age</th>\n",
       "      <th>Other</th>\n",
       "      <th>housing</th>\n",
       "      <th>Existcr</th>\n",
       "      <th>Job</th>\n",
       "      <th>Depends</th>\n",
       "      <th>Telephone</th>\n",
       "      <th>Foreign</th>\n",
       "      <th>Good</th>\n",
       "    </tr>\n",
       "  </thead>\n",
       "  <tbody>\n",
       "    <tr>\n",
       "      <th>1</th>\n",
       "      <td>2</td>\n",
       "      <td>48</td>\n",
       "      <td>2</td>\n",
       "      <td>3</td>\n",
       "      <td>5951</td>\n",
       "      <td>1</td>\n",
       "      <td>3</td>\n",
       "      <td>2</td>\n",
       "      <td>2</td>\n",
       "      <td>1</td>\n",
       "      <td>...</td>\n",
       "      <td>1</td>\n",
       "      <td>22</td>\n",
       "      <td>3</td>\n",
       "      <td>2</td>\n",
       "      <td>1</td>\n",
       "      <td>3</td>\n",
       "      <td>1</td>\n",
       "      <td>1</td>\n",
       "      <td>1</td>\n",
       "      <td>0</td>\n",
       "    </tr>\n",
       "    <tr>\n",
       "      <th>3</th>\n",
       "      <td>1</td>\n",
       "      <td>42</td>\n",
       "      <td>2</td>\n",
       "      <td>2</td>\n",
       "      <td>7882</td>\n",
       "      <td>1</td>\n",
       "      <td>4</td>\n",
       "      <td>2</td>\n",
       "      <td>3</td>\n",
       "      <td>3</td>\n",
       "      <td>...</td>\n",
       "      <td>2</td>\n",
       "      <td>45</td>\n",
       "      <td>3</td>\n",
       "      <td>3</td>\n",
       "      <td>1</td>\n",
       "      <td>3</td>\n",
       "      <td>2</td>\n",
       "      <td>1</td>\n",
       "      <td>1</td>\n",
       "      <td>1</td>\n",
       "    </tr>\n",
       "    <tr>\n",
       "      <th>4</th>\n",
       "      <td>1</td>\n",
       "      <td>24</td>\n",
       "      <td>3</td>\n",
       "      <td>0</td>\n",
       "      <td>4870</td>\n",
       "      <td>1</td>\n",
       "      <td>3</td>\n",
       "      <td>3</td>\n",
       "      <td>3</td>\n",
       "      <td>1</td>\n",
       "      <td>...</td>\n",
       "      <td>4</td>\n",
       "      <td>53</td>\n",
       "      <td>3</td>\n",
       "      <td>3</td>\n",
       "      <td>2</td>\n",
       "      <td>3</td>\n",
       "      <td>2</td>\n",
       "      <td>1</td>\n",
       "      <td>1</td>\n",
       "      <td>0</td>\n",
       "    </tr>\n",
       "    <tr>\n",
       "      <th>5</th>\n",
       "      <td>4</td>\n",
       "      <td>36</td>\n",
       "      <td>2</td>\n",
       "      <td>6</td>\n",
       "      <td>9055</td>\n",
       "      <td>5</td>\n",
       "      <td>3</td>\n",
       "      <td>2</td>\n",
       "      <td>3</td>\n",
       "      <td>1</td>\n",
       "      <td>...</td>\n",
       "      <td>4</td>\n",
       "      <td>35</td>\n",
       "      <td>3</td>\n",
       "      <td>3</td>\n",
       "      <td>1</td>\n",
       "      <td>2</td>\n",
       "      <td>2</td>\n",
       "      <td>2</td>\n",
       "      <td>1</td>\n",
       "      <td>1</td>\n",
       "    </tr>\n",
       "    <tr>\n",
       "      <th>6</th>\n",
       "      <td>4</td>\n",
       "      <td>24</td>\n",
       "      <td>2</td>\n",
       "      <td>2</td>\n",
       "      <td>2835</td>\n",
       "      <td>3</td>\n",
       "      <td>5</td>\n",
       "      <td>3</td>\n",
       "      <td>3</td>\n",
       "      <td>1</td>\n",
       "      <td>...</td>\n",
       "      <td>2</td>\n",
       "      <td>53</td>\n",
       "      <td>3</td>\n",
       "      <td>2</td>\n",
       "      <td>1</td>\n",
       "      <td>3</td>\n",
       "      <td>1</td>\n",
       "      <td>1</td>\n",
       "      <td>1</td>\n",
       "      <td>1</td>\n",
       "    </tr>\n",
       "  </tbody>\n",
       "</table>\n",
       "<p>5 rows × 21 columns</p>\n",
       "</div>"
      ],
      "text/plain": [
       "  Checking  Duration History Purpose  Amount Savings Emploed  Installp  \\\n",
       "1        2        48       2       3    5951       1       3         2   \n",
       "3        1        42       2       2    7882       1       4         2   \n",
       "4        1        24       3       0    4870       1       3         3   \n",
       "5        4        36       2       6    9055       5       3         2   \n",
       "6        4        24       2       2    2835       3       5         3   \n",
       "\n",
       "  marital  Coapp  ...  Property Age  Other housing Existcr  Job Depends  \\\n",
       "1       2      1  ...         1  22      3       2       1    3       1   \n",
       "3       3      3  ...         2  45      3       3       1    3       2   \n",
       "4       3      1  ...         4  53      3       3       2    3       2   \n",
       "5       3      1  ...         4  35      3       3       1    2       2   \n",
       "6       3      1  ...         2  53      3       2       1    3       1   \n",
       "\n",
       "   Telephone Foreign Good  \n",
       "1          1       1    0  \n",
       "3          1       1    1  \n",
       "4          1       1    0  \n",
       "5          2       1    1  \n",
       "6          1       1    1  \n",
       "\n",
       "[5 rows x 21 columns]"
      ]
     },
     "execution_count": 39,
     "metadata": {},
     "output_type": "execute_result"
    }
   ],
   "source": [
    "data2.head()"
   ]
  },
  {
   "cell_type": "code",
   "execution_count": 40,
   "metadata": {
    "colab": {
     "base_uri": "https://localhost:8080/"
    },
    "id": "u7NK1LT_yRmT",
    "outputId": "00223a7b-c0c3-48e1-8c17-f376b2a08756"
   },
   "outputs": [
    {
     "data": {
      "text/plain": [
       "Index(['Checking', 'Duration', 'History', 'Purpose', 'Amount', 'Savings',\n",
       "       'Emploed', 'Installp', 'marital', 'Coapp', 'Resident', 'Property',\n",
       "       'Age', 'Other', 'housing', 'Existcr', 'Job', 'Depends', 'Telephone',\n",
       "       'Foreign', 'Good'],\n",
       "      dtype='object')"
      ]
     },
     "execution_count": 40,
     "metadata": {},
     "output_type": "execute_result"
    }
   ],
   "source": [
    "data2.columns"
   ]
  },
  {
   "cell_type": "code",
   "execution_count": 41,
   "metadata": {
    "colab": {
     "base_uri": "https://localhost:8080/"
    },
    "id": "rcuieT41XLNb",
    "outputId": "7c03d60a-3396-4a8d-c75c-30e19433e0e9"
   },
   "outputs": [
    {
     "data": {
      "text/plain": [
       "(978, 21)"
      ]
     },
     "execution_count": 41,
     "metadata": {},
     "output_type": "execute_result"
    }
   ],
   "source": [
    "data.shape"
   ]
  },
  {
   "cell_type": "code",
   "execution_count": 42,
   "metadata": {
    "colab": {
     "base_uri": "https://localhost:8080/"
    },
    "id": "hq4MBosIXKSr",
    "outputId": "7a2c32f6-53dc-411b-8d05-b986a4b59b94"
   },
   "outputs": [
    {
     "data": {
      "text/plain": [
       "(354, 21)"
      ]
     },
     "execution_count": 42,
     "metadata": {},
     "output_type": "execute_result"
    }
   ],
   "source": [
    "data1.shape"
   ]
  },
  {
   "cell_type": "code",
   "execution_count": 43,
   "metadata": {
    "colab": {
     "base_uri": "https://localhost:8080/"
    },
    "id": "8c4ysmovWx98",
    "outputId": "9e124b2d-de73-480a-986f-09d9c1c9f342"
   },
   "outputs": [
    {
     "name": "stdout",
     "output_type": "stream",
     "text": [
      "[INFO] filtering variables ...\n"
     ]
    }
   ],
   "source": [
    "# Feature filter and make target variable \"0/1\"\n",
    "data1 = sc.var_filter(data1, y=\"Good\")"
   ]
  },
  {
   "cell_type": "code",
   "execution_count": 46,
   "metadata": {
    "id": "6EO1ykM9hwFA"
   },
   "outputs": [],
   "source": [
    "# Question 2 : Split the data to Train and Test set\n",
    "# Getting Independent and Dependent Variables for Subset 1\n",
    "\n",
    "x1 = data1.loc[:,data1.columns != 'Good']\n",
    "y1 = data1.loc[:,data1.columns == 'Good']"
   ]
  },
  {
   "cell_type": "code",
   "execution_count": 80,
   "metadata": {
    "colab": {
     "base_uri": "https://localhost:8080/"
    },
    "id": "m-deFbJ__sVy",
    "outputId": "f3dd4381-a11b-492a-9b67-c55d56e7df4f"
   },
   "outputs": [
    {
     "data": {
      "text/html": [
       "<div>\n",
       "<style scoped>\n",
       "    .dataframe tbody tr th:only-of-type {\n",
       "        vertical-align: middle;\n",
       "    }\n",
       "\n",
       "    .dataframe tbody tr th {\n",
       "        vertical-align: top;\n",
       "    }\n",
       "\n",
       "    .dataframe thead th {\n",
       "        text-align: right;\n",
       "    }\n",
       "</style>\n",
       "<table border=\"1\" class=\"dataframe\">\n",
       "  <thead>\n",
       "    <tr style=\"text-align: right;\">\n",
       "      <th></th>\n",
       "      <th>History</th>\n",
       "      <th>Other</th>\n",
       "      <th>Installp</th>\n",
       "      <th>Duration</th>\n",
       "      <th>Resident</th>\n",
       "      <th>Emploed</th>\n",
       "      <th>Purpose</th>\n",
       "      <th>Age</th>\n",
       "      <th>Coapp</th>\n",
       "      <th>Amount</th>\n",
       "      <th>Checking</th>\n",
       "      <th>Foreign</th>\n",
       "      <th>Property</th>\n",
       "      <th>Depends</th>\n",
       "      <th>housing</th>\n",
       "      <th>marital</th>\n",
       "      <th>Savings</th>\n",
       "      <th>Existcr</th>\n",
       "    </tr>\n",
       "  </thead>\n",
       "  <tbody>\n",
       "    <tr>\n",
       "      <th>732</th>\n",
       "      <td>2</td>\n",
       "      <td>3</td>\n",
       "      <td>4</td>\n",
       "      <td>8</td>\n",
       "      <td>2</td>\n",
       "      <td>4</td>\n",
       "      <td>3</td>\n",
       "      <td>44</td>\n",
       "      <td>3</td>\n",
       "      <td>760</td>\n",
       "      <td>2</td>\n",
       "      <td>1</td>\n",
       "      <td>1</td>\n",
       "      <td>1</td>\n",
       "      <td>2</td>\n",
       "      <td>2</td>\n",
       "      <td>1</td>\n",
       "      <td>1</td>\n",
       "    </tr>\n",
       "    <tr>\n",
       "      <th>305</th>\n",
       "      <td>2</td>\n",
       "      <td>3</td>\n",
       "      <td>4</td>\n",
       "      <td>6</td>\n",
       "      <td>2</td>\n",
       "      <td>3</td>\n",
       "      <td>2</td>\n",
       "      <td>33</td>\n",
       "      <td>1</td>\n",
       "      <td>1543</td>\n",
       "      <td>4</td>\n",
       "      <td>1</td>\n",
       "      <td>1</td>\n",
       "      <td>1</td>\n",
       "      <td>2</td>\n",
       "      <td>1</td>\n",
       "      <td>4</td>\n",
       "      <td>1</td>\n",
       "    </tr>\n",
       "    <tr>\n",
       "      <th>436</th>\n",
       "      <td>2</td>\n",
       "      <td>3</td>\n",
       "      <td>2</td>\n",
       "      <td>6</td>\n",
       "      <td>4</td>\n",
       "      <td>4</td>\n",
       "      <td>5</td>\n",
       "      <td>23</td>\n",
       "      <td>1</td>\n",
       "      <td>660</td>\n",
       "      <td>4</td>\n",
       "      <td>1</td>\n",
       "      <td>1</td>\n",
       "      <td>1</td>\n",
       "      <td>1</td>\n",
       "      <td>4</td>\n",
       "      <td>3</td>\n",
       "      <td>1</td>\n",
       "    </tr>\n",
       "    <tr>\n",
       "      <th>797</th>\n",
       "      <td>4</td>\n",
       "      <td>3</td>\n",
       "      <td>2</td>\n",
       "      <td>12</td>\n",
       "      <td>4</td>\n",
       "      <td>2</td>\n",
       "      <td>2</td>\n",
       "      <td>22</td>\n",
       "      <td>1</td>\n",
       "      <td>1258</td>\n",
       "      <td>4</td>\n",
       "      <td>1</td>\n",
       "      <td>2</td>\n",
       "      <td>1</td>\n",
       "      <td>1</td>\n",
       "      <td>2</td>\n",
       "      <td>1</td>\n",
       "      <td>2</td>\n",
       "    </tr>\n",
       "    <tr>\n",
       "      <th>358</th>\n",
       "      <td>2</td>\n",
       "      <td>3</td>\n",
       "      <td>4</td>\n",
       "      <td>12</td>\n",
       "      <td>2</td>\n",
       "      <td>3</td>\n",
       "      <td>3</td>\n",
       "      <td>28</td>\n",
       "      <td>1</td>\n",
       "      <td>776</td>\n",
       "      <td>4</td>\n",
       "      <td>1</td>\n",
       "      <td>1</td>\n",
       "      <td>1</td>\n",
       "      <td>2</td>\n",
       "      <td>4</td>\n",
       "      <td>1</td>\n",
       "      <td>1</td>\n",
       "    </tr>\n",
       "    <tr>\n",
       "      <th>...</th>\n",
       "      <td>...</td>\n",
       "      <td>...</td>\n",
       "      <td>...</td>\n",
       "      <td>...</td>\n",
       "      <td>...</td>\n",
       "      <td>...</td>\n",
       "      <td>...</td>\n",
       "      <td>...</td>\n",
       "      <td>...</td>\n",
       "      <td>...</td>\n",
       "      <td>...</td>\n",
       "      <td>...</td>\n",
       "      <td>...</td>\n",
       "      <td>...</td>\n",
       "      <td>...</td>\n",
       "      <td>...</td>\n",
       "      <td>...</td>\n",
       "      <td>...</td>\n",
       "    </tr>\n",
       "    <tr>\n",
       "      <th>892</th>\n",
       "      <td>4</td>\n",
       "      <td>1</td>\n",
       "      <td>4</td>\n",
       "      <td>12</td>\n",
       "      <td>4</td>\n",
       "      <td>3</td>\n",
       "      <td>0</td>\n",
       "      <td>38</td>\n",
       "      <td>1</td>\n",
       "      <td>2171</td>\n",
       "      <td>1</td>\n",
       "      <td>2</td>\n",
       "      <td>2</td>\n",
       "      <td>1</td>\n",
       "      <td>2</td>\n",
       "      <td>3</td>\n",
       "      <td>1</td>\n",
       "      <td>2</td>\n",
       "    </tr>\n",
       "    <tr>\n",
       "      <th>485</th>\n",
       "      <td>3</td>\n",
       "      <td>3</td>\n",
       "      <td>4</td>\n",
       "      <td>6</td>\n",
       "      <td>4</td>\n",
       "      <td>1</td>\n",
       "      <td>0</td>\n",
       "      <td>47</td>\n",
       "      <td>1</td>\n",
       "      <td>1209</td>\n",
       "      <td>2</td>\n",
       "      <td>1</td>\n",
       "      <td>2</td>\n",
       "      <td>1</td>\n",
       "      <td>2</td>\n",
       "      <td>3</td>\n",
       "      <td>1</td>\n",
       "      <td>1</td>\n",
       "    </tr>\n",
       "    <tr>\n",
       "      <th>281</th>\n",
       "      <td>2</td>\n",
       "      <td>3</td>\n",
       "      <td>4</td>\n",
       "      <td>12</td>\n",
       "      <td>2</td>\n",
       "      <td>3</td>\n",
       "      <td>2</td>\n",
       "      <td>50</td>\n",
       "      <td>1</td>\n",
       "      <td>1574</td>\n",
       "      <td>4</td>\n",
       "      <td>1</td>\n",
       "      <td>1</td>\n",
       "      <td>1</td>\n",
       "      <td>2</td>\n",
       "      <td>3</td>\n",
       "      <td>1</td>\n",
       "      <td>1</td>\n",
       "    </tr>\n",
       "    <tr>\n",
       "      <th>117</th>\n",
       "      <td>4</td>\n",
       "      <td>3</td>\n",
       "      <td>2</td>\n",
       "      <td>10</td>\n",
       "      <td>3</td>\n",
       "      <td>2</td>\n",
       "      <td>2</td>\n",
       "      <td>27</td>\n",
       "      <td>2</td>\n",
       "      <td>2132</td>\n",
       "      <td>1</td>\n",
       "      <td>2</td>\n",
       "      <td>1</td>\n",
       "      <td>1</td>\n",
       "      <td>1</td>\n",
       "      <td>2</td>\n",
       "      <td>5</td>\n",
       "      <td>2</td>\n",
       "    </tr>\n",
       "    <tr>\n",
       "      <th>439</th>\n",
       "      <td>1</td>\n",
       "      <td>3</td>\n",
       "      <td>4</td>\n",
       "      <td>12</td>\n",
       "      <td>1</td>\n",
       "      <td>2</td>\n",
       "      <td>9</td>\n",
       "      <td>26</td>\n",
       "      <td>1</td>\n",
       "      <td>609</td>\n",
       "      <td>3</td>\n",
       "      <td>1</td>\n",
       "      <td>1</td>\n",
       "      <td>1</td>\n",
       "      <td>2</td>\n",
       "      <td>2</td>\n",
       "      <td>1</td>\n",
       "      <td>1</td>\n",
       "    </tr>\n",
       "  </tbody>\n",
       "</table>\n",
       "<p>247 rows × 18 columns</p>\n",
       "</div>"
      ],
      "text/plain": [
       "    History Other  Installp  Duration  Resident Emploed Purpose  Age  Coapp  \\\n",
       "732       2     3         4         8         2       4       3   44      3   \n",
       "305       2     3         4         6         2       3       2   33      1   \n",
       "436       2     3         2         6         4       4       5   23      1   \n",
       "797       4     3         2        12         4       2       2   22      1   \n",
       "358       2     3         4        12         2       3       3   28      1   \n",
       "..      ...   ...       ...       ...       ...     ...     ...  ...    ...   \n",
       "892       4     1         4        12         4       3       0   38      1   \n",
       "485       3     3         4         6         4       1       0   47      1   \n",
       "281       2     3         4        12         2       3       2   50      1   \n",
       "117       4     3         2        10         3       2       2   27      2   \n",
       "439       1     3         4        12         1       2       9   26      1   \n",
       "\n",
       "     Amount Checking Foreign Property  Depends housing marital Savings  \\\n",
       "732     760        2       1        1        1       2       2       1   \n",
       "305    1543        4       1        1        1       2       1       4   \n",
       "436     660        4       1        1        1       1       4       3   \n",
       "797    1258        4       1        2        1       1       2       1   \n",
       "358     776        4       1        1        1       2       4       1   \n",
       "..      ...      ...     ...      ...      ...     ...     ...     ...   \n",
       "892    2171        1       2        2        1       2       3       1   \n",
       "485    1209        2       1        2        1       2       3       1   \n",
       "281    1574        4       1        1        1       2       3       1   \n",
       "117    2132        1       2        1        1       1       2       5   \n",
       "439     609        3       1        1        1       2       2       1   \n",
       "\n",
       "     Existcr  \n",
       "732        1  \n",
       "305        1  \n",
       "436        1  \n",
       "797        2  \n",
       "358        1  \n",
       "..       ...  \n",
       "892        2  \n",
       "485        1  \n",
       "281        1  \n",
       "117        2  \n",
       "439        1  \n",
       "\n",
       "[247 rows x 18 columns]"
      ]
     },
     "execution_count": 80,
     "metadata": {},
     "output_type": "execute_result"
    }
   ],
   "source": [
    "# Splitting Data Subset 1 \n",
    "# Divide the data into Train and Test (7:3)\n",
    "\n",
    "from sklearn.model_selection import train_test_split\n",
    "x1_train1, x1_test1 = train_test_split(x1,  test_size = 0.3, random_state = 0)\n",
    "x1_train1\n",
    "# Checking the Shapes\n",
    "\n",
    "#print(\"Shape of x1_train1 :\", x1_train1.shape)\n",
    "#print(\"Shape of y1_train :\", y1_train1.shape)\n",
    "#print(\"Shape of x1_test :\", x1_test1.shape)"
   ]
  },
  {
   "cell_type": "code",
   "execution_count": 48,
   "metadata": {
    "colab": {
     "base_uri": "https://localhost:8080/"
    },
    "id": "wxrdR6DIXQF0",
    "outputId": "878765dc-beb9-471e-9a29-e02b41d8e11f"
   },
   "outputs": [
    {
     "data": {
      "text/plain": [
       "(624, 21)"
      ]
     },
     "execution_count": 48,
     "metadata": {},
     "output_type": "execute_result"
    }
   ],
   "source": [
    "data2.shape"
   ]
  },
  {
   "cell_type": "code",
   "execution_count": 49,
   "metadata": {
    "id": "QVzeVemGXSo4"
   },
   "outputs": [],
   "source": [
    "# Getting Independent and Dependent Variables for Subset 2\n",
    "\n",
    "x2 = data2.loc[:,data2.columns != 'Good']\n",
    "y2 = data2.loc[:,data2.columns == 'Good']"
   ]
  },
  {
   "cell_type": "code",
   "execution_count": 50,
   "metadata": {
    "colab": {
     "base_uri": "https://localhost:8080/"
    },
    "id": "_YV0i9LuAZOZ",
    "outputId": "b2bedec2-40ff-4c6a-db2f-7c1aa26d2e38"
   },
   "outputs": [
    {
     "name": "stdout",
     "output_type": "stream",
     "text": [
      "Shape of x2_train2 : (436, 20)\n",
      "Shape of y2_train : (436, 1)\n",
      "Shape of x2_test : (188, 20)\n"
     ]
    }
   ],
   "source": [
    "# Splitting Data 2\n",
    "# Divide the data into Train and Test (7:3)\n",
    "\n",
    "from sklearn.model_selection import train_test_split\n",
    "x2_train2, x2_test2, y2_train2, y2_test2 = train_test_split(x2, y2, test_size = 0.3, random_state = 0)\n",
    "\n",
    "# Checking the Shapes\n",
    "\n",
    "print(\"Shape of x2_train2 :\", x2_train2.shape)\n",
    "print(\"Shape of y2_train :\", y2_train2.shape)\n",
    "print(\"Shape of x2_test :\", x2_test2.shape)"
   ]
  },
  {
   "cell_type": "code",
   "execution_count": 51,
   "metadata": {
    "colab": {
     "base_uri": "https://localhost:8080/",
     "height": 423
    },
    "id": "8YgMCrOtX4zg",
    "outputId": "2f866f47-cae9-4447-d3db-497af80fd9ab"
   },
   "outputs": [
    {
     "data": {
      "text/html": [
       "<div>\n",
       "<style scoped>\n",
       "    .dataframe tbody tr th:only-of-type {\n",
       "        vertical-align: middle;\n",
       "    }\n",
       "\n",
       "    .dataframe tbody tr th {\n",
       "        vertical-align: top;\n",
       "    }\n",
       "\n",
       "    .dataframe thead th {\n",
       "        text-align: right;\n",
       "    }\n",
       "</style>\n",
       "<table border=\"1\" class=\"dataframe\">\n",
       "  <thead>\n",
       "    <tr style=\"text-align: right;\">\n",
       "      <th></th>\n",
       "      <th>Installp</th>\n",
       "      <th>Duration</th>\n",
       "      <th>Resident</th>\n",
       "      <th>Age</th>\n",
       "      <th>Coapp</th>\n",
       "      <th>Amount</th>\n",
       "      <th>Depends</th>\n",
       "      <th>Existcr</th>\n",
       "    </tr>\n",
       "  </thead>\n",
       "  <tbody>\n",
       "    <tr>\n",
       "      <th>732</th>\n",
       "      <td>4</td>\n",
       "      <td>8</td>\n",
       "      <td>2</td>\n",
       "      <td>44</td>\n",
       "      <td>3</td>\n",
       "      <td>760</td>\n",
       "      <td>1</td>\n",
       "      <td>1</td>\n",
       "    </tr>\n",
       "    <tr>\n",
       "      <th>305</th>\n",
       "      <td>4</td>\n",
       "      <td>6</td>\n",
       "      <td>2</td>\n",
       "      <td>33</td>\n",
       "      <td>1</td>\n",
       "      <td>1543</td>\n",
       "      <td>1</td>\n",
       "      <td>1</td>\n",
       "    </tr>\n",
       "    <tr>\n",
       "      <th>436</th>\n",
       "      <td>2</td>\n",
       "      <td>6</td>\n",
       "      <td>4</td>\n",
       "      <td>23</td>\n",
       "      <td>1</td>\n",
       "      <td>660</td>\n",
       "      <td>1</td>\n",
       "      <td>1</td>\n",
       "    </tr>\n",
       "    <tr>\n",
       "      <th>797</th>\n",
       "      <td>2</td>\n",
       "      <td>12</td>\n",
       "      <td>4</td>\n",
       "      <td>22</td>\n",
       "      <td>1</td>\n",
       "      <td>1258</td>\n",
       "      <td>1</td>\n",
       "      <td>2</td>\n",
       "    </tr>\n",
       "    <tr>\n",
       "      <th>358</th>\n",
       "      <td>4</td>\n",
       "      <td>12</td>\n",
       "      <td>2</td>\n",
       "      <td>28</td>\n",
       "      <td>1</td>\n",
       "      <td>776</td>\n",
       "      <td>1</td>\n",
       "      <td>1</td>\n",
       "    </tr>\n",
       "    <tr>\n",
       "      <th>...</th>\n",
       "      <td>...</td>\n",
       "      <td>...</td>\n",
       "      <td>...</td>\n",
       "      <td>...</td>\n",
       "      <td>...</td>\n",
       "      <td>...</td>\n",
       "      <td>...</td>\n",
       "      <td>...</td>\n",
       "    </tr>\n",
       "    <tr>\n",
       "      <th>892</th>\n",
       "      <td>4</td>\n",
       "      <td>12</td>\n",
       "      <td>4</td>\n",
       "      <td>38</td>\n",
       "      <td>1</td>\n",
       "      <td>2171</td>\n",
       "      <td>1</td>\n",
       "      <td>2</td>\n",
       "    </tr>\n",
       "    <tr>\n",
       "      <th>485</th>\n",
       "      <td>4</td>\n",
       "      <td>6</td>\n",
       "      <td>4</td>\n",
       "      <td>47</td>\n",
       "      <td>1</td>\n",
       "      <td>1209</td>\n",
       "      <td>1</td>\n",
       "      <td>1</td>\n",
       "    </tr>\n",
       "    <tr>\n",
       "      <th>281</th>\n",
       "      <td>4</td>\n",
       "      <td>12</td>\n",
       "      <td>2</td>\n",
       "      <td>50</td>\n",
       "      <td>1</td>\n",
       "      <td>1574</td>\n",
       "      <td>1</td>\n",
       "      <td>1</td>\n",
       "    </tr>\n",
       "    <tr>\n",
       "      <th>117</th>\n",
       "      <td>2</td>\n",
       "      <td>10</td>\n",
       "      <td>3</td>\n",
       "      <td>27</td>\n",
       "      <td>2</td>\n",
       "      <td>2132</td>\n",
       "      <td>1</td>\n",
       "      <td>2</td>\n",
       "    </tr>\n",
       "    <tr>\n",
       "      <th>439</th>\n",
       "      <td>4</td>\n",
       "      <td>12</td>\n",
       "      <td>1</td>\n",
       "      <td>26</td>\n",
       "      <td>1</td>\n",
       "      <td>609</td>\n",
       "      <td>1</td>\n",
       "      <td>1</td>\n",
       "    </tr>\n",
       "  </tbody>\n",
       "</table>\n",
       "<p>247 rows × 8 columns</p>\n",
       "</div>"
      ],
      "text/plain": [
       "     Installp  Duration  Resident  Age  Coapp  Amount  Depends  Existcr\n",
       "732         4         8         2   44      3     760        1        1\n",
       "305         4         6         2   33      1    1543        1        1\n",
       "436         2         6         4   23      1     660        1        1\n",
       "797         2        12         4   22      1    1258        1        2\n",
       "358         4        12         2   28      1     776        1        1\n",
       "..        ...       ...       ...  ...    ...     ...      ...      ...\n",
       "892         4        12         4   38      1    2171        1        2\n",
       "485         4         6         4   47      1    1209        1        1\n",
       "281         4        12         2   50      1    1574        1        1\n",
       "117         2        10         3   27      2    2132        1        2\n",
       "439         4        12         1   26      1     609        1        1\n",
       "\n",
       "[247 rows x 8 columns]"
      ]
     },
     "execution_count": 51,
     "metadata": {},
     "output_type": "execute_result"
    }
   ],
   "source": [
    "# Question 3 : Feature Selection\n",
    "\n",
    "# Subset 1 : Data1 <= 12 months\n",
    "x1_train1_num = x1_train1.select_dtypes('number')\n",
    "x1_train1_cat = x1_train1.select_dtypes('object')\n",
    "x1_train1_num"
   ]
  },
  {
   "cell_type": "code",
   "execution_count": 52,
   "metadata": {
    "colab": {
     "base_uri": "https://localhost:8080/",
     "height": 423
    },
    "id": "NPBz-KbD-ITW",
    "outputId": "dcb42c31-1aa0-419e-d1de-75b0b8d66d9d"
   },
   "outputs": [
    {
     "data": {
      "text/html": [
       "<div>\n",
       "<style scoped>\n",
       "    .dataframe tbody tr th:only-of-type {\n",
       "        vertical-align: middle;\n",
       "    }\n",
       "\n",
       "    .dataframe tbody tr th {\n",
       "        vertical-align: top;\n",
       "    }\n",
       "\n",
       "    .dataframe thead th {\n",
       "        text-align: right;\n",
       "    }\n",
       "</style>\n",
       "<table border=\"1\" class=\"dataframe\">\n",
       "  <thead>\n",
       "    <tr style=\"text-align: right;\">\n",
       "      <th></th>\n",
       "      <th>History</th>\n",
       "      <th>Other</th>\n",
       "      <th>Emploed</th>\n",
       "      <th>Purpose</th>\n",
       "      <th>Checking</th>\n",
       "      <th>Foreign</th>\n",
       "      <th>Property</th>\n",
       "      <th>housing</th>\n",
       "      <th>marital</th>\n",
       "      <th>Savings</th>\n",
       "    </tr>\n",
       "  </thead>\n",
       "  <tbody>\n",
       "    <tr>\n",
       "      <th>732</th>\n",
       "      <td>2</td>\n",
       "      <td>3</td>\n",
       "      <td>4</td>\n",
       "      <td>3</td>\n",
       "      <td>2</td>\n",
       "      <td>1</td>\n",
       "      <td>1</td>\n",
       "      <td>2</td>\n",
       "      <td>2</td>\n",
       "      <td>1</td>\n",
       "    </tr>\n",
       "    <tr>\n",
       "      <th>305</th>\n",
       "      <td>2</td>\n",
       "      <td>3</td>\n",
       "      <td>3</td>\n",
       "      <td>2</td>\n",
       "      <td>4</td>\n",
       "      <td>1</td>\n",
       "      <td>1</td>\n",
       "      <td>2</td>\n",
       "      <td>1</td>\n",
       "      <td>4</td>\n",
       "    </tr>\n",
       "    <tr>\n",
       "      <th>436</th>\n",
       "      <td>2</td>\n",
       "      <td>3</td>\n",
       "      <td>4</td>\n",
       "      <td>5</td>\n",
       "      <td>4</td>\n",
       "      <td>1</td>\n",
       "      <td>1</td>\n",
       "      <td>1</td>\n",
       "      <td>4</td>\n",
       "      <td>3</td>\n",
       "    </tr>\n",
       "    <tr>\n",
       "      <th>797</th>\n",
       "      <td>4</td>\n",
       "      <td>3</td>\n",
       "      <td>2</td>\n",
       "      <td>2</td>\n",
       "      <td>4</td>\n",
       "      <td>1</td>\n",
       "      <td>2</td>\n",
       "      <td>1</td>\n",
       "      <td>2</td>\n",
       "      <td>1</td>\n",
       "    </tr>\n",
       "    <tr>\n",
       "      <th>358</th>\n",
       "      <td>2</td>\n",
       "      <td>3</td>\n",
       "      <td>3</td>\n",
       "      <td>3</td>\n",
       "      <td>4</td>\n",
       "      <td>1</td>\n",
       "      <td>1</td>\n",
       "      <td>2</td>\n",
       "      <td>4</td>\n",
       "      <td>1</td>\n",
       "    </tr>\n",
       "    <tr>\n",
       "      <th>...</th>\n",
       "      <td>...</td>\n",
       "      <td>...</td>\n",
       "      <td>...</td>\n",
       "      <td>...</td>\n",
       "      <td>...</td>\n",
       "      <td>...</td>\n",
       "      <td>...</td>\n",
       "      <td>...</td>\n",
       "      <td>...</td>\n",
       "      <td>...</td>\n",
       "    </tr>\n",
       "    <tr>\n",
       "      <th>892</th>\n",
       "      <td>4</td>\n",
       "      <td>1</td>\n",
       "      <td>3</td>\n",
       "      <td>0</td>\n",
       "      <td>1</td>\n",
       "      <td>2</td>\n",
       "      <td>2</td>\n",
       "      <td>2</td>\n",
       "      <td>3</td>\n",
       "      <td>1</td>\n",
       "    </tr>\n",
       "    <tr>\n",
       "      <th>485</th>\n",
       "      <td>3</td>\n",
       "      <td>3</td>\n",
       "      <td>1</td>\n",
       "      <td>0</td>\n",
       "      <td>2</td>\n",
       "      <td>1</td>\n",
       "      <td>2</td>\n",
       "      <td>2</td>\n",
       "      <td>3</td>\n",
       "      <td>1</td>\n",
       "    </tr>\n",
       "    <tr>\n",
       "      <th>281</th>\n",
       "      <td>2</td>\n",
       "      <td>3</td>\n",
       "      <td>3</td>\n",
       "      <td>2</td>\n",
       "      <td>4</td>\n",
       "      <td>1</td>\n",
       "      <td>1</td>\n",
       "      <td>2</td>\n",
       "      <td>3</td>\n",
       "      <td>1</td>\n",
       "    </tr>\n",
       "    <tr>\n",
       "      <th>117</th>\n",
       "      <td>4</td>\n",
       "      <td>3</td>\n",
       "      <td>2</td>\n",
       "      <td>2</td>\n",
       "      <td>1</td>\n",
       "      <td>2</td>\n",
       "      <td>1</td>\n",
       "      <td>1</td>\n",
       "      <td>2</td>\n",
       "      <td>5</td>\n",
       "    </tr>\n",
       "    <tr>\n",
       "      <th>439</th>\n",
       "      <td>1</td>\n",
       "      <td>3</td>\n",
       "      <td>2</td>\n",
       "      <td>9</td>\n",
       "      <td>3</td>\n",
       "      <td>1</td>\n",
       "      <td>1</td>\n",
       "      <td>2</td>\n",
       "      <td>2</td>\n",
       "      <td>1</td>\n",
       "    </tr>\n",
       "  </tbody>\n",
       "</table>\n",
       "<p>247 rows × 10 columns</p>\n",
       "</div>"
      ],
      "text/plain": [
       "    History Other Emploed Purpose Checking Foreign Property housing marital  \\\n",
       "732       2     3       4       3        2       1        1       2       2   \n",
       "305       2     3       3       2        4       1        1       2       1   \n",
       "436       2     3       4       5        4       1        1       1       4   \n",
       "797       4     3       2       2        4       1        2       1       2   \n",
       "358       2     3       3       3        4       1        1       2       4   \n",
       "..      ...   ...     ...     ...      ...     ...      ...     ...     ...   \n",
       "892       4     1       3       0        1       2        2       2       3   \n",
       "485       3     3       1       0        2       1        2       2       3   \n",
       "281       2     3       3       2        4       1        1       2       3   \n",
       "117       4     3       2       2        1       2        1       1       2   \n",
       "439       1     3       2       9        3       1        1       2       2   \n",
       "\n",
       "    Savings  \n",
       "732       1  \n",
       "305       4  \n",
       "436       3  \n",
       "797       1  \n",
       "358       1  \n",
       "..      ...  \n",
       "892       1  \n",
       "485       1  \n",
       "281       1  \n",
       "117       5  \n",
       "439       1  \n",
       "\n",
       "[247 rows x 10 columns]"
      ]
     },
     "execution_count": 52,
     "metadata": {},
     "output_type": "execute_result"
    }
   ],
   "source": [
    "x1_train1_cat"
   ]
  },
  {
   "cell_type": "code",
   "execution_count": 53,
   "metadata": {
    "colab": {
     "base_uri": "https://localhost:8080/"
    },
    "id": "npDz3j1UVZRI",
    "outputId": "8c1de61e-38b6-4956-dcc4-43aa7abaf5ea"
   },
   "outputs": [
    {
     "name": "stdout",
     "output_type": "stream",
     "text": [
      "Feature 0: 7.804817\n",
      "Feature 1: 8.334852\n",
      "Feature 2: 1.434650\n",
      "Feature 3: 10.914330\n",
      "Feature 4: 2.471571\n",
      "Feature 5: 1.133618\n",
      "Feature 6: 1.698468\n",
      "Feature 7: 4.365419\n"
     ]
    },
    {
     "name": "stderr",
     "output_type": "stream",
     "text": [
      "/opt/anaconda3/lib/python3.7/site-packages/sklearn/utils/validation.py:993: DataConversionWarning: A column-vector y was passed when a 1d array was expected. Please change the shape of y to (n_samples, ), for example using ravel().\n",
      "  y = column_or_1d(y, warn=True)\n"
     ]
    }
   ],
   "source": [
    "# Anova Test\n",
    "\n",
    "fs = SelectKBest(score_func=f_classif,k=2)\n",
    "fit = fs.fit(x1_train1_num,y1_train1)\n",
    "x1_train_fs = fit.transform(x1_train1_num)\n",
    "\n",
    "for i in range(len(fs.scores_)):\n",
    "\tprint('Feature %d: %f' % (i, fs.scores_[i]))\n",
    "    \n",
    "# Select Age, Duration"
   ]
  },
  {
   "cell_type": "code",
   "execution_count": 54,
   "metadata": {
    "colab": {
     "base_uri": "https://localhost:8080/"
    },
    "id": "4wpyQyCZWnxk",
    "outputId": "c27dbe76-76bd-4297-9ab4-b9093ebb2b06"
   },
   "outputs": [
    {
     "name": "stdout",
     "output_type": "stream",
     "text": [
      "Feature 0: 8.294756\n",
      "Feature 1: 0.623945\n",
      "Feature 2: 1.834747\n",
      "Feature 3: 0.113520\n",
      "Feature 4: 12.841858\n",
      "Feature 5: 0.306288\n",
      "Feature 6: 4.895819\n",
      "Feature 7: 0.015799\n",
      "Feature 8: 0.143065\n",
      "Feature 9: 1.138703\n"
     ]
    }
   ],
   "source": [
    "# Chi-Square Test\n",
    "\n",
    "test = SelectKBest(chi2,k='all')\n",
    "fit = test.fit(x1_train1_cat,y1_train1)\n",
    "x1_train1_test = fit.transform(x1_train1_cat)\n",
    "\n",
    "for i in range(len(test.scores_)):\n",
    "\tprint('Feature %d: %f' % (i, test.scores_[i]))\n",
    " \n",
    "# Select History, Checking"
   ]
  },
  {
   "cell_type": "code",
   "execution_count": 55,
   "metadata": {
    "colab": {
     "base_uri": "https://localhost:8080/",
     "height": 423
    },
    "id": "VJ_vhO0-3bCw",
    "outputId": "1209a70d-e4e6-49a6-e8b0-a4daac796da9"
   },
   "outputs": [
    {
     "data": {
      "text/html": [
       "<div>\n",
       "<style scoped>\n",
       "    .dataframe tbody tr th:only-of-type {\n",
       "        vertical-align: middle;\n",
       "    }\n",
       "\n",
       "    .dataframe tbody tr th {\n",
       "        vertical-align: top;\n",
       "    }\n",
       "\n",
       "    .dataframe thead th {\n",
       "        text-align: right;\n",
       "    }\n",
       "</style>\n",
       "<table border=\"1\" class=\"dataframe\">\n",
       "  <thead>\n",
       "    <tr style=\"text-align: right;\">\n",
       "      <th></th>\n",
       "      <th>Duration</th>\n",
       "      <th>Amount</th>\n",
       "      <th>Installp</th>\n",
       "      <th>Coapp</th>\n",
       "      <th>Resident</th>\n",
       "      <th>Age</th>\n",
       "      <th>Existcr</th>\n",
       "      <th>Depends</th>\n",
       "    </tr>\n",
       "  </thead>\n",
       "  <tbody>\n",
       "    <tr>\n",
       "      <th>571</th>\n",
       "      <td>30</td>\n",
       "      <td>5954</td>\n",
       "      <td>3</td>\n",
       "      <td>2</td>\n",
       "      <td>2</td>\n",
       "      <td>38</td>\n",
       "      <td>1</td>\n",
       "      <td>1</td>\n",
       "    </tr>\n",
       "    <tr>\n",
       "      <th>654</th>\n",
       "      <td>24</td>\n",
       "      <td>2346</td>\n",
       "      <td>4</td>\n",
       "      <td>1</td>\n",
       "      <td>3</td>\n",
       "      <td>35</td>\n",
       "      <td>2</td>\n",
       "      <td>1</td>\n",
       "    </tr>\n",
       "    <tr>\n",
       "      <th>748</th>\n",
       "      <td>21</td>\n",
       "      <td>5248</td>\n",
       "      <td>1</td>\n",
       "      <td>1</td>\n",
       "      <td>3</td>\n",
       "      <td>26</td>\n",
       "      <td>1</td>\n",
       "      <td>1</td>\n",
       "    </tr>\n",
       "    <tr>\n",
       "      <th>631</th>\n",
       "      <td>18</td>\n",
       "      <td>1553</td>\n",
       "      <td>4</td>\n",
       "      <td>1</td>\n",
       "      <td>3</td>\n",
       "      <td>44</td>\n",
       "      <td>1</td>\n",
       "      <td>1</td>\n",
       "    </tr>\n",
       "    <tr>\n",
       "      <th>781</th>\n",
       "      <td>24</td>\n",
       "      <td>1940</td>\n",
       "      <td>4</td>\n",
       "      <td>1</td>\n",
       "      <td>4</td>\n",
       "      <td>60</td>\n",
       "      <td>1</td>\n",
       "      <td>1</td>\n",
       "    </tr>\n",
       "    <tr>\n",
       "      <th>...</th>\n",
       "      <td>...</td>\n",
       "      <td>...</td>\n",
       "      <td>...</td>\n",
       "      <td>...</td>\n",
       "      <td>...</td>\n",
       "      <td>...</td>\n",
       "      <td>...</td>\n",
       "      <td>...</td>\n",
       "    </tr>\n",
       "    <tr>\n",
       "      <th>476</th>\n",
       "      <td>39</td>\n",
       "      <td>2569</td>\n",
       "      <td>4</td>\n",
       "      <td>1</td>\n",
       "      <td>4</td>\n",
       "      <td>24</td>\n",
       "      <td>1</td>\n",
       "      <td>1</td>\n",
       "    </tr>\n",
       "    <tr>\n",
       "      <th>14</th>\n",
       "      <td>15</td>\n",
       "      <td>1403</td>\n",
       "      <td>2</td>\n",
       "      <td>1</td>\n",
       "      <td>4</td>\n",
       "      <td>28</td>\n",
       "      <td>1</td>\n",
       "      <td>1</td>\n",
       "    </tr>\n",
       "    <tr>\n",
       "      <th>605</th>\n",
       "      <td>24</td>\n",
       "      <td>2828</td>\n",
       "      <td>4</td>\n",
       "      <td>1</td>\n",
       "      <td>4</td>\n",
       "      <td>22</td>\n",
       "      <td>1</td>\n",
       "      <td>1</td>\n",
       "    </tr>\n",
       "    <tr>\n",
       "      <th>334</th>\n",
       "      <td>24</td>\n",
       "      <td>4110</td>\n",
       "      <td>3</td>\n",
       "      <td>1</td>\n",
       "      <td>4</td>\n",
       "      <td>23</td>\n",
       "      <td>2</td>\n",
       "      <td>2</td>\n",
       "    </tr>\n",
       "    <tr>\n",
       "      <th>903</th>\n",
       "      <td>15</td>\n",
       "      <td>1386</td>\n",
       "      <td>4</td>\n",
       "      <td>1</td>\n",
       "      <td>2</td>\n",
       "      <td>40</td>\n",
       "      <td>1</td>\n",
       "      <td>1</td>\n",
       "    </tr>\n",
       "  </tbody>\n",
       "</table>\n",
       "<p>436 rows × 8 columns</p>\n",
       "</div>"
      ],
      "text/plain": [
       "     Duration  Amount  Installp  Coapp  Resident  Age  Existcr  Depends\n",
       "571        30    5954         3      2         2   38        1        1\n",
       "654        24    2346         4      1         3   35        2        1\n",
       "748        21    5248         1      1         3   26        1        1\n",
       "631        18    1553         4      1         3   44        1        1\n",
       "781        24    1940         4      1         4   60        1        1\n",
       "..        ...     ...       ...    ...       ...  ...      ...      ...\n",
       "476        39    2569         4      1         4   24        1        1\n",
       "14         15    1403         2      1         4   28        1        1\n",
       "605        24    2828         4      1         4   22        1        1\n",
       "334        24    4110         3      1         4   23        2        2\n",
       "903        15    1386         4      1         2   40        1        1\n",
       "\n",
       "[436 rows x 8 columns]"
      ]
     },
     "execution_count": 55,
     "metadata": {},
     "output_type": "execute_result"
    }
   ],
   "source": [
    "# Subset 2 : Data1 > 12 months\n",
    "x2_train2_num = x2_train2.select_dtypes('number')\n",
    "x2_train2_cat = x2_train2.select_dtypes('object')\n",
    "x2_train2_num"
   ]
  },
  {
   "cell_type": "code",
   "execution_count": 56,
   "metadata": {
    "colab": {
     "base_uri": "https://localhost:8080/",
     "height": 423
    },
    "id": "e_f9xdio50fF",
    "outputId": "de4670e7-93f2-423a-ceee-de72d68b48ae"
   },
   "outputs": [
    {
     "data": {
      "text/html": [
       "<div>\n",
       "<style scoped>\n",
       "    .dataframe tbody tr th:only-of-type {\n",
       "        vertical-align: middle;\n",
       "    }\n",
       "\n",
       "    .dataframe tbody tr th {\n",
       "        vertical-align: top;\n",
       "    }\n",
       "\n",
       "    .dataframe thead th {\n",
       "        text-align: right;\n",
       "    }\n",
       "</style>\n",
       "<table border=\"1\" class=\"dataframe\">\n",
       "  <thead>\n",
       "    <tr style=\"text-align: right;\">\n",
       "      <th></th>\n",
       "      <th>Checking</th>\n",
       "      <th>History</th>\n",
       "      <th>Purpose</th>\n",
       "      <th>Savings</th>\n",
       "      <th>Emploed</th>\n",
       "      <th>marital</th>\n",
       "      <th>Property</th>\n",
       "      <th>Other</th>\n",
       "      <th>housing</th>\n",
       "      <th>Job</th>\n",
       "      <th>Telephone</th>\n",
       "      <th>Foreign</th>\n",
       "    </tr>\n",
       "  </thead>\n",
       "  <tbody>\n",
       "    <tr>\n",
       "      <th>571</th>\n",
       "      <td>4</td>\n",
       "      <td>4</td>\n",
       "      <td>3</td>\n",
       "      <td>1</td>\n",
       "      <td>4</td>\n",
       "      <td>3</td>\n",
       "      <td>3</td>\n",
       "      <td>3</td>\n",
       "      <td>2</td>\n",
       "      <td>3</td>\n",
       "      <td>1</td>\n",
       "      <td>1</td>\n",
       "    </tr>\n",
       "    <tr>\n",
       "      <th>654</th>\n",
       "      <td>4</td>\n",
       "      <td>4</td>\n",
       "      <td>1</td>\n",
       "      <td>1</td>\n",
       "      <td>4</td>\n",
       "      <td>3</td>\n",
       "      <td>3</td>\n",
       "      <td>3</td>\n",
       "      <td>2</td>\n",
       "      <td>3</td>\n",
       "      <td>2</td>\n",
       "      <td>1</td>\n",
       "    </tr>\n",
       "    <tr>\n",
       "      <th>748</th>\n",
       "      <td>4</td>\n",
       "      <td>2</td>\n",
       "      <td>1</td>\n",
       "      <td>5</td>\n",
       "      <td>3</td>\n",
       "      <td>3</td>\n",
       "      <td>3</td>\n",
       "      <td>3</td>\n",
       "      <td>2</td>\n",
       "      <td>3</td>\n",
       "      <td>1</td>\n",
       "      <td>1</td>\n",
       "    </tr>\n",
       "    <tr>\n",
       "      <th>631</th>\n",
       "      <td>1</td>\n",
       "      <td>1</td>\n",
       "      <td>2</td>\n",
       "      <td>1</td>\n",
       "      <td>3</td>\n",
       "      <td>3</td>\n",
       "      <td>3</td>\n",
       "      <td>1</td>\n",
       "      <td>2</td>\n",
       "      <td>3</td>\n",
       "      <td>1</td>\n",
       "      <td>1</td>\n",
       "    </tr>\n",
       "    <tr>\n",
       "      <th>781</th>\n",
       "      <td>4</td>\n",
       "      <td>4</td>\n",
       "      <td>0</td>\n",
       "      <td>4</td>\n",
       "      <td>5</td>\n",
       "      <td>3</td>\n",
       "      <td>1</td>\n",
       "      <td>3</td>\n",
       "      <td>2</td>\n",
       "      <td>3</td>\n",
       "      <td>2</td>\n",
       "      <td>1</td>\n",
       "    </tr>\n",
       "    <tr>\n",
       "      <th>...</th>\n",
       "      <td>...</td>\n",
       "      <td>...</td>\n",
       "      <td>...</td>\n",
       "      <td>...</td>\n",
       "      <td>...</td>\n",
       "      <td>...</td>\n",
       "      <td>...</td>\n",
       "      <td>...</td>\n",
       "      <td>...</td>\n",
       "      <td>...</td>\n",
       "      <td>...</td>\n",
       "      <td>...</td>\n",
       "    </tr>\n",
       "    <tr>\n",
       "      <th>476</th>\n",
       "      <td>4</td>\n",
       "      <td>2</td>\n",
       "      <td>1</td>\n",
       "      <td>3</td>\n",
       "      <td>3</td>\n",
       "      <td>3</td>\n",
       "      <td>3</td>\n",
       "      <td>3</td>\n",
       "      <td>2</td>\n",
       "      <td>3</td>\n",
       "      <td>1</td>\n",
       "      <td>1</td>\n",
       "    </tr>\n",
       "    <tr>\n",
       "      <th>14</th>\n",
       "      <td>1</td>\n",
       "      <td>2</td>\n",
       "      <td>0</td>\n",
       "      <td>1</td>\n",
       "      <td>3</td>\n",
       "      <td>2</td>\n",
       "      <td>3</td>\n",
       "      <td>3</td>\n",
       "      <td>1</td>\n",
       "      <td>3</td>\n",
       "      <td>1</td>\n",
       "      <td>1</td>\n",
       "    </tr>\n",
       "    <tr>\n",
       "      <th>605</th>\n",
       "      <td>1</td>\n",
       "      <td>1</td>\n",
       "      <td>2</td>\n",
       "      <td>3</td>\n",
       "      <td>3</td>\n",
       "      <td>3</td>\n",
       "      <td>1</td>\n",
       "      <td>2</td>\n",
       "      <td>2</td>\n",
       "      <td>3</td>\n",
       "      <td>2</td>\n",
       "      <td>1</td>\n",
       "    </tr>\n",
       "    <tr>\n",
       "      <th>334</th>\n",
       "      <td>1</td>\n",
       "      <td>0</td>\n",
       "      <td>2</td>\n",
       "      <td>1</td>\n",
       "      <td>5</td>\n",
       "      <td>3</td>\n",
       "      <td>4</td>\n",
       "      <td>1</td>\n",
       "      <td>1</td>\n",
       "      <td>3</td>\n",
       "      <td>1</td>\n",
       "      <td>1</td>\n",
       "    </tr>\n",
       "    <tr>\n",
       "      <th>903</th>\n",
       "      <td>4</td>\n",
       "      <td>2</td>\n",
       "      <td>3</td>\n",
       "      <td>5</td>\n",
       "      <td>3</td>\n",
       "      <td>4</td>\n",
       "      <td>1</td>\n",
       "      <td>3</td>\n",
       "      <td>1</td>\n",
       "      <td>3</td>\n",
       "      <td>2</td>\n",
       "      <td>1</td>\n",
       "    </tr>\n",
       "  </tbody>\n",
       "</table>\n",
       "<p>436 rows × 12 columns</p>\n",
       "</div>"
      ],
      "text/plain": [
       "    Checking History Purpose Savings Emploed marital Property Other housing  \\\n",
       "571        4       4       3       1       4       3        3     3       2   \n",
       "654        4       4       1       1       4       3        3     3       2   \n",
       "748        4       2       1       5       3       3        3     3       2   \n",
       "631        1       1       2       1       3       3        3     1       2   \n",
       "781        4       4       0       4       5       3        1     3       2   \n",
       "..       ...     ...     ...     ...     ...     ...      ...   ...     ...   \n",
       "476        4       2       1       3       3       3        3     3       2   \n",
       "14         1       2       0       1       3       2        3     3       1   \n",
       "605        1       1       2       3       3       3        1     2       2   \n",
       "334        1       0       2       1       5       3        4     1       1   \n",
       "903        4       2       3       5       3       4        1     3       1   \n",
       "\n",
       "    Job Telephone Foreign  \n",
       "571   3         1       1  \n",
       "654   3         2       1  \n",
       "748   3         1       1  \n",
       "631   3         1       1  \n",
       "781   3         2       1  \n",
       "..   ..       ...     ...  \n",
       "476   3         1       1  \n",
       "14    3         1       1  \n",
       "605   3         2       1  \n",
       "334   3         1       1  \n",
       "903   3         2       1  \n",
       "\n",
       "[436 rows x 12 columns]"
      ]
     },
     "execution_count": 56,
     "metadata": {},
     "output_type": "execute_result"
    }
   ],
   "source": [
    "x2_train2_cat"
   ]
  },
  {
   "cell_type": "code",
   "execution_count": 57,
   "metadata": {
    "colab": {
     "base_uri": "https://localhost:8080/"
    },
    "id": "yIGZ8e2L55gD",
    "outputId": "04c6f468-6e2f-4b4d-d2d8-6f02769370bb"
   },
   "outputs": [
    {
     "name": "stdout",
     "output_type": "stream",
     "text": [
      "Feature 0: 8.660862\n",
      "Feature 1: 5.414030\n",
      "Feature 2: 0.202630\n",
      "Feature 3: 0.858768\n",
      "Feature 4: 0.486811\n",
      "Feature 5: 0.410330\n",
      "Feature 6: 0.564353\n",
      "Feature 7: 1.146640\n"
     ]
    },
    {
     "name": "stderr",
     "output_type": "stream",
     "text": [
      "/opt/anaconda3/lib/python3.7/site-packages/sklearn/utils/validation.py:993: DataConversionWarning: A column-vector y was passed when a 1d array was expected. Please change the shape of y to (n_samples, ), for example using ravel().\n",
      "  y = column_or_1d(y, warn=True)\n"
     ]
    }
   ],
   "source": [
    "# Anova Test\n",
    "\n",
    "fs = SelectKBest(score_func=f_classif,k=2)\n",
    "fit = fs.fit(x2_train2_num,y2_train2)\n",
    "x2_train2_fs = fit.transform(x2_train2_num)\n",
    "\n",
    "for i in range(len(fs.scores_)):\n",
    "\tprint('Feature %d: %f' % (i, fs.scores_[i]))\n",
    "    \n",
    "# Select Duration"
   ]
  },
  {
   "cell_type": "code",
   "execution_count": 58,
   "metadata": {
    "colab": {
     "base_uri": "https://localhost:8080/"
    },
    "id": "wULJsU8m7D2n",
    "outputId": "71050e7e-ebff-4ab4-dc6f-9a2b353b4671"
   },
   "outputs": [
    {
     "name": "stdout",
     "output_type": "stream",
     "text": [
      "Feature 0: 37.496463\n",
      "Feature 1: 9.238728\n",
      "Feature 2: 0.905851\n",
      "Feature 3: 24.393887\n",
      "Feature 4: 3.599172\n",
      "Feature 5: 0.073827\n",
      "Feature 6: 1.430624\n",
      "Feature 7: 1.327910\n",
      "Feature 8: 0.124711\n",
      "Feature 9: 0.095071\n",
      "Feature 10: 0.530863\n",
      "Feature 11: 0.000347\n"
     ]
    }
   ],
   "source": [
    "# Chi-Square Test\n",
    "\n",
    "test = SelectKBest(chi2,k='all')\n",
    "fit = test.fit(x2_train2_cat,y2_train2)\n",
    "x2_train2_test = fit.transform(x2_train2_cat)\n",
    "\n",
    "for i in range(len(test.scores_)):\n",
    "\tprint('Feature %d: %f' % (i, test.scores_[i]))\n",
    " \n",
    "# Select History, Checking, Savings"
   ]
  },
  {
   "cell_type": "code",
   "execution_count": 81,
   "metadata": {
    "id": "_q8rXrFp8sBl"
   },
   "outputs": [
    {
     "data": {
      "text/html": [
       "<div>\n",
       "<style scoped>\n",
       "    .dataframe tbody tr th:only-of-type {\n",
       "        vertical-align: middle;\n",
       "    }\n",
       "\n",
       "    .dataframe tbody tr th {\n",
       "        vertical-align: top;\n",
       "    }\n",
       "\n",
       "    .dataframe thead th {\n",
       "        text-align: right;\n",
       "    }\n",
       "</style>\n",
       "<table border=\"1\" class=\"dataframe\">\n",
       "  <thead>\n",
       "    <tr style=\"text-align: right;\">\n",
       "      <th></th>\n",
       "      <th>Age</th>\n",
       "      <th>Duration</th>\n",
       "      <th>History</th>\n",
       "      <th>Checking</th>\n",
       "    </tr>\n",
       "  </thead>\n",
       "  <tbody>\n",
       "    <tr>\n",
       "      <th>732</th>\n",
       "      <td>44</td>\n",
       "      <td>8</td>\n",
       "      <td>2</td>\n",
       "      <td>2</td>\n",
       "    </tr>\n",
       "    <tr>\n",
       "      <th>305</th>\n",
       "      <td>33</td>\n",
       "      <td>6</td>\n",
       "      <td>2</td>\n",
       "      <td>4</td>\n",
       "    </tr>\n",
       "    <tr>\n",
       "      <th>436</th>\n",
       "      <td>23</td>\n",
       "      <td>6</td>\n",
       "      <td>2</td>\n",
       "      <td>4</td>\n",
       "    </tr>\n",
       "    <tr>\n",
       "      <th>797</th>\n",
       "      <td>22</td>\n",
       "      <td>12</td>\n",
       "      <td>4</td>\n",
       "      <td>4</td>\n",
       "    </tr>\n",
       "    <tr>\n",
       "      <th>358</th>\n",
       "      <td>28</td>\n",
       "      <td>12</td>\n",
       "      <td>2</td>\n",
       "      <td>4</td>\n",
       "    </tr>\n",
       "    <tr>\n",
       "      <th>...</th>\n",
       "      <td>...</td>\n",
       "      <td>...</td>\n",
       "      <td>...</td>\n",
       "      <td>...</td>\n",
       "    </tr>\n",
       "    <tr>\n",
       "      <th>892</th>\n",
       "      <td>38</td>\n",
       "      <td>12</td>\n",
       "      <td>4</td>\n",
       "      <td>1</td>\n",
       "    </tr>\n",
       "    <tr>\n",
       "      <th>485</th>\n",
       "      <td>47</td>\n",
       "      <td>6</td>\n",
       "      <td>3</td>\n",
       "      <td>2</td>\n",
       "    </tr>\n",
       "    <tr>\n",
       "      <th>281</th>\n",
       "      <td>50</td>\n",
       "      <td>12</td>\n",
       "      <td>2</td>\n",
       "      <td>4</td>\n",
       "    </tr>\n",
       "    <tr>\n",
       "      <th>117</th>\n",
       "      <td>27</td>\n",
       "      <td>10</td>\n",
       "      <td>4</td>\n",
       "      <td>1</td>\n",
       "    </tr>\n",
       "    <tr>\n",
       "      <th>439</th>\n",
       "      <td>26</td>\n",
       "      <td>12</td>\n",
       "      <td>1</td>\n",
       "      <td>3</td>\n",
       "    </tr>\n",
       "  </tbody>\n",
       "</table>\n",
       "<p>247 rows × 4 columns</p>\n",
       "</div>"
      ],
      "text/plain": [
       "     Age  Duration History Checking\n",
       "732   44         8       2        2\n",
       "305   33         6       2        4\n",
       "436   23         6       2        4\n",
       "797   22        12       4        4\n",
       "358   28        12       2        4\n",
       "..   ...       ...     ...      ...\n",
       "892   38        12       4        1\n",
       "485   47         6       3        2\n",
       "281   50        12       2        4\n",
       "117   27        10       4        1\n",
       "439   26        12       1        3\n",
       "\n",
       "[247 rows x 4 columns]"
      ]
     },
     "execution_count": 81,
     "metadata": {},
     "output_type": "execute_result"
    }
   ],
   "source": [
    "# Question 4 \n",
    "\n",
    "# Subset 1\n",
    "x1_train1 = x1_train1[['Age','Duration','History','Checking']]\n",
    "x1_test1 = x1_test1[['Age','Duration','History','Checking']]\n",
    "x1_train1"
   ]
  },
  {
   "cell_type": "code",
   "execution_count": 75,
   "metadata": {
    "colab": {
     "base_uri": "https://localhost:8080/"
    },
    "id": "YZ05NtcYelrE",
    "outputId": "581361f9-8c25-4a67-cefe-010d53876afd"
   },
   "outputs": [
    {
     "name": "stdout",
     "output_type": "stream",
     "text": [
      "[INFO] creating woe binning ...\n"
     ]
    }
   ],
   "source": [
    "# Binning\n",
    "\n",
    "from scorecardpy import woebin\n",
    "bins = sc.woebin(data1, y='Good')"
   ]
  },
  {
   "cell_type": "code",
   "execution_count": 61,
   "metadata": {
    "id": "NJEJrpdJBme4"
   },
   "outputs": [
    {
     "data": {
      "text/plain": [
       "{'History':   variable    bin  count  count_distr  good  bad   badprob       woe  \\\n",
       " 0  History  1%,%0     23     0.064972    13   10  0.434783 -1.576088   \n",
       " 1  History      2    204     0.576271    50  154  0.754902 -0.188794   \n",
       " 2  History  3%,%4    127     0.358757    12  115  0.905512  0.946302   \n",
       " \n",
       "      bin_iv  total_iv breaks  is_special_values  \n",
       " 0  0.216698  0.476996  1%,%0              False  \n",
       " 1  0.021654  0.476996      2              False  \n",
       " 2  0.238644  0.476996  3%,%4              False  ,\n",
       " 'Other':   variable    bin  count  count_distr  good  bad   badprob       woe  \\\n",
       " 0    Other  2%,%1     46     0.129944    17   29  0.630435 -0.779641   \n",
       " 1    Other      3    308     0.870056    58  250  0.811688  0.147294   \n",
       " \n",
       "      bin_iv  total_iv breaks  is_special_values  \n",
       " 0  0.095681  0.113757  2%,%1              False  \n",
       " 1  0.018077  0.113757      3              False  ,\n",
       " 'Installp':    variable         bin  count  count_distr  good  bad   badprob       woe  \\\n",
       " 0  Installp  [-inf,3.0)    144     0.406780    21  123  0.854167  0.453938   \n",
       " 1  Installp   [3.0,4.0)     57     0.161017    10   47  0.824561  0.233839   \n",
       " 2  Installp   [4.0,inf)    153     0.432203    44  109  0.712418 -0.406565   \n",
       " \n",
       "      bin_iv  total_iv breaks  is_special_values  \n",
       " 0  0.073021  0.160915    3.0              False  \n",
       " 1  0.008214  0.160915    4.0              False  \n",
       " 2  0.079681  0.160915    inf              False  ,\n",
       " 'Duration':    variable          bin  count  count_distr  good  bad   badprob       woe  \\\n",
       " 0  Duration   [-inf,9.0)     91     0.257062    10   81  0.890110  0.778140   \n",
       " 1  Duration   [9.0,10.0)     48     0.135593    13   35  0.729167 -0.323325   \n",
       " 2  Duration  [10.0,12.0)     36     0.101695     3   33  0.916667  1.084172   \n",
       " 3  Duration   [12.0,inf)    179     0.505650    49  130  0.726257 -0.338010   \n",
       " \n",
       "      bin_iv  total_iv breaks  is_special_values  \n",
       " 0  0.122160  0.285848    9.0              False  \n",
       " 1  0.015483  0.285848   10.0              False  \n",
       " 2  0.084868  0.285848   12.0              False  \n",
       " 3  0.063337  0.285848    inf              False  ,\n",
       " 'Resident':    variable         bin  count  count_distr  good  bad   badprob       woe  \\\n",
       " 0  Resident  [-inf,2.0)     54     0.152542    13   41  0.759259 -0.165101   \n",
       " 1  Resident   [2.0,3.0)    111     0.313559    23   88  0.792793  0.028119   \n",
       " 2  Resident   [3.0,4.0)     56     0.158192    14   42  0.750000 -0.215111   \n",
       " 3  Resident   [4.0,inf)    133     0.375706    25  108  0.812030  0.149532   \n",
       " \n",
       "      bin_iv  total_iv breaks  is_special_values  \n",
       " 0  0.004355  0.020412    2.0              False  \n",
       " 1  0.000246  0.020412    3.0              False  \n",
       " 2  0.007772  0.020412    4.0              False  \n",
       " 3  0.008039  0.020412    inf              False  ,\n",
       " 'Emploed':   variable    bin  count  count_distr  good  bad   badprob       woe  \\\n",
       " 0  Emploed  2%,%1     80     0.225989    26   54  0.675000 -0.582836   \n",
       " 1  Emploed      5     87     0.245763    17   70  0.804598  0.101558   \n",
       " 2  Emploed  3%,%4    187     0.528249    32  155  0.828877  0.263966   \n",
       " \n",
       "      bin_iv  total_iv breaks  is_special_values  \n",
       " 0  0.089243  0.125726  2%,%1              False  \n",
       " 1  0.002461  0.125726      5              False  \n",
       " 2  0.034022  0.125726  3%,%4              False  ,\n",
       " 'Purpose':   variable        bin  count  count_distr  good  bad   badprob       woe  \\\n",
       " 0  Purpose      5%,%6     29     0.081921    11   18  0.620690 -0.821247   \n",
       " 1  Purpose      0%,%2    170     0.480226    42  128  0.752941 -0.199363   \n",
       " 2  Purpose      4%,%3    117     0.330508    18   99  0.846154  0.391024   \n",
       " 3  Purpose  8%,%9%,%1     38     0.107345     4   34  0.894737  0.826342   \n",
       " \n",
       "      bin_iv  total_iv     breaks  is_special_values  \n",
       " 0  0.067466   0.18918      5%,%6              False  \n",
       " 1  0.020179   0.18918      0%,%2              False  \n",
       " 2  0.044905   0.18918      4%,%3              False  \n",
       " 3  0.056630   0.18918  8%,%9%,%1              False  ,\n",
       " 'Age':   variable          bin  count  count_distr  good  bad   badprob       woe  \\\n",
       " 0      Age  [-inf,26.0)     67     0.189266    24   43  0.641791 -0.730577   \n",
       " 1      Age  [26.0,28.0)     36     0.101695     6   30  0.833333  0.295714   \n",
       " 2      Age  [28.0,30.0)     27     0.076271    10   17  0.629630 -0.783095   \n",
       " 3      Age  [30.0,35.0)     46     0.129944    10   36  0.782609 -0.032790   \n",
       " 4      Age  [35.0,37.0)     28     0.079096     4   24  0.857143  0.478036   \n",
       " 5      Age  [37.0,41.0)     40     0.112994     3   37  0.925000  1.198582   \n",
       " 6      Age   [41.0,inf)    110     0.310734    18   92  0.836364  0.317693   \n",
       " \n",
       "      bin_iv  total_iv breaks  is_special_values  \n",
       " 0  0.121187  0.341312   26.0              False  \n",
       " 1  0.008140  0.341312   28.0              False  \n",
       " 2  0.056697  0.341312   30.0              False  \n",
       " 3  0.000141  0.341312   35.0              False  \n",
       " 4  0.015626  0.341312   37.0              False  \n",
       " 5  0.111008  0.341312   41.0              False  \n",
       " 6  0.028513  0.341312    inf              False  ,\n",
       " 'Coapp':   variable         bin  count  count_distr  good  bad   badprob       woe  \\\n",
       " 0    Coapp  [-inf,3.0)    333     0.940678    74  259  0.777778 -0.060961   \n",
       " 1    Coapp   [3.0,inf)     21     0.059322     1   20  0.952381  1.682009   \n",
       " \n",
       "      bin_iv  total_iv breaks  is_special_values  \n",
       " 0  0.003557  0.101704    3.0              False  \n",
       " 1  0.098147  0.101704    inf              False  ,\n",
       " 'Amount':   variable              bin  count  count_distr  good  bad   badprob  \\\n",
       " 0   Amount     [-inf,600.0)     20     0.056497     2   18  0.900000   \n",
       " 1   Amount   [600.0,1000.0)     73     0.206215    27   46  0.630137   \n",
       " 2   Amount  [1000.0,1500.0)    111     0.313559    23   88  0.792793   \n",
       " 3   Amount  [1500.0,2200.0)     72     0.203390     7   65  0.902778   \n",
       " 4   Amount  [2200.0,3600.0)     56     0.158192     9   47  0.839286   \n",
       " 5   Amount     [3600.0,inf)     22     0.062147     7   15  0.681818   \n",
       " \n",
       "         woe    bin_iv  total_iv  breaks  is_special_values  \n",
       " 0  0.883501  0.033440  0.352064   600.0              False  \n",
       " 1 -0.780919  0.152377  0.352064  1000.0              False  \n",
       " 2  0.028119  0.000246  0.352064  1500.0              False  \n",
       " 3  0.914753  0.127738  0.352064  2200.0              False  \n",
       " 4  0.339199  0.016437  0.352064  3600.0              False  \n",
       " 5 -0.551584  0.021826  0.352064     inf              False  ,\n",
       " 'Checking':    variable    bin  count  count_distr  good  bad   badprob       woe  \\\n",
       " 0  Checking  1%,%2    180     0.508475    59  121  0.672222 -0.595471   \n",
       " 1  Checking      3     29     0.081921     5   24  0.827586  0.254892   \n",
       " 2  Checking      4    145     0.409605    11  134  0.924138  1.186221   \n",
       " \n",
       "      bin_iv  total_iv breaks  is_special_values  \n",
       " 0  0.210186  0.610867  1%,%2              False  \n",
       " 1  0.004933  0.610867      3              False  \n",
       " 2  0.395747  0.610867      4              False  ,\n",
       " 'Foreign':   variable bin  count  count_distr  good  bad   badprob       woe    bin_iv  \\\n",
       " 0  Foreign   1    327     0.923729    74  253  0.773700 -0.084399  0.006740   \n",
       " 1  Foreign   2     27     0.076271     1   26  0.962963  1.944373  0.155271   \n",
       " \n",
       "    total_iv breaks  is_special_values  \n",
       " 0  0.162011      1              False  \n",
       " 1  0.162011      2              False  ,\n",
       " 'Property':    variable    bin  count  count_distr  good  bad   badprob       woe  \\\n",
       " 0  Property      4     35     0.098870    12   23  0.657143 -0.663136   \n",
       " 1  Property  2%,%3    166     0.468927    45  121  0.728916 -0.324596   \n",
       " 2  Property      1    153     0.432203    18  135  0.882353  0.701179   \n",
       " \n",
       "      bin_iv  total_iv breaks  is_special_values  \n",
       " 0  0.051435  0.276415      4              False  \n",
       " 1  0.053983  0.276415  2%,%3              False  \n",
       " 2  0.170997  0.276415      1              False  ,\n",
       " 'Depends':   variable         bin  count  count_distr  good  bad   badprob       woe  \\\n",
       " 0  Depends  [-inf,2.0)    290     0.819209    66  224  0.772414 -0.091732   \n",
       " 1  Depends   [2.0,inf)     64     0.180791     9   55  0.859375  0.496385   \n",
       " \n",
       "      bin_iv  total_iv breaks  is_special_values  \n",
       " 0  0.007076  0.045363    2.0              False  \n",
       " 1  0.038287  0.045363    inf              False  ,\n",
       " 'housing':   variable bin  count  count_distr  good  bad   badprob       woe    bin_iv  \\\n",
       " 0  housing   3     22     0.062147     8   14  0.636364 -0.754108  0.042598   \n",
       " 1  housing   1     69     0.194915    16   53  0.768116 -0.116020  0.002711   \n",
       " 2  housing   2    263     0.742938    51  212  0.806084  0.111037  0.008867   \n",
       " \n",
       "    total_iv breaks  is_special_values  \n",
       " 0  0.054176      3              False  \n",
       " 1  0.054176      1              False  \n",
       " 2  0.054176      2              False  ,\n",
       " 'marital':   variable    bin  count  count_distr  good  bad   badprob       woe  \\\n",
       " 0  marital  2%,%1    133     0.375706    34   99  0.744361 -0.244964   \n",
       " 1  marital      4     39     0.110169     8   31  0.794872  0.040822   \n",
       " 2  marital      3    182     0.514124    33  149  0.818681  0.193715   \n",
       " \n",
       "      bin_iv  total_iv breaks  is_special_values  \n",
       " 0  0.024128  0.042528  2%,%1              False  \n",
       " 1  0.000181  0.042528      4              False  \n",
       " 2  0.018219  0.042528      3              False  ,\n",
       " 'Savings':   variable    bin  count  count_distr  good  bad   badprob       woe  \\\n",
       " 0  Savings  2%,%1    255     0.720339    61  194  0.760784 -0.156739   \n",
       " 1  Savings  4%,%3     44     0.124294     7   37  0.840909  0.351284   \n",
       " 2  Savings      5     55     0.155367     7   48  0.872727  0.611567   \n",
       " \n",
       "      bin_iv  total_iv breaks  is_special_values  \n",
       " 0  0.018494   0.08043  2%,%1              False  \n",
       " 1  0.013800   0.08043  4%,%3              False  \n",
       " 2  0.048136   0.08043      5              False  ,\n",
       " 'Existcr':   variable         bin  count  count_distr  good  bad   badprob       woe  \\\n",
       " 0  Existcr  [-inf,2.0)    237     0.669492    57  180  0.759494 -0.163818   \n",
       " 1  Existcr   [2.0,inf)    117     0.330508    18   99  0.846154  0.391024   \n",
       " \n",
       "      bin_iv  total_iv breaks  is_special_values  \n",
       " 0  0.018813  0.063717    2.0              False  \n",
       " 1  0.044905  0.063717    inf              False  }"
      ]
     },
     "execution_count": 61,
     "metadata": {},
     "output_type": "execute_result"
    }
   ],
   "source": [
    "bins"
   ]
  },
  {
   "cell_type": "code",
   "execution_count": 63,
   "metadata": {
    "id": "lOwLmocEUE-z"
   },
   "outputs": [
    {
     "data": {
      "text/plain": [
       "{'History': <Figure size 432x288 with 2 Axes>,\n",
       " 'Other': <Figure size 432x288 with 2 Axes>,\n",
       " 'Installp': <Figure size 432x288 with 2 Axes>,\n",
       " 'Duration': <Figure size 432x288 with 2 Axes>,\n",
       " 'Resident': <Figure size 432x288 with 2 Axes>,\n",
       " 'Emploed': <Figure size 432x288 with 2 Axes>,\n",
       " 'Purpose': <Figure size 432x288 with 2 Axes>,\n",
       " 'Age': <Figure size 432x288 with 2 Axes>,\n",
       " 'Coapp': <Figure size 432x288 with 2 Axes>,\n",
       " 'Amount': <Figure size 432x288 with 2 Axes>,\n",
       " 'Checking': <Figure size 432x288 with 2 Axes>,\n",
       " 'Foreign': <Figure size 432x288 with 2 Axes>,\n",
       " 'Property': <Figure size 432x288 with 2 Axes>,\n",
       " 'Depends': <Figure size 432x288 with 2 Axes>,\n",
       " 'housing': <Figure size 432x288 with 2 Axes>,\n",
       " 'marital': <Figure size 432x288 with 2 Axes>,\n",
       " 'Savings': <Figure size 432x288 with 2 Axes>,\n",
       " 'Existcr': <Figure size 432x288 with 2 Axes>}"
      ]
     },
     "execution_count": 63,
     "metadata": {},
     "output_type": "execute_result"
    },
    {
     "data": {
      "image/png": "[encoded data removed]",
      "text/plain": [
       "<Figure size 432x288 with 2 Axes>"
      ]
     },
     "metadata": {
      "needs_background": "light"
     },
     "output_type": "display_data"
    },
    {
     "data": {
      "image/png": "[encoded data removed]",
      "text/plain": [
       "<Figure size 432x288 with 2 Axes>"
      ]
     },
     "metadata": {
      "needs_background": "light"
     },
     "output_type": "display_data"
    },
    {
     "data": {
      "image/png": "[encoded data removed]",
      "text/plain": [
       "<Figure size 432x288 with 2 Axes>"
      ]
     },
     "metadata": {
      "needs_background": "light"
     },
     "output_type": "display_data"
    },
    {
     "data": {
      "image/png": "[encoded data removed]",
      "text/plain": [
       "<Figure size 432x288 with 2 Axes>"
      ]
     },
     "metadata": {
      "needs_background": "light"
     },
     "output_type": "display_data"
    },
    {
     "data": {
      "image/png": "[encoded data removed]",
      "text/plain": [
       "<Figure size 432x288 with 2 Axes>"
      ]
     },
     "metadata": {
      "needs_background": "light"
     },
     "output_type": "display_data"
    },
    {
     "data": {
      "image/png": "[encoded data removed]",
      "text/plain": [
       "<Figure size 432x288 with 2 Axes>"
      ]
     },
     "metadata": {
      "needs_background": "light"
     },
     "output_type": "display_data"
    },
    {
     "data": {
      "image/png": "[encoded data removed]",
      "text/plain": [
       "<Figure size 432x288 with 2 Axes>"
      ]
     },
     "metadata": {
      "needs_background": "light"
     },
     "output_type": "display_data"
    },
    {
     "data": {
      "image/png": "[encoded data removed]",
      "text/plain": [
       "<Figure size 432x288 with 2 Axes>"
      ]
     },
     "metadata": {
      "needs_background": "light"
     },
     "output_type": "display_data"
    },
    {
     "data": {
      "image/png": "[encoded data removed]",
      "text/plain": [
       "<Figure size 432x288 with 2 Axes>"
      ]
     },
     "metadata": {
      "needs_background": "light"
     },
     "output_type": "display_data"
    },
    {
     "data": {
      "image/png": "[encoded data removed]",
      "text/plain": [
       "<Figure size 432x288 with 2 Axes>"
      ]
     },
     "metadata": {
      "needs_background": "light"
     },
     "output_type": "display_data"
    },
    {
     "data": {
      "image/png": "[encoded data removed]",
      "text/plain": [
       "<Figure size 432x288 with 2 Axes>"
      ]
     },
     "metadata": {
      "needs_background": "light"
     },
     "output_type": "display_data"
    },
    {
     "data": {
      "image/png": "[encoded data removed]",
      "text/plain": [
       "<Figure size 432x288 with 2 Axes>"
      ]
     },
     "metadata": {
      "needs_background": "light"
     },
     "output_type": "display_data"
    },
    {
     "data": {
      "image/png": "[encoded data removed]",
      "text/plain": [
       "<Figure size 432x288 with 2 Axes>"
      ]
     },
     "metadata": {
      "needs_background": "light"
     },
     "output_type": "display_data"
    },
    {
     "data": {
      "image/png": "[encoded data removed]",
      "text/plain": [
       "<Figure size 432x288 with 2 Axes>"
      ]
     },
     "metadata": {
      "needs_background": "light"
     },
     "output_type": "display_data"
    },
    {
     "data": {
      "image/png": "[encoded data removed]",
      "text/plain": [
       "<Figure size 432x288 with 2 Axes>"
      ]
     },
     "metadata": {
      "needs_background": "light"
     },
     "output_type": "display_data"
    },
    {
     "data": {
      "image/png": "[encoded data removed]",
      "text/plain": [
       "<Figure size 432x288 with 2 Axes>"
      ]
     },
     "metadata": {
      "needs_background": "light"
     },
     "output_type": "display_data"
    },
    {
     "data": {
      "image/png": "[encoded data removed]",
      "text/plain": [
       "<Figure size 432x288 with 2 Axes>"
      ]
     },
     "metadata": {
      "needs_background": "light"
     },
     "output_type": "display_data"
    },
    {
     "data": {
      "image/png": "[encoded data removed]",
      "text/plain": [
       "<Figure size 432x288 with 2 Axes>"
      ]
     },
     "metadata": {
      "needs_background": "light"
     },
     "output_type": "display_data"
    }
   ],
   "source": [
    "# Graphically display the binning results for each variable\n",
    "\n",
    "sc.woebin_plot(bins)"
   ]
  },
  {
   "cell_type": "code",
   "execution_count": 82,
   "metadata": {
    "colab": {
     "base_uri": "https://localhost:8080/"
    },
    "id": "mlFvMTNGUJVz",
    "outputId": "fcd1b872-3f47-41f4-84ea-bd71191a518e"
   },
   "outputs": [
    {
     "name": "stdout",
     "output_type": "stream",
     "text": [
      "[INFO] converting into woe values ...\n",
      "[INFO] converting into woe values ...\n"
     ]
    }
   ],
   "source": [
    "# Hence, we have automatically created bins for each variables in the dataset. We can clearly see that the variables we chose have high IV values as well, which indicates that\n",
    "# these variables have high predictive power to prdeict the dependent variable in question. Also, we can continue to model the data using the binning obtained.\n",
    "\n",
    "# Convert Train and Test to Binning format respectively\n",
    "train_woe = sc.woebin_ply(x1_train1, bins)\n",
    "test_woe = sc.woebin_ply(x1_test1, bins)"
   ]
  },
  {
   "cell_type": "code",
   "execution_count": 84,
   "metadata": {
    "colab": {
     "base_uri": "https://localhost:8080/"
    },
    "id": "Vs5NRv18AeGk",
    "outputId": "119d2aa4-86e6-47ca-eb32-5f39e1d6565d"
   },
   "outputs": [
    {
     "name": "stdout",
     "output_type": "stream",
     "text": [
      "<class 'pandas.core.frame.DataFrame'>\n",
      "Int64Index: 247 entries, 0 to 995\n",
      "Data columns (total 4 columns):\n",
      " #   Column        Non-Null Count  Dtype  \n",
      "---  ------        --------------  -----  \n",
      " 0   Duration_woe  247 non-null    float64\n",
      " 1   Age_woe       247 non-null    float64\n",
      " 2   Checking_woe  247 non-null    float64\n",
      " 3   History_woe   247 non-null    float64\n",
      "dtypes: float64(4)\n",
      "memory usage: 9.6 KB\n"
     ]
    }
   ],
   "source": [
    "train_woe.info()"
   ]
  },
  {
   "cell_type": "code",
   "execution_count": 66,
   "metadata": {
    "id": "fmoLsGVt4R4_"
   },
   "outputs": [],
   "source": [
    "# Imbalanced Data\n",
    "from imblearn.over_sampling import RandomOverSampler\n",
    "os = RandomOverSampler()\n",
    "x1_train1,y1_train1 = os.fit_resample(x1_train1,y1_train1)\n",
    "x2_train2,y2_train2 = os.fit_resample(x2_train2,y2_train2)"
   ]
  },
  {
   "cell_type": "code",
   "execution_count": 67,
   "metadata": {
    "colab": {
     "base_uri": "https://localhost:8080/"
    },
    "id": "bc7ESwCgUOmf",
    "outputId": "0e094020-0b26-4057-a4af-f5a9604fc9a0"
   },
   "outputs": [
    {
     "name": "stdout",
     "output_type": "stream",
     "text": [
      "[[ 0.01910817 -0.25685624  0.3846071   0.50318765]]\n",
      "[-0.13906059]\n"
     ]
    },
    {
     "name": "stderr",
     "output_type": "stream",
     "text": [
      "/opt/anaconda3/lib/python3.7/site-packages/sklearn/utils/validation.py:993: DataConversionWarning: A column-vector y was passed when a 1d array was expected. Please change the shape of y to (n_samples, ), for example using ravel().\n",
      "  y = column_or_1d(y, warn=True)\n",
      "/opt/anaconda3/lib/python3.7/site-packages/sklearn/linear_model/_sag.py:354: ConvergenceWarning: The max_iter was reached which means the coef_ did not converge\n",
      "  ConvergenceWarning,\n"
     ]
    }
   ],
   "source": [
    "# Logistic Regression Model\n",
    "\n",
    "from sklearn.linear_model import LogisticRegression\n",
    "log1 = LogisticRegression(penalty='l1', C=0.9, solver='saga', n_jobs=-1)\n",
    "log1.fit(x1_train1, y1_train1)\n",
    "print(log1.coef_)\n",
    "print(log1.intercept_)"
   ]
  },
  {
   "cell_type": "code",
   "execution_count": null,
   "metadata": {
    "id": "gfuhMIPJFkpq"
   },
   "outputs": [],
   "source": [
    "# Predicted Probability\n",
    "\n",
    "train_pred = log1.predict_proba(x1_train1)[:,1]\n",
    "test_pred = log1.predict_proba(x1_test1)[:,1]"
   ]
  },
  {
   "cell_type": "code",
   "execution_count": null,
   "metadata": {
    "colab": {
     "base_uri": "https://localhost:8080/"
    },
    "id": "qVgAs-fR9-qK",
    "outputId": "fcc686e4-f25c-42fa-a889-127d1d879b30"
   },
   "outputs": [
    {
     "name": "stdout",
     "output_type": "stream",
     "text": [
      "[[ 0.00387317 -0.02905439  0.13345618  0.11548176]]\n",
      "[0.06702403]\n"
     ]
    }
   ],
   "source": [
    "# Linear Regression\n",
    "\n",
    "from sklearn.linear_model import LinearRegression\n",
    "lin2 = LinearRegression()\n",
    "lin2.fit(x1_train1, y1_train1)\n",
    "print(lin2.coef_)\n",
    "print(lin2.intercept_)"
   ]
  },
  {
   "cell_type": "code",
   "execution_count": null,
   "metadata": {
    "colab": {
     "base_uri": "https://localhost:8080/"
    },
    "id": "hS9NlN1p2B2M",
    "outputId": "00f6ba8f-d801-4381-8da3-7d70657314ee"
   },
   "outputs": [
    {
     "data": {
      "text/plain": [
       "{'Age':    variable          bin  points\n",
       " 20      Age  [-inf,26.0)     1.0\n",
       " 21      Age  [26.0,28.0)    -0.0\n",
       " 22      Age  [28.0,30.0)     1.0\n",
       " 23      Age  [30.0,35.0)     0.0\n",
       " 24      Age  [35.0,37.0)    -0.0\n",
       " 25      Age  [37.0,41.0)    -1.0\n",
       " 26      Age   [41.0,inf)    -0.0, 'Checking':     variable    bin  points\n",
       " 48  Checking  1%,%2    21.0\n",
       " 49  Checking      3    -9.0\n",
       " 50  Checking      4   -41.0, 'Duration':     variable          bin  points\n",
       " 34  Duration   [-inf,9.0)    14.0\n",
       " 35  Duration   [9.0,10.0)    -6.0\n",
       " 36  Duration  [10.0,12.0)    20.0\n",
       " 37  Duration   [12.0,inf)    -6.0, 'History':    variable    bin  points\n",
       " 31  History  1%,%0    62.0\n",
       " 32  History      2     7.0\n",
       " 33  History  3%,%4   -37.0, 'basepoints':      variable  bin  points\n",
       " 0  basepoints  NaN     398}"
      ]
     },
     "execution_count": 67,
     "metadata": {},
     "output_type": "execute_result"
    }
   ],
   "source": [
    "# Scorecard\n",
    "card1 = sc.scorecard(bins, log1, x1_train1.columns)\n",
    "card2 = sc.scorecard(bins, lin2, x1_train1.columns)\n",
    "card1"
   ]
  },
  {
   "cell_type": "code",
   "execution_count": null,
   "metadata": {
    "colab": {
     "base_uri": "https://localhost:8080/"
    },
    "id": "VKidhvbAIjDZ",
    "outputId": "90d98751-c780-4987-a1e5-f3064d87270f"
   },
   "outputs": [
    {
     "data": {
      "text/plain": [
       "{'Age':    variable          bin  points\n",
       " 20      Age  [-inf,26.0)     0.0\n",
       " 21      Age  [26.0,28.0)    -0.0\n",
       " 22      Age  [28.0,30.0)     0.0\n",
       " 23      Age  [30.0,35.0)     0.0\n",
       " 24      Age  [35.0,37.0)    -0.0\n",
       " 25      Age  [37.0,41.0)    -0.0\n",
       " 26      Age   [41.0,inf)    -0.0, 'Checking':     variable    bin  points\n",
       " 48  Checking  1%,%2     5.0\n",
       " 49  Checking      3    -2.0\n",
       " 50  Checking      4   -10.0, 'Duration':     variable          bin  points\n",
       " 34  Duration   [-inf,9.0)     2.0\n",
       " 35  Duration   [9.0,10.0)    -1.0\n",
       " 36  Duration  [10.0,12.0)     2.0\n",
       " 37  Duration   [12.0,inf)    -1.0, 'History':    variable    bin  points\n",
       " 31  History  1%,%0    15.0\n",
       " 32  History      2     2.0\n",
       " 33  History  3%,%4    -9.0, 'basepoints':      variable  bin  points\n",
       " 0  basepoints  NaN     383}"
      ]
     },
     "execution_count": 68,
     "metadata": {},
     "output_type": "execute_result"
    }
   ],
   "source": [
    "card2"
   ]
  }
 ],
 "metadata": {
  "colab": {
   "collapsed_sections": [],
   "name": "CreditRisk.ipynb",
   "provenance": []
  },
  "kernelspec": {
   "display_name": "Python 3",
   "language": "python",
   "name": "python3"
  },
  "language_info": {
   "codemirror_mode": {
    "name": "ipython",
    "version": 3
   },
   "file_extension": ".py",
   "mimetype": "text/x-python",
   "name": "python",
   "nbconvert_exporter": "python",
   "pygments_lexer": "ipython3",
   "version": "3.7.7"
  }
 },
 "nbformat": 4,
 "nbformat_minor": 1
}
