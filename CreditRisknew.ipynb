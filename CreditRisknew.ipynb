{
 "cells": [
  {
   "cell_type": "code",
   "execution_count": 1,
   "metadata": {
    "id": "ph7RoG5Kw_Va"
   },
   "outputs": [
    {
     "ename": "SyntaxError",
     "evalue": "invalid syntax (__init__.py, line 1187)",
     "output_type": "error",
     "traceback": [
      "Traceback \u001b[0;36m(most recent call last)\u001b[0m:\n",
      "  File \u001b[1;32m\"/opt/anaconda3/lib/python3.7/site-packages/IPython/core/interactiveshell.py\"\u001b[0m, line \u001b[1;32m3343\u001b[0m, in \u001b[1;35mrun_code\u001b[0m\n    exec(code_obj, self.user_global_ns, self.user_ns)\n",
      "  File \u001b[1;32m\"<ipython-input-1-39eabf631455>\"\u001b[0m, line \u001b[1;32m15\u001b[0m, in \u001b[1;35m<module>\u001b[0m\n    data = pd.read_excel(\"GermanCreditData.xlsx\")\n",
      "  File \u001b[1;32m\"/opt/anaconda3/lib/python3.7/site-packages/pandas/util/_decorators.py\"\u001b[0m, line \u001b[1;32m311\u001b[0m, in \u001b[1;35mwrapper\u001b[0m\n    return func(*args, **kwargs)\n",
      "  File \u001b[1;32m\"/opt/anaconda3/lib/python3.7/site-packages/pandas/io/excel/_base.py\"\u001b[0m, line \u001b[1;32m364\u001b[0m, in \u001b[1;35mread_excel\u001b[0m\n    io = ExcelFile(io, storage_options=storage_options, engine=engine)\n",
      "  File \u001b[1;32m\"/opt/anaconda3/lib/python3.7/site-packages/pandas/io/excel/_base.py\"\u001b[0m, line \u001b[1;32m1178\u001b[0m, in \u001b[1;35m__init__\u001b[0m\n    if import_optional_dependency(\"xlrd\", errors=\"ignore\") is None:\n",
      "  File \u001b[1;32m\"/opt/anaconda3/lib/python3.7/site-packages/pandas/compat/_optional.py\"\u001b[0m, line \u001b[1;32m115\u001b[0m, in \u001b[1;35mimport_optional_dependency\u001b[0m\n    module = importlib.import_module(name)\n",
      "  File \u001b[1;32m\"/opt/anaconda3/lib/python3.7/importlib/__init__.py\"\u001b[0m, line \u001b[1;32m127\u001b[0m, in \u001b[1;35mimport_module\u001b[0m\n    return _bootstrap._gcd_import(name[level:], package, level)\n",
      "  File \u001b[1;32m\"<frozen importlib._bootstrap>\"\u001b[0m, line \u001b[1;32m1006\u001b[0m, in \u001b[1;35m_gcd_import\u001b[0m\n",
      "  File \u001b[1;32m\"<frozen importlib._bootstrap>\"\u001b[0m, line \u001b[1;32m983\u001b[0m, in \u001b[1;35m_find_and_load\u001b[0m\n",
      "  File \u001b[1;32m\"<frozen importlib._bootstrap>\"\u001b[0m, line \u001b[1;32m967\u001b[0m, in \u001b[1;35m_find_and_load_unlocked\u001b[0m\n",
      "  File \u001b[1;32m\"<frozen importlib._bootstrap>\"\u001b[0m, line \u001b[1;32m677\u001b[0m, in \u001b[1;35m_load_unlocked\u001b[0m\n",
      "  File \u001b[1;32m\"<frozen importlib._bootstrap_external>\"\u001b[0m, line \u001b[1;32m724\u001b[0m, in \u001b[1;35mexec_module\u001b[0m\n",
      "  File \u001b[1;32m\"<frozen importlib._bootstrap_external>\"\u001b[0m, line \u001b[1;32m860\u001b[0m, in \u001b[1;35mget_code\u001b[0m\n",
      "  File \u001b[1;32m\"<frozen importlib._bootstrap_external>\"\u001b[0m, line \u001b[1;32m791\u001b[0m, in \u001b[1;35msource_to_code\u001b[0m\n",
      "\u001b[0;36m  File \u001b[0;32m\"<frozen importlib._bootstrap>\"\u001b[0;36m, line \u001b[0;32m219\u001b[0;36m, in \u001b[0;35m_call_with_frames_removed\u001b[0;36m\u001b[0m\n",
      "\u001b[0;36m  File \u001b[0;32m\"/opt/anaconda3/lib/python3.7/site-packages/xlrd/__init__.py\"\u001b[0;36m, line \u001b[0;32m1187\u001b[0m\n\u001b[0;31m    print \"EXTERNSHEET(b7-):\"\u001b[0m\n\u001b[0m                            ^\u001b[0m\n\u001b[0;31mSyntaxError\u001b[0m\u001b[0;31m:\u001b[0m invalid syntax\n"
     ]
    }
   ],
   "source": [
    "# Import Package\n",
    "import numpy as np \n",
    "import pandas as pd \n",
    "import os\n",
    "import seaborn as sns \n",
    "import matplotlib.pyplot as plt\n",
    "from sklearn.feature_selection import SelectKBest\n",
    "from sklearn.feature_selection import chi2\n",
    "from sklearn.feature_selection import f_classif\n",
    "from numpy import set_printoptions\n",
    "from sklearn.feature_selection import mutual_info_classif\n",
    "\n",
    "# Import Data\n",
    "\n",
    "data = pd.read_excel(\"GermanCreditData.xlsx\")"
   ]
  },
  {
   "cell_type": "code",
   "execution_count": 17,
   "metadata": {
    "colab": {
     "base_uri": "https://localhost:8080/"
    },
    "id": "A1hMdASexN98",
    "outputId": "020c92c2-97ad-4fe8-e98a-d1a3d60e061e"
   },
   "outputs": [
    {
     "name": "stdout",
     "output_type": "stream",
     "text": [
      "Requirement already satisfied: scorecardpy in /opt/anaconda3/lib/python3.7/site-packages (0.1.9.2)\n",
      "Requirement already satisfied: matplotlib in /opt/anaconda3/lib/python3.7/site-packages (from scorecardpy) (3.2.2)\n",
      "Requirement already satisfied: pandas>=0.25.0 in /opt/anaconda3/lib/python3.7/site-packages (from scorecardpy) (1.0.5)\n",
      "Requirement already satisfied: numpy in /opt/anaconda3/lib/python3.7/site-packages (from scorecardpy) (1.18.5)\n",
      "Requirement already satisfied: scikit-learn>=0.19.1 in /opt/anaconda3/lib/python3.7/site-packages (from scorecardpy) (1.0.2)\n",
      "Requirement already satisfied: pytz>=2017.2 in /opt/anaconda3/lib/python3.7/site-packages (from pandas>=0.25.0->scorecardpy) (2020.1)\n",
      "Requirement already satisfied: python-dateutil>=2.6.1 in /opt/anaconda3/lib/python3.7/site-packages (from pandas>=0.25.0->scorecardpy) (2.8.1)\n",
      "Requirement already satisfied: joblib>=0.11 in /opt/anaconda3/lib/python3.7/site-packages (from scikit-learn>=0.19.1->scorecardpy) (0.16.0)\n",
      "Requirement already satisfied: threadpoolctl>=2.0.0 in /opt/anaconda3/lib/python3.7/site-packages (from scikit-learn>=0.19.1->scorecardpy) (2.1.0)\n",
      "Requirement already satisfied: scipy>=1.1.0 in /opt/anaconda3/lib/python3.7/site-packages (from scikit-learn>=0.19.1->scorecardpy) (1.7.3)\n",
      "Requirement already satisfied: cycler>=0.10 in /opt/anaconda3/lib/python3.7/site-packages (from matplotlib->scorecardpy) (0.10.0)\n",
      "Requirement already satisfied: pyparsing!=2.0.4,!=2.1.2,!=2.1.6,>=2.0.1 in /opt/anaconda3/lib/python3.7/site-packages (from matplotlib->scorecardpy) (2.4.7)\n",
      "Requirement already satisfied: kiwisolver>=1.0.1 in /opt/anaconda3/lib/python3.7/site-packages (from matplotlib->scorecardpy) (1.2.0)\n",
      "Requirement already satisfied: six in /opt/anaconda3/lib/python3.7/site-packages (from cycler>=0.10->matplotlib->scorecardpy) (1.15.0)\n"
     ]
    }
   ],
   "source": [
    "# Install the Scorecard Model Algorithm Package\n",
    "!pip install scorecardpy\n",
    "import scorecardpy as sc"
   ]
  },
  {
   "cell_type": "code",
   "execution_count": 18,
   "metadata": {
    "colab": {
     "base_uri": "https://localhost:8080/",
     "height": 235
    },
    "id": "iqxIRoDaxU0n",
    "outputId": "e9e1bbbd-5c21-45ec-c7e1-a7521073739e"
   },
   "outputs": [
    {
     "data": {
      "text/html": [
       "<div>\n",
       "<style scoped>\n",
       "    .dataframe tbody tr th:only-of-type {\n",
       "        vertical-align: middle;\n",
       "    }\n",
       "\n",
       "    .dataframe tbody tr th {\n",
       "        vertical-align: top;\n",
       "    }\n",
       "\n",
       "    .dataframe thead th {\n",
       "        text-align: right;\n",
       "    }\n",
       "</style>\n",
       "<table border=\"1\" class=\"dataframe\">\n",
       "  <thead>\n",
       "    <tr style=\"text-align: right;\">\n",
       "      <th></th>\n",
       "      <th>Checking</th>\n",
       "      <th>Duration</th>\n",
       "      <th>History</th>\n",
       "      <th>Purpose</th>\n",
       "      <th>Amount</th>\n",
       "      <th>Savings</th>\n",
       "      <th>Emploed</th>\n",
       "      <th>Installp</th>\n",
       "      <th>marital</th>\n",
       "      <th>Coapp</th>\n",
       "      <th>...</th>\n",
       "      <th>Age</th>\n",
       "      <th>Other</th>\n",
       "      <th>housing</th>\n",
       "      <th>Existcr</th>\n",
       "      <th>Job</th>\n",
       "      <th>Depends</th>\n",
       "      <th>Telephone</th>\n",
       "      <th>Foreign</th>\n",
       "      <th>Bad</th>\n",
       "      <th>Good</th>\n",
       "    </tr>\n",
       "  </thead>\n",
       "  <tbody>\n",
       "    <tr>\n",
       "      <th>0</th>\n",
       "      <td>1</td>\n",
       "      <td>6</td>\n",
       "      <td>4</td>\n",
       "      <td>3</td>\n",
       "      <td>1169</td>\n",
       "      <td>5</td>\n",
       "      <td>5</td>\n",
       "      <td>4</td>\n",
       "      <td>3</td>\n",
       "      <td>1</td>\n",
       "      <td>...</td>\n",
       "      <td>67</td>\n",
       "      <td>3</td>\n",
       "      <td>2</td>\n",
       "      <td>2</td>\n",
       "      <td>3</td>\n",
       "      <td>1</td>\n",
       "      <td>2</td>\n",
       "      <td>1</td>\n",
       "      <td>0</td>\n",
       "      <td>1</td>\n",
       "    </tr>\n",
       "    <tr>\n",
       "      <th>1</th>\n",
       "      <td>2</td>\n",
       "      <td>48</td>\n",
       "      <td>2</td>\n",
       "      <td>3</td>\n",
       "      <td>5951</td>\n",
       "      <td>1</td>\n",
       "      <td>3</td>\n",
       "      <td>2</td>\n",
       "      <td>2</td>\n",
       "      <td>1</td>\n",
       "      <td>...</td>\n",
       "      <td>22</td>\n",
       "      <td>3</td>\n",
       "      <td>2</td>\n",
       "      <td>1</td>\n",
       "      <td>3</td>\n",
       "      <td>1</td>\n",
       "      <td>1</td>\n",
       "      <td>1</td>\n",
       "      <td>1</td>\n",
       "      <td>0</td>\n",
       "    </tr>\n",
       "    <tr>\n",
       "      <th>2</th>\n",
       "      <td>4</td>\n",
       "      <td>12</td>\n",
       "      <td>4</td>\n",
       "      <td>6</td>\n",
       "      <td>2096</td>\n",
       "      <td>1</td>\n",
       "      <td>4</td>\n",
       "      <td>2</td>\n",
       "      <td>3</td>\n",
       "      <td>1</td>\n",
       "      <td>...</td>\n",
       "      <td>49</td>\n",
       "      <td>3</td>\n",
       "      <td>2</td>\n",
       "      <td>1</td>\n",
       "      <td>2</td>\n",
       "      <td>2</td>\n",
       "      <td>1</td>\n",
       "      <td>1</td>\n",
       "      <td>0</td>\n",
       "      <td>1</td>\n",
       "    </tr>\n",
       "    <tr>\n",
       "      <th>3</th>\n",
       "      <td>1</td>\n",
       "      <td>42</td>\n",
       "      <td>2</td>\n",
       "      <td>2</td>\n",
       "      <td>7882</td>\n",
       "      <td>1</td>\n",
       "      <td>4</td>\n",
       "      <td>2</td>\n",
       "      <td>3</td>\n",
       "      <td>3</td>\n",
       "      <td>...</td>\n",
       "      <td>45</td>\n",
       "      <td>3</td>\n",
       "      <td>3</td>\n",
       "      <td>1</td>\n",
       "      <td>3</td>\n",
       "      <td>2</td>\n",
       "      <td>1</td>\n",
       "      <td>1</td>\n",
       "      <td>0</td>\n",
       "      <td>1</td>\n",
       "    </tr>\n",
       "    <tr>\n",
       "      <th>4</th>\n",
       "      <td>1</td>\n",
       "      <td>24</td>\n",
       "      <td>3</td>\n",
       "      <td>0</td>\n",
       "      <td>4870</td>\n",
       "      <td>1</td>\n",
       "      <td>3</td>\n",
       "      <td>3</td>\n",
       "      <td>3</td>\n",
       "      <td>1</td>\n",
       "      <td>...</td>\n",
       "      <td>53</td>\n",
       "      <td>3</td>\n",
       "      <td>3</td>\n",
       "      <td>2</td>\n",
       "      <td>3</td>\n",
       "      <td>2</td>\n",
       "      <td>1</td>\n",
       "      <td>1</td>\n",
       "      <td>1</td>\n",
       "      <td>0</td>\n",
       "    </tr>\n",
       "  </tbody>\n",
       "</table>\n",
       "<p>5 rows × 22 columns</p>\n",
       "</div>"
      ],
      "text/plain": [
       "   Checking  Duration  History Purpose  Amount  Savings  Emploed  Installp  \\\n",
       "0         1         6        4       3    1169        5        5         4   \n",
       "1         2        48        2       3    5951        1        3         2   \n",
       "2         4        12        4       6    2096        1        4         2   \n",
       "3         1        42        2       2    7882        1        4         2   \n",
       "4         1        24        3       0    4870        1        3         3   \n",
       "\n",
       "   marital  Coapp  ...  Age  Other  housing  Existcr  Job  Depends  Telephone  \\\n",
       "0        3      1  ...   67      3        2        2    3        1          2   \n",
       "1        2      1  ...   22      3        2        1    3        1          1   \n",
       "2        3      1  ...   49      3        2        1    2        2          1   \n",
       "3        3      3  ...   45      3        3        1    3        2          1   \n",
       "4        3      1  ...   53      3        3        2    3        2          1   \n",
       "\n",
       "   Foreign  Bad  Good  \n",
       "0        1    0     1  \n",
       "1        1    1     0  \n",
       "2        1    0     1  \n",
       "3        1    0     1  \n",
       "4        1    1     0  \n",
       "\n",
       "[5 rows x 22 columns]"
      ]
     },
     "execution_count": 18,
     "metadata": {},
     "output_type": "execute_result"
    }
   ],
   "source": [
    "data.head()"
   ]
  },
  {
   "cell_type": "code",
   "execution_count": 19,
   "metadata": {
    "colab": {
     "base_uri": "https://localhost:8080/"
    },
    "id": "V8Qfvubkyhk1",
    "outputId": "61a1f128-c516-4bd5-928e-0b160eaa7c18"
   },
   "outputs": [
    {
     "name": "stdout",
     "output_type": "stream",
     "text": [
      "<class 'pandas.core.frame.DataFrame'>\n",
      "RangeIndex: 1000 entries, 0 to 999\n",
      "Data columns (total 22 columns):\n",
      " #   Column     Non-Null Count  Dtype \n",
      "---  ------     --------------  ----- \n",
      " 0   Checking   1000 non-null   int64 \n",
      " 1   Duration   1000 non-null   int64 \n",
      " 2   History    1000 non-null   int64 \n",
      " 3   Purpose    1000 non-null   object\n",
      " 4   Amount     1000 non-null   int64 \n",
      " 5   Savings    1000 non-null   int64 \n",
      " 6   Emploed    1000 non-null   int64 \n",
      " 7   Installp   1000 non-null   int64 \n",
      " 8   marital    1000 non-null   int64 \n",
      " 9   Coapp      1000 non-null   int64 \n",
      " 10  Resident   1000 non-null   int64 \n",
      " 11  Property   1000 non-null   int64 \n",
      " 12  Age        1000 non-null   int64 \n",
      " 13  Other      1000 non-null   int64 \n",
      " 14  housing    1000 non-null   int64 \n",
      " 15  Existcr    1000 non-null   int64 \n",
      " 16  Job        1000 non-null   int64 \n",
      " 17  Depends    1000 non-null   int64 \n",
      " 18  Telephone  1000 non-null   int64 \n",
      " 19  Foreign    1000 non-null   int64 \n",
      " 20  Bad        1000 non-null   int64 \n",
      " 21  Good       1000 non-null   int64 \n",
      "dtypes: int64(21), object(1)\n",
      "memory usage: 172.0+ KB\n"
     ]
    }
   ],
   "source": [
    "data.info()"
   ]
  },
  {
   "cell_type": "code",
   "execution_count": 20,
   "metadata": {
    "colab": {
     "base_uri": "https://localhost:8080/"
    },
    "id": "K3f9Oy9umRjI",
    "outputId": "787b27e7-0b7c-446b-a9da-d230d3dd1652"
   },
   "outputs": [
    {
     "data": {
      "text/plain": [
       "(1000, 22)"
      ]
     },
     "execution_count": 20,
     "metadata": {},
     "output_type": "execute_result"
    }
   ],
   "source": [
    "data.shape"
   ]
  },
  {
   "cell_type": "code",
   "execution_count": 21,
   "metadata": {
    "colab": {
     "base_uri": "https://localhost:8080/"
    },
    "id": "gQCRF2LN3r22",
    "outputId": "46832cda-9db9-4d56-8ab6-5db043757b03"
   },
   "outputs": [
    {
     "data": {
      "text/plain": [
       "0"
      ]
     },
     "execution_count": 21,
     "metadata": {},
     "output_type": "execute_result"
    }
   ],
   "source": [
    "# Data Cleaning\n",
    "\n",
    "data.isnull().values.sum()"
   ]
  },
  {
   "cell_type": "code",
   "execution_count": 22,
   "metadata": {
    "colab": {
     "base_uri": "https://localhost:8080/"
    },
    "id": "ROhEbzrEjfLQ",
    "outputId": "11d852ee-070a-4ad0-a3c7-95b28423c3bf"
   },
   "outputs": [
    {
     "data": {
      "text/plain": [
       "0"
      ]
     },
     "execution_count": 22,
     "metadata": {},
     "output_type": "execute_result"
    }
   ],
   "source": [
    "data.duplicated().sum()"
   ]
  },
  {
   "cell_type": "code",
   "execution_count": 23,
   "metadata": {
    "colab": {
     "base_uri": "https://localhost:8080/",
     "height": 394
    },
    "id": "k9CNV6C3jZES",
    "outputId": "a2666e3d-0752-465f-9054-8852f8e936ad"
   },
   "outputs": [
    {
     "data": {
      "text/html": [
       "<div>\n",
       "<style scoped>\n",
       "    .dataframe tbody tr th:only-of-type {\n",
       "        vertical-align: middle;\n",
       "    }\n",
       "\n",
       "    .dataframe tbody tr th {\n",
       "        vertical-align: top;\n",
       "    }\n",
       "\n",
       "    .dataframe thead th {\n",
       "        text-align: right;\n",
       "    }\n",
       "</style>\n",
       "<table border=\"1\" class=\"dataframe\">\n",
       "  <thead>\n",
       "    <tr style=\"text-align: right;\">\n",
       "      <th></th>\n",
       "      <th>Checking</th>\n",
       "      <th>Duration</th>\n",
       "      <th>History</th>\n",
       "      <th>Amount</th>\n",
       "      <th>Savings</th>\n",
       "      <th>Emploed</th>\n",
       "      <th>Installp</th>\n",
       "      <th>marital</th>\n",
       "      <th>Coapp</th>\n",
       "      <th>Resident</th>\n",
       "      <th>...</th>\n",
       "      <th>Age</th>\n",
       "      <th>Other</th>\n",
       "      <th>housing</th>\n",
       "      <th>Existcr</th>\n",
       "      <th>Job</th>\n",
       "      <th>Depends</th>\n",
       "      <th>Telephone</th>\n",
       "      <th>Foreign</th>\n",
       "      <th>Bad</th>\n",
       "      <th>Good</th>\n",
       "    </tr>\n",
       "  </thead>\n",
       "  <tbody>\n",
       "    <tr>\n",
       "      <th>count</th>\n",
       "      <td>1000.000000</td>\n",
       "      <td>1000.000000</td>\n",
       "      <td>1000.00000</td>\n",
       "      <td>1000.000000</td>\n",
       "      <td>1000.000000</td>\n",
       "      <td>1000.000000</td>\n",
       "      <td>1000.000000</td>\n",
       "      <td>1000.00000</td>\n",
       "      <td>1000.000000</td>\n",
       "      <td>1000.000000</td>\n",
       "      <td>...</td>\n",
       "      <td>1000.000000</td>\n",
       "      <td>1000.000000</td>\n",
       "      <td>1000.000000</td>\n",
       "      <td>1000.000000</td>\n",
       "      <td>1000.000000</td>\n",
       "      <td>1000.000000</td>\n",
       "      <td>1000.000000</td>\n",
       "      <td>1000.000000</td>\n",
       "      <td>1000.000000</td>\n",
       "      <td>1000.000000</td>\n",
       "    </tr>\n",
       "    <tr>\n",
       "      <th>mean</th>\n",
       "      <td>2.577000</td>\n",
       "      <td>20.903000</td>\n",
       "      <td>2.54500</td>\n",
       "      <td>3271.258000</td>\n",
       "      <td>2.105000</td>\n",
       "      <td>3.384000</td>\n",
       "      <td>2.973000</td>\n",
       "      <td>2.68200</td>\n",
       "      <td>1.145000</td>\n",
       "      <td>2.845000</td>\n",
       "      <td>...</td>\n",
       "      <td>35.546000</td>\n",
       "      <td>2.675000</td>\n",
       "      <td>1.929000</td>\n",
       "      <td>1.407000</td>\n",
       "      <td>2.904000</td>\n",
       "      <td>1.155000</td>\n",
       "      <td>1.404000</td>\n",
       "      <td>1.037000</td>\n",
       "      <td>0.300000</td>\n",
       "      <td>0.700000</td>\n",
       "    </tr>\n",
       "    <tr>\n",
       "      <th>std</th>\n",
       "      <td>1.257638</td>\n",
       "      <td>12.058814</td>\n",
       "      <td>1.08312</td>\n",
       "      <td>2822.736876</td>\n",
       "      <td>1.580023</td>\n",
       "      <td>1.208306</td>\n",
       "      <td>1.118715</td>\n",
       "      <td>0.70808</td>\n",
       "      <td>0.477706</td>\n",
       "      <td>1.103718</td>\n",
       "      <td>...</td>\n",
       "      <td>11.375469</td>\n",
       "      <td>0.705601</td>\n",
       "      <td>0.531264</td>\n",
       "      <td>0.577654</td>\n",
       "      <td>0.653614</td>\n",
       "      <td>0.362086</td>\n",
       "      <td>0.490943</td>\n",
       "      <td>0.188856</td>\n",
       "      <td>0.458487</td>\n",
       "      <td>0.458487</td>\n",
       "    </tr>\n",
       "    <tr>\n",
       "      <th>min</th>\n",
       "      <td>1.000000</td>\n",
       "      <td>4.000000</td>\n",
       "      <td>0.00000</td>\n",
       "      <td>250.000000</td>\n",
       "      <td>1.000000</td>\n",
       "      <td>1.000000</td>\n",
       "      <td>1.000000</td>\n",
       "      <td>1.00000</td>\n",
       "      <td>1.000000</td>\n",
       "      <td>1.000000</td>\n",
       "      <td>...</td>\n",
       "      <td>19.000000</td>\n",
       "      <td>1.000000</td>\n",
       "      <td>1.000000</td>\n",
       "      <td>1.000000</td>\n",
       "      <td>1.000000</td>\n",
       "      <td>1.000000</td>\n",
       "      <td>1.000000</td>\n",
       "      <td>1.000000</td>\n",
       "      <td>0.000000</td>\n",
       "      <td>0.000000</td>\n",
       "    </tr>\n",
       "    <tr>\n",
       "      <th>25%</th>\n",
       "      <td>1.000000</td>\n",
       "      <td>12.000000</td>\n",
       "      <td>2.00000</td>\n",
       "      <td>1365.500000</td>\n",
       "      <td>1.000000</td>\n",
       "      <td>3.000000</td>\n",
       "      <td>2.000000</td>\n",
       "      <td>2.00000</td>\n",
       "      <td>1.000000</td>\n",
       "      <td>2.000000</td>\n",
       "      <td>...</td>\n",
       "      <td>27.000000</td>\n",
       "      <td>3.000000</td>\n",
       "      <td>2.000000</td>\n",
       "      <td>1.000000</td>\n",
       "      <td>3.000000</td>\n",
       "      <td>1.000000</td>\n",
       "      <td>1.000000</td>\n",
       "      <td>1.000000</td>\n",
       "      <td>0.000000</td>\n",
       "      <td>0.000000</td>\n",
       "    </tr>\n",
       "    <tr>\n",
       "      <th>50%</th>\n",
       "      <td>2.000000</td>\n",
       "      <td>18.000000</td>\n",
       "      <td>2.00000</td>\n",
       "      <td>2319.500000</td>\n",
       "      <td>1.000000</td>\n",
       "      <td>3.000000</td>\n",
       "      <td>3.000000</td>\n",
       "      <td>3.00000</td>\n",
       "      <td>1.000000</td>\n",
       "      <td>3.000000</td>\n",
       "      <td>...</td>\n",
       "      <td>33.000000</td>\n",
       "      <td>3.000000</td>\n",
       "      <td>2.000000</td>\n",
       "      <td>1.000000</td>\n",
       "      <td>3.000000</td>\n",
       "      <td>1.000000</td>\n",
       "      <td>1.000000</td>\n",
       "      <td>1.000000</td>\n",
       "      <td>0.000000</td>\n",
       "      <td>1.000000</td>\n",
       "    </tr>\n",
       "    <tr>\n",
       "      <th>75%</th>\n",
       "      <td>4.000000</td>\n",
       "      <td>24.000000</td>\n",
       "      <td>4.00000</td>\n",
       "      <td>3972.250000</td>\n",
       "      <td>3.000000</td>\n",
       "      <td>5.000000</td>\n",
       "      <td>4.000000</td>\n",
       "      <td>3.00000</td>\n",
       "      <td>1.000000</td>\n",
       "      <td>4.000000</td>\n",
       "      <td>...</td>\n",
       "      <td>42.000000</td>\n",
       "      <td>3.000000</td>\n",
       "      <td>2.000000</td>\n",
       "      <td>2.000000</td>\n",
       "      <td>3.000000</td>\n",
       "      <td>1.000000</td>\n",
       "      <td>2.000000</td>\n",
       "      <td>1.000000</td>\n",
       "      <td>1.000000</td>\n",
       "      <td>1.000000</td>\n",
       "    </tr>\n",
       "    <tr>\n",
       "      <th>max</th>\n",
       "      <td>4.000000</td>\n",
       "      <td>72.000000</td>\n",
       "      <td>4.00000</td>\n",
       "      <td>18424.000000</td>\n",
       "      <td>5.000000</td>\n",
       "      <td>5.000000</td>\n",
       "      <td>4.000000</td>\n",
       "      <td>4.00000</td>\n",
       "      <td>3.000000</td>\n",
       "      <td>4.000000</td>\n",
       "      <td>...</td>\n",
       "      <td>75.000000</td>\n",
       "      <td>3.000000</td>\n",
       "      <td>3.000000</td>\n",
       "      <td>4.000000</td>\n",
       "      <td>4.000000</td>\n",
       "      <td>2.000000</td>\n",
       "      <td>2.000000</td>\n",
       "      <td>2.000000</td>\n",
       "      <td>1.000000</td>\n",
       "      <td>1.000000</td>\n",
       "    </tr>\n",
       "  </tbody>\n",
       "</table>\n",
       "<p>8 rows × 21 columns</p>\n",
       "</div>"
      ],
      "text/plain": [
       "          Checking     Duration     History        Amount      Savings  \\\n",
       "count  1000.000000  1000.000000  1000.00000   1000.000000  1000.000000   \n",
       "mean      2.577000    20.903000     2.54500   3271.258000     2.105000   \n",
       "std       1.257638    12.058814     1.08312   2822.736876     1.580023   \n",
       "min       1.000000     4.000000     0.00000    250.000000     1.000000   \n",
       "25%       1.000000    12.000000     2.00000   1365.500000     1.000000   \n",
       "50%       2.000000    18.000000     2.00000   2319.500000     1.000000   \n",
       "75%       4.000000    24.000000     4.00000   3972.250000     3.000000   \n",
       "max       4.000000    72.000000     4.00000  18424.000000     5.000000   \n",
       "\n",
       "           Emploed     Installp     marital        Coapp     Resident  ...  \\\n",
       "count  1000.000000  1000.000000  1000.00000  1000.000000  1000.000000  ...   \n",
       "mean      3.384000     2.973000     2.68200     1.145000     2.845000  ...   \n",
       "std       1.208306     1.118715     0.70808     0.477706     1.103718  ...   \n",
       "min       1.000000     1.000000     1.00000     1.000000     1.000000  ...   \n",
       "25%       3.000000     2.000000     2.00000     1.000000     2.000000  ...   \n",
       "50%       3.000000     3.000000     3.00000     1.000000     3.000000  ...   \n",
       "75%       5.000000     4.000000     3.00000     1.000000     4.000000  ...   \n",
       "max       5.000000     4.000000     4.00000     3.000000     4.000000  ...   \n",
       "\n",
       "               Age        Other      housing      Existcr          Job  \\\n",
       "count  1000.000000  1000.000000  1000.000000  1000.000000  1000.000000   \n",
       "mean     35.546000     2.675000     1.929000     1.407000     2.904000   \n",
       "std      11.375469     0.705601     0.531264     0.577654     0.653614   \n",
       "min      19.000000     1.000000     1.000000     1.000000     1.000000   \n",
       "25%      27.000000     3.000000     2.000000     1.000000     3.000000   \n",
       "50%      33.000000     3.000000     2.000000     1.000000     3.000000   \n",
       "75%      42.000000     3.000000     2.000000     2.000000     3.000000   \n",
       "max      75.000000     3.000000     3.000000     4.000000     4.000000   \n",
       "\n",
       "           Depends    Telephone      Foreign          Bad         Good  \n",
       "count  1000.000000  1000.000000  1000.000000  1000.000000  1000.000000  \n",
       "mean      1.155000     1.404000     1.037000     0.300000     0.700000  \n",
       "std       0.362086     0.490943     0.188856     0.458487     0.458487  \n",
       "min       1.000000     1.000000     1.000000     0.000000     0.000000  \n",
       "25%       1.000000     1.000000     1.000000     0.000000     0.000000  \n",
       "50%       1.000000     1.000000     1.000000     0.000000     1.000000  \n",
       "75%       1.000000     2.000000     1.000000     1.000000     1.000000  \n",
       "max       2.000000     2.000000     2.000000     1.000000     1.000000  \n",
       "\n",
       "[8 rows x 21 columns]"
      ]
     },
     "execution_count": 23,
     "metadata": {},
     "output_type": "execute_result"
    }
   ],
   "source": [
    "data.describe()"
   ]
  },
  {
   "cell_type": "code",
   "execution_count": 24,
   "metadata": {
    "colab": {
     "base_uri": "https://localhost:8080/"
    },
    "id": "9ySR8RYl8KHJ",
    "outputId": "d8f49b9e-5b7e-4adb-ae6c-c02d478285cb"
   },
   "outputs": [],
   "source": [
    "# Since the columns 'Bad' and 'Good' show the same values differently, we can remove the 'Bad' column to remove confusion\n",
    "data = data.drop('Bad', 1)"
   ]
  },
  {
   "cell_type": "code",
   "execution_count": 25,
   "metadata": {
    "colab": {
     "base_uri": "https://localhost:8080/"
    },
    "id": "3FIEyACb0EIb",
    "outputId": "93ef7594-2c7f-4b85-a32b-8ba8b68f0f35"
   },
   "outputs": [
    {
     "data": {
      "text/plain": [
       "3    280\n",
       "0    234\n",
       "2    181\n",
       "1    103\n",
       "9     97\n",
       "6     50\n",
       "5     22\n",
       "X     12\n",
       "4     12\n",
       "8      9\n",
       "Name: Purpose, dtype: int64"
      ]
     },
     "execution_count": 25,
     "metadata": {},
     "output_type": "execute_result"
    }
   ],
   "source": [
    "data.Purpose.value_counts()"
   ]
  },
  {
   "cell_type": "code",
   "execution_count": 26,
   "metadata": {
    "id": "VrD98Fcj0uaR"
   },
   "outputs": [],
   "source": [
    "# Since we have some 'X' values in this columns, we need to replace it with 'Other' cateogory i.e '9' for better analysis\n",
    "data['Purpose'].replace('X','9',inplace=True)"
   ]
  },
  {
   "cell_type": "code",
   "execution_count": 27,
   "metadata": {
    "colab": {
     "base_uri": "https://localhost:8080/"
    },
    "id": "agMD9R-h1gQ3",
    "outputId": "d508288a-e4d7-4a7e-ead6-2fe0d6dbde78"
   },
   "outputs": [
    {
     "data": {
      "text/plain": [
       "3    280\n",
       "0    234\n",
       "2    181\n",
       "1    103\n",
       "9     97\n",
       "6     50\n",
       "5     22\n",
       "9     12\n",
       "4     12\n",
       "8      9\n",
       "Name: Purpose, dtype: int64"
      ]
     },
     "execution_count": 27,
     "metadata": {},
     "output_type": "execute_result"
    }
   ],
   "source": [
    "data.Purpose.value_counts()"
   ]
  },
  {
   "cell_type": "code",
   "execution_count": 28,
   "metadata": {
    "colab": {
     "base_uri": "https://localhost:8080/",
     "height": 351
    },
    "id": "48F5yNpZXXbB",
    "outputId": "2515db01-6534-4cfd-f272-54e298cb0c00"
   },
   "outputs": [
    {
     "data": {
      "text/plain": [
       "<matplotlib.axes._subplots.AxesSubplot at 0x7fd2f58bc890>"
      ]
     },
     "execution_count": 28,
     "metadata": {},
     "output_type": "execute_result"
    },
    {
     "data": {
      "image/png": "[encoded data removed]",
      "text/plain": [
       "<Figure size 432x288 with 1 Axes>"
      ]
     },
     "metadata": {
      "needs_background": "light"
     },
     "output_type": "display_data"
    }
   ],
   "source": [
    "sns.boxplot(data['Duration'])"
   ]
  },
  {
   "cell_type": "code",
   "execution_count": 29,
   "metadata": {
    "colab": {
     "base_uri": "https://localhost:8080/"
    },
    "id": "Ddj1zWIYXr_8",
    "outputId": "3bed6245-a3cb-49c9-faf3-29adec0082cd"
   },
   "outputs": [
    {
     "ename": "AttributeError",
     "evalue": "'DataFrame' object has no attribute 'value_counts'",
     "output_type": "error",
     "traceback": [
      "\u001b[0;31m---------------------------------------------------------------------------\u001b[0m",
      "\u001b[0;31mAttributeError\u001b[0m                            Traceback (most recent call last)",
      "\u001b[0;32m<ipython-input-29-e61aea829f70>\u001b[0m in \u001b[0;36m<module>\u001b[0;34m\u001b[0m\n\u001b[0;32m----> 1\u001b[0;31m \u001b[0mdata\u001b[0m\u001b[0;34m[\u001b[0m\u001b[0mdata\u001b[0m\u001b[0;34m.\u001b[0m\u001b[0mDuration\u001b[0m \u001b[0;34m>=\u001b[0m\u001b[0;36m60\u001b[0m\u001b[0;34m]\u001b[0m\u001b[0;34m.\u001b[0m\u001b[0mvalue_counts\u001b[0m\u001b[0;34m(\u001b[0m\u001b[0;34m)\u001b[0m\u001b[0;34m\u001b[0m\u001b[0;34m\u001b[0m\u001b[0m\n\u001b[0m",
      "\u001b[0;32m/opt/anaconda3/lib/python3.7/site-packages/pandas/core/generic.py\u001b[0m in \u001b[0;36m__getattr__\u001b[0;34m(self, name)\u001b[0m\n\u001b[1;32m   5272\u001b[0m             \u001b[0;32mif\u001b[0m \u001b[0mself\u001b[0m\u001b[0;34m.\u001b[0m\u001b[0m_info_axis\u001b[0m\u001b[0;34m.\u001b[0m\u001b[0m_can_hold_identifiers_and_holds_name\u001b[0m\u001b[0;34m(\u001b[0m\u001b[0mname\u001b[0m\u001b[0;34m)\u001b[0m\u001b[0;34m:\u001b[0m\u001b[0;34m\u001b[0m\u001b[0;34m\u001b[0m\u001b[0m\n\u001b[1;32m   5273\u001b[0m                 \u001b[0;32mreturn\u001b[0m \u001b[0mself\u001b[0m\u001b[0;34m[\u001b[0m\u001b[0mname\u001b[0m\u001b[0;34m]\u001b[0m\u001b[0;34m\u001b[0m\u001b[0;34m\u001b[0m\u001b[0m\n\u001b[0;32m-> 5274\u001b[0;31m             \u001b[0;32mreturn\u001b[0m \u001b[0mobject\u001b[0m\u001b[0;34m.\u001b[0m\u001b[0m__getattribute__\u001b[0m\u001b[0;34m(\u001b[0m\u001b[0mself\u001b[0m\u001b[0;34m,\u001b[0m \u001b[0mname\u001b[0m\u001b[0;34m)\u001b[0m\u001b[0;34m\u001b[0m\u001b[0;34m\u001b[0m\u001b[0m\n\u001b[0m\u001b[1;32m   5275\u001b[0m \u001b[0;34m\u001b[0m\u001b[0m\n\u001b[1;32m   5276\u001b[0m     \u001b[0;32mdef\u001b[0m \u001b[0m__setattr__\u001b[0m\u001b[0;34m(\u001b[0m\u001b[0mself\u001b[0m\u001b[0;34m,\u001b[0m \u001b[0mname\u001b[0m\u001b[0;34m:\u001b[0m \u001b[0mstr\u001b[0m\u001b[0;34m,\u001b[0m \u001b[0mvalue\u001b[0m\u001b[0;34m)\u001b[0m \u001b[0;34m->\u001b[0m \u001b[0;32mNone\u001b[0m\u001b[0;34m:\u001b[0m\u001b[0;34m\u001b[0m\u001b[0;34m\u001b[0m\u001b[0m\n",
      "\u001b[0;31mAttributeError\u001b[0m: 'DataFrame' object has no attribute 'value_counts'"
     ]
    }
   ],
   "source": [
    "data[data.Duration >=60].value_counts()"
   ]
  },
  {
   "cell_type": "code",
   "execution_count": null,
   "metadata": {
    "id": "j7GxeDHTqBV-"
   },
   "outputs": [],
   "source": [
    "# Removing Outliers\n",
    "data.drop(data[(data['Duration'] >= 60)].index, inplace=True)"
   ]
  },
  {
   "cell_type": "code",
   "execution_count": null,
   "metadata": {
    "colab": {
     "base_uri": "https://localhost:8080/",
     "height": 351
    },
    "id": "66KY5h5D5lG0",
    "outputId": "ee58c345-3b0a-4d9b-f66b-9212c2e75959"
   },
   "outputs": [],
   "source": [
    "sns.boxplot(data['Existcr'])"
   ]
  },
  {
   "cell_type": "code",
   "execution_count": null,
   "metadata": {
    "colab": {
     "base_uri": "https://localhost:8080/"
    },
    "id": "w0w7BD9uXIo4",
    "outputId": "17dcdebe-8f0e-467a-b486-f7c3559bbacb"
   },
   "outputs": [],
   "source": [
    "data[data.Existcr >=4].value_counts()"
   ]
  },
  {
   "cell_type": "code",
   "execution_count": null,
   "metadata": {
    "colab": {
     "base_uri": "https://localhost:8080/",
     "height": 351
    },
    "id": "wrfGFzo55n-T",
    "outputId": "87841056-8e9f-4528-a934-3c21ac0be81f"
   },
   "outputs": [],
   "source": [
    "sns.boxplot(data['Depends'])"
   ]
  },
  {
   "cell_type": "code",
   "execution_count": null,
   "metadata": {
    "colab": {
     "base_uri": "https://localhost:8080/"
    },
    "id": "niYuD17h5-G-",
    "outputId": "75f8f8a7-63bb-4a49-96d2-a1d0dba60bc7"
   },
   "outputs": [],
   "source": [
    "data[data.Depends >=2].value_counts()"
   ]
  },
  {
   "cell_type": "code",
   "execution_count": null,
   "metadata": {
    "colab": {
     "base_uri": "https://localhost:8080/",
     "height": 351
    },
    "id": "L4OVeu8x5hll",
    "outputId": "cd69f3ee-e1e4-4e2a-aeb6-40f0a52017e6"
   },
   "outputs": [],
   "source": [
    "sns.boxplot(data['Installp'])"
   ]
  },
  {
   "cell_type": "code",
   "execution_count": null,
   "metadata": {
    "colab": {
     "base_uri": "https://localhost:8080/",
     "height": 351
    },
    "id": "mG5t6dopgvyO",
    "outputId": "35c83a02-6076-4ffb-e758-0ea36349995b"
   },
   "outputs": [],
   "source": [
    "sns.boxplot(data['Age'])"
   ]
  },
  {
   "cell_type": "code",
   "execution_count": null,
   "metadata": {
    "colab": {
     "base_uri": "https://localhost:8080/"
    },
    "id": "7ZtXoyIAipYS",
    "outputId": "7b9e7e04-6e39-433e-fd18-b83614a2852a"
   },
   "outputs": [],
   "source": [
    "data[data.Age >=70].value_counts()"
   ]
  },
  {
   "cell_type": "code",
   "execution_count": null,
   "metadata": {
    "id": "xEbhTL7Br57M"
   },
   "outputs": [],
   "source": [
    "# Removing Outliers\n",
    "data.drop(data[(data['Age'] >= 70)].index, inplace=True)"
   ]
  },
  {
   "cell_type": "code",
   "execution_count": null,
   "metadata": {
    "colab": {
     "base_uri": "https://localhost:8080/",
     "height": 351
    },
    "id": "GkN4fVrEgxXO",
    "outputId": "45dc03ef-19b4-4107-a79f-635df122ef19"
   },
   "outputs": [],
   "source": [
    "sns.boxplot(data['Amount'])"
   ]
  },
  {
   "cell_type": "code",
   "execution_count": null,
   "metadata": {
    "colab": {
     "base_uri": "https://localhost:8080/"
    },
    "id": "UQq6X03xi0pb",
    "outputId": "12ca3a28-40d8-4484-d040-cd8487734e4e"
   },
   "outputs": [],
   "source": [
    "data[data.Amount >=17500].value_counts()"
   ]
  },
  {
   "cell_type": "code",
   "execution_count": null,
   "metadata": {
    "id": "NBRSvsZdr-Qj"
   },
   "outputs": [],
   "source": [
    "# Removing Outliers\n",
    "data.drop(data[(data['Amount'] >= 17500)].index, inplace=True)"
   ]
  },
  {
   "cell_type": "code",
   "execution_count": 30,
   "metadata": {
    "id": "dWB670tsjS_a"
   },
   "outputs": [],
   "source": [
    "# It is clear from these observations that there are certain outliers that need to be removed from the columns: DURATION, AMOUNT, AGE since their max values are quite\n",
    "# large compartively to the mean values of these columns. Likewise, the boxplots also clearly show some values allowing for discrepency in the data"
   ]
  },
  {
   "cell_type": "code",
   "execution_count": 31,
   "metadata": {
    "colab": {
     "base_uri": "https://localhost:8080/"
    },
    "id": "1e-lVlxyRE2W",
    "outputId": "bf40db40-ee7a-4eb5-99c9-1db376dc8e19"
   },
   "outputs": [
    {
     "name": "stdout",
     "output_type": "stream",
     "text": [
      "<class 'pandas.core.frame.DataFrame'>\n",
      "RangeIndex: 1000 entries, 0 to 999\n",
      "Data columns (total 21 columns):\n",
      " #   Column     Non-Null Count  Dtype \n",
      "---  ------     --------------  ----- \n",
      " 0   Checking   1000 non-null   object\n",
      " 1   Duration   1000 non-null   int64 \n",
      " 2   History    1000 non-null   object\n",
      " 3   Purpose    1000 non-null   object\n",
      " 4   Amount     1000 non-null   int64 \n",
      " 5   Savings    1000 non-null   object\n",
      " 6   Emploed    1000 non-null   object\n",
      " 7   Installp   1000 non-null   int64 \n",
      " 8   marital    1000 non-null   object\n",
      " 9   Coapp      1000 non-null   int64 \n",
      " 10  Resident   1000 non-null   int64 \n",
      " 11  Property   1000 non-null   object\n",
      " 12  Age        1000 non-null   int64 \n",
      " 13  Other      1000 non-null   object\n",
      " 14  housing    1000 non-null   object\n",
      " 15  Existcr    1000 non-null   int64 \n",
      " 16  Job        1000 non-null   object\n",
      " 17  Depends    1000 non-null   int64 \n",
      " 18  Telephone  1000 non-null   object\n",
      " 19  Foreign    1000 non-null   object\n",
      " 20  Good       1000 non-null   int64 \n",
      "dtypes: int64(9), object(12)\n",
      "memory usage: 164.2+ KB\n"
     ]
    }
   ],
   "source": [
    "data['Checking'] = data['Checking'].values.astype(str)\n",
    "data['History'] = data['History'].values.astype(str)\n",
    "data['Purpose'] = data['Purpose'].values.astype(str)\n",
    "data['Savings'] = data['Savings'].values.astype(str)\n",
    "data['Emploed'] = data['Emploed'].values.astype(str)\n",
    "data['marital'] = data['marital'].values.astype(str)\n",
    "data['Property'] = data['Property'].values.astype(str)\n",
    "data['Other'] = data['Other'].values.astype(str)\n",
    "data['housing'] = data['housing'].values.astype(str)\n",
    "data['Job'] = data['Job'].values.astype(str)\n",
    "data['Telephone'] = data['Telephone'].values.astype(str)\n",
    "data['Foreign'] = data['Foreign'].values.astype(str)\n",
    "data.info()"
   ]
  },
  {
   "cell_type": "code",
   "execution_count": 32,
   "metadata": {
    "id": "kPLSh-E6WIzW"
   },
   "outputs": [],
   "source": [
    "data = data.replace(r'^\\s*$', np.nan, regex=True)"
   ]
  },
  {
   "cell_type": "code",
   "execution_count": 33,
   "metadata": {
    "colab": {
     "base_uri": "https://localhost:8080/",
     "height": 235
    },
    "id": "f1gJD2bKxPQC",
    "outputId": "5b57b98e-d391-4360-dc5f-b3bb81fc24c7"
   },
   "outputs": [
    {
     "data": {
      "text/html": [
       "<div>\n",
       "<style scoped>\n",
       "    .dataframe tbody tr th:only-of-type {\n",
       "        vertical-align: middle;\n",
       "    }\n",
       "\n",
       "    .dataframe tbody tr th {\n",
       "        vertical-align: top;\n",
       "    }\n",
       "\n",
       "    .dataframe thead th {\n",
       "        text-align: right;\n",
       "    }\n",
       "</style>\n",
       "<table border=\"1\" class=\"dataframe\">\n",
       "  <thead>\n",
       "    <tr style=\"text-align: right;\">\n",
       "      <th></th>\n",
       "      <th>Checking</th>\n",
       "      <th>Duration</th>\n",
       "      <th>History</th>\n",
       "      <th>Purpose</th>\n",
       "      <th>Amount</th>\n",
       "      <th>Savings</th>\n",
       "      <th>Emploed</th>\n",
       "      <th>Installp</th>\n",
       "      <th>marital</th>\n",
       "      <th>Coapp</th>\n",
       "      <th>...</th>\n",
       "      <th>Property</th>\n",
       "      <th>Age</th>\n",
       "      <th>Other</th>\n",
       "      <th>housing</th>\n",
       "      <th>Existcr</th>\n",
       "      <th>Job</th>\n",
       "      <th>Depends</th>\n",
       "      <th>Telephone</th>\n",
       "      <th>Foreign</th>\n",
       "      <th>Good</th>\n",
       "    </tr>\n",
       "  </thead>\n",
       "  <tbody>\n",
       "    <tr>\n",
       "      <th>0</th>\n",
       "      <td>1</td>\n",
       "      <td>6</td>\n",
       "      <td>4</td>\n",
       "      <td>3</td>\n",
       "      <td>1169</td>\n",
       "      <td>5</td>\n",
       "      <td>5</td>\n",
       "      <td>4</td>\n",
       "      <td>3</td>\n",
       "      <td>1</td>\n",
       "      <td>...</td>\n",
       "      <td>1</td>\n",
       "      <td>67</td>\n",
       "      <td>3</td>\n",
       "      <td>2</td>\n",
       "      <td>2</td>\n",
       "      <td>3</td>\n",
       "      <td>1</td>\n",
       "      <td>2</td>\n",
       "      <td>1</td>\n",
       "      <td>1</td>\n",
       "    </tr>\n",
       "    <tr>\n",
       "      <th>2</th>\n",
       "      <td>4</td>\n",
       "      <td>12</td>\n",
       "      <td>4</td>\n",
       "      <td>6</td>\n",
       "      <td>2096</td>\n",
       "      <td>1</td>\n",
       "      <td>4</td>\n",
       "      <td>2</td>\n",
       "      <td>3</td>\n",
       "      <td>1</td>\n",
       "      <td>...</td>\n",
       "      <td>1</td>\n",
       "      <td>49</td>\n",
       "      <td>3</td>\n",
       "      <td>2</td>\n",
       "      <td>1</td>\n",
       "      <td>2</td>\n",
       "      <td>2</td>\n",
       "      <td>1</td>\n",
       "      <td>1</td>\n",
       "      <td>1</td>\n",
       "    </tr>\n",
       "    <tr>\n",
       "      <th>8</th>\n",
       "      <td>4</td>\n",
       "      <td>12</td>\n",
       "      <td>2</td>\n",
       "      <td>3</td>\n",
       "      <td>3059</td>\n",
       "      <td>4</td>\n",
       "      <td>4</td>\n",
       "      <td>2</td>\n",
       "      <td>1</td>\n",
       "      <td>1</td>\n",
       "      <td>...</td>\n",
       "      <td>1</td>\n",
       "      <td>61</td>\n",
       "      <td>3</td>\n",
       "      <td>2</td>\n",
       "      <td>1</td>\n",
       "      <td>2</td>\n",
       "      <td>1</td>\n",
       "      <td>1</td>\n",
       "      <td>1</td>\n",
       "      <td>1</td>\n",
       "    </tr>\n",
       "    <tr>\n",
       "      <th>10</th>\n",
       "      <td>2</td>\n",
       "      <td>12</td>\n",
       "      <td>2</td>\n",
       "      <td>0</td>\n",
       "      <td>1295</td>\n",
       "      <td>1</td>\n",
       "      <td>2</td>\n",
       "      <td>3</td>\n",
       "      <td>2</td>\n",
       "      <td>1</td>\n",
       "      <td>...</td>\n",
       "      <td>3</td>\n",
       "      <td>25</td>\n",
       "      <td>3</td>\n",
       "      <td>1</td>\n",
       "      <td>1</td>\n",
       "      <td>3</td>\n",
       "      <td>1</td>\n",
       "      <td>1</td>\n",
       "      <td>1</td>\n",
       "      <td>0</td>\n",
       "    </tr>\n",
       "    <tr>\n",
       "      <th>12</th>\n",
       "      <td>2</td>\n",
       "      <td>12</td>\n",
       "      <td>2</td>\n",
       "      <td>3</td>\n",
       "      <td>1567</td>\n",
       "      <td>1</td>\n",
       "      <td>3</td>\n",
       "      <td>1</td>\n",
       "      <td>2</td>\n",
       "      <td>1</td>\n",
       "      <td>...</td>\n",
       "      <td>3</td>\n",
       "      <td>22</td>\n",
       "      <td>3</td>\n",
       "      <td>2</td>\n",
       "      <td>1</td>\n",
       "      <td>3</td>\n",
       "      <td>1</td>\n",
       "      <td>2</td>\n",
       "      <td>1</td>\n",
       "      <td>1</td>\n",
       "    </tr>\n",
       "  </tbody>\n",
       "</table>\n",
       "<p>5 rows × 21 columns</p>\n",
       "</div>"
      ],
      "text/plain": [
       "   Checking  Duration History Purpose  Amount Savings Emploed  Installp  \\\n",
       "0         1         6       4       3    1169       5       5         4   \n",
       "2         4        12       4       6    2096       1       4         2   \n",
       "8         4        12       2       3    3059       4       4         2   \n",
       "10        2        12       2       0    1295       1       2         3   \n",
       "12        2        12       2       3    1567       1       3         1   \n",
       "\n",
       "   marital  Coapp  ...  Property Age  Other housing Existcr  Job Depends  \\\n",
       "0        3      1  ...         1  67      3       2       2    3       1   \n",
       "2        3      1  ...         1  49      3       2       1    2       2   \n",
       "8        1      1  ...         1  61      3       2       1    2       1   \n",
       "10       2      1  ...         3  25      3       1       1    3       1   \n",
       "12       2      1  ...         3  22      3       2       1    3       1   \n",
       "\n",
       "    Telephone Foreign Good  \n",
       "0           2       1    1  \n",
       "2           1       1    1  \n",
       "8           1       1    1  \n",
       "10          1       1    0  \n",
       "12          2       1    1  \n",
       "\n",
       "[5 rows x 21 columns]"
      ]
     },
     "execution_count": 33,
     "metadata": {},
     "output_type": "execute_result"
    }
   ],
   "source": [
    "# Question 1 : Split dataset to <=12 months and >12 months\n",
    "\n",
    "data1 = data[data.Duration <= 12]\n",
    "data2 = data[data.Duration > 12]\n",
    "data1.head()"
   ]
  },
  {
   "cell_type": "code",
   "execution_count": 34,
   "metadata": {
    "colab": {
     "base_uri": "https://localhost:8080/",
     "height": 235
    },
    "id": "iPo2qQdEyH7e",
    "outputId": "b3109f3c-60ab-463e-9370-101fbf6aa4d3"
   },
   "outputs": [
    {
     "data": {
      "text/html": [
       "<div>\n",
       "<style scoped>\n",
       "    .dataframe tbody tr th:only-of-type {\n",
       "        vertical-align: middle;\n",
       "    }\n",
       "\n",
       "    .dataframe tbody tr th {\n",
       "        vertical-align: top;\n",
       "    }\n",
       "\n",
       "    .dataframe thead th {\n",
       "        text-align: right;\n",
       "    }\n",
       "</style>\n",
       "<table border=\"1\" class=\"dataframe\">\n",
       "  <thead>\n",
       "    <tr style=\"text-align: right;\">\n",
       "      <th></th>\n",
       "      <th>Checking</th>\n",
       "      <th>Duration</th>\n",
       "      <th>History</th>\n",
       "      <th>Purpose</th>\n",
       "      <th>Amount</th>\n",
       "      <th>Savings</th>\n",
       "      <th>Emploed</th>\n",
       "      <th>Installp</th>\n",
       "      <th>marital</th>\n",
       "      <th>Coapp</th>\n",
       "      <th>...</th>\n",
       "      <th>Property</th>\n",
       "      <th>Age</th>\n",
       "      <th>Other</th>\n",
       "      <th>housing</th>\n",
       "      <th>Existcr</th>\n",
       "      <th>Job</th>\n",
       "      <th>Depends</th>\n",
       "      <th>Telephone</th>\n",
       "      <th>Foreign</th>\n",
       "      <th>Good</th>\n",
       "    </tr>\n",
       "  </thead>\n",
       "  <tbody>\n",
       "    <tr>\n",
       "      <th>1</th>\n",
       "      <td>2</td>\n",
       "      <td>48</td>\n",
       "      <td>2</td>\n",
       "      <td>3</td>\n",
       "      <td>5951</td>\n",
       "      <td>1</td>\n",
       "      <td>3</td>\n",
       "      <td>2</td>\n",
       "      <td>2</td>\n",
       "      <td>1</td>\n",
       "      <td>...</td>\n",
       "      <td>1</td>\n",
       "      <td>22</td>\n",
       "      <td>3</td>\n",
       "      <td>2</td>\n",
       "      <td>1</td>\n",
       "      <td>3</td>\n",
       "      <td>1</td>\n",
       "      <td>1</td>\n",
       "      <td>1</td>\n",
       "      <td>0</td>\n",
       "    </tr>\n",
       "    <tr>\n",
       "      <th>3</th>\n",
       "      <td>1</td>\n",
       "      <td>42</td>\n",
       "      <td>2</td>\n",
       "      <td>2</td>\n",
       "      <td>7882</td>\n",
       "      <td>1</td>\n",
       "      <td>4</td>\n",
       "      <td>2</td>\n",
       "      <td>3</td>\n",
       "      <td>3</td>\n",
       "      <td>...</td>\n",
       "      <td>2</td>\n",
       "      <td>45</td>\n",
       "      <td>3</td>\n",
       "      <td>3</td>\n",
       "      <td>1</td>\n",
       "      <td>3</td>\n",
       "      <td>2</td>\n",
       "      <td>1</td>\n",
       "      <td>1</td>\n",
       "      <td>1</td>\n",
       "    </tr>\n",
       "    <tr>\n",
       "      <th>4</th>\n",
       "      <td>1</td>\n",
       "      <td>24</td>\n",
       "      <td>3</td>\n",
       "      <td>0</td>\n",
       "      <td>4870</td>\n",
       "      <td>1</td>\n",
       "      <td>3</td>\n",
       "      <td>3</td>\n",
       "      <td>3</td>\n",
       "      <td>1</td>\n",
       "      <td>...</td>\n",
       "      <td>4</td>\n",
       "      <td>53</td>\n",
       "      <td>3</td>\n",
       "      <td>3</td>\n",
       "      <td>2</td>\n",
       "      <td>3</td>\n",
       "      <td>2</td>\n",
       "      <td>1</td>\n",
       "      <td>1</td>\n",
       "      <td>0</td>\n",
       "    </tr>\n",
       "    <tr>\n",
       "      <th>5</th>\n",
       "      <td>4</td>\n",
       "      <td>36</td>\n",
       "      <td>2</td>\n",
       "      <td>6</td>\n",
       "      <td>9055</td>\n",
       "      <td>5</td>\n",
       "      <td>3</td>\n",
       "      <td>2</td>\n",
       "      <td>3</td>\n",
       "      <td>1</td>\n",
       "      <td>...</td>\n",
       "      <td>4</td>\n",
       "      <td>35</td>\n",
       "      <td>3</td>\n",
       "      <td>3</td>\n",
       "      <td>1</td>\n",
       "      <td>2</td>\n",
       "      <td>2</td>\n",
       "      <td>2</td>\n",
       "      <td>1</td>\n",
       "      <td>1</td>\n",
       "    </tr>\n",
       "    <tr>\n",
       "      <th>6</th>\n",
       "      <td>4</td>\n",
       "      <td>24</td>\n",
       "      <td>2</td>\n",
       "      <td>2</td>\n",
       "      <td>2835</td>\n",
       "      <td>3</td>\n",
       "      <td>5</td>\n",
       "      <td>3</td>\n",
       "      <td>3</td>\n",
       "      <td>1</td>\n",
       "      <td>...</td>\n",
       "      <td>2</td>\n",
       "      <td>53</td>\n",
       "      <td>3</td>\n",
       "      <td>2</td>\n",
       "      <td>1</td>\n",
       "      <td>3</td>\n",
       "      <td>1</td>\n",
       "      <td>1</td>\n",
       "      <td>1</td>\n",
       "      <td>1</td>\n",
       "    </tr>\n",
       "  </tbody>\n",
       "</table>\n",
       "<p>5 rows × 21 columns</p>\n",
       "</div>"
      ],
      "text/plain": [
       "  Checking  Duration History Purpose  Amount Savings Emploed  Installp  \\\n",
       "1        2        48       2       3    5951       1       3         2   \n",
       "3        1        42       2       2    7882       1       4         2   \n",
       "4        1        24       3       0    4870       1       3         3   \n",
       "5        4        36       2       6    9055       5       3         2   \n",
       "6        4        24       2       2    2835       3       5         3   \n",
       "\n",
       "  marital  Coapp  ...  Property Age  Other housing Existcr  Job Depends  \\\n",
       "1       2      1  ...         1  22      3       2       1    3       1   \n",
       "3       3      3  ...         2  45      3       3       1    3       2   \n",
       "4       3      1  ...         4  53      3       3       2    3       2   \n",
       "5       3      1  ...         4  35      3       3       1    2       2   \n",
       "6       3      1  ...         2  53      3       2       1    3       1   \n",
       "\n",
       "   Telephone Foreign Good  \n",
       "1          1       1    0  \n",
       "3          1       1    1  \n",
       "4          1       1    0  \n",
       "5          2       1    1  \n",
       "6          1       1    1  \n",
       "\n",
       "[5 rows x 21 columns]"
      ]
     },
     "execution_count": 34,
     "metadata": {},
     "output_type": "execute_result"
    }
   ],
   "source": [
    "data2.head()"
   ]
  },
  {
   "cell_type": "code",
   "execution_count": 35,
   "metadata": {
    "colab": {
     "base_uri": "https://localhost:8080/"
    },
    "id": "u7NK1LT_yRmT",
    "outputId": "59145917-0683-4ee3-97bb-8fc8717dae12"
   },
   "outputs": [
    {
     "data": {
      "text/plain": [
       "Index(['Checking', 'Duration', 'History', 'Purpose', 'Amount', 'Savings',\n",
       "       'Emploed', 'Installp', 'marital', 'Coapp', 'Resident', 'Property',\n",
       "       'Age', 'Other', 'housing', 'Existcr', 'Job', 'Depends', 'Telephone',\n",
       "       'Foreign', 'Good'],\n",
       "      dtype='object')"
      ]
     },
     "execution_count": 35,
     "metadata": {},
     "output_type": "execute_result"
    }
   ],
   "source": [
    "data.columns"
   ]
  },
  {
   "cell_type": "code",
   "execution_count": 36,
   "metadata": {
    "colab": {
     "base_uri": "https://localhost:8080/"
    },
    "id": "rcuieT41XLNb",
    "outputId": "21cdcdd3-8cbb-42f1-9066-c11c495dd7e4"
   },
   "outputs": [
    {
     "data": {
      "text/plain": [
       "(1000, 21)"
      ]
     },
     "execution_count": 36,
     "metadata": {},
     "output_type": "execute_result"
    }
   ],
   "source": [
    "data.shape"
   ]
  },
  {
   "cell_type": "code",
   "execution_count": 37,
   "metadata": {
    "colab": {
     "base_uri": "https://localhost:8080/"
    },
    "id": "hq4MBosIXKSr",
    "outputId": "794a3d95-0ee4-4e11-dd9d-7b2aaaaee2d7"
   },
   "outputs": [
    {
     "data": {
      "text/plain": [
       "(359, 21)"
      ]
     },
     "execution_count": 37,
     "metadata": {},
     "output_type": "execute_result"
    }
   ],
   "source": [
    "data1.shape"
   ]
  },
  {
   "cell_type": "code",
   "execution_count": 38,
   "metadata": {
    "colab": {
     "base_uri": "https://localhost:8080/"
    },
    "id": "8c4ysmovWx98",
    "outputId": "41333e65-fa0c-49d4-bb24-03c67c6ac7d9"
   },
   "outputs": [
    {
     "name": "stdout",
     "output_type": "stream",
     "text": [
      "[INFO] filtering variables ...\n"
     ]
    }
   ],
   "source": [
    "# Feature filter and make target variable \"0/1\"\n",
    "data1 = sc.var_filter(data1, y=\"Good\")"
   ]
  },
  {
   "cell_type": "code",
   "execution_count": 39,
   "metadata": {
    "id": "6EO1ykM9hwFA"
   },
   "outputs": [],
   "source": [
    "# Question 2 : Split the data to Train and Test set\n",
    "# Getting Independent and Dependent Variables for Subset 1\n",
    "\n",
    "x1 = data1.loc[:,data1.columns != 'Good']\n",
    "y1 = data1.loc[:,data1.columns == 'Good']"
   ]
  },
  {
   "cell_type": "code",
   "execution_count": 40,
   "metadata": {
    "colab": {
     "base_uri": "https://localhost:8080/"
    },
    "id": "m-deFbJ__sVy",
    "outputId": "22d316de-bc4a-4786-c8ca-7639e93c10d8"
   },
   "outputs": [
    {
     "name": "stdout",
     "output_type": "stream",
     "text": [
      "Shape of x1_train1 : (251, 17)\n",
      "Shape of y1_train : (251, 1)\n",
      "Shape of x1_test : (108, 17)\n"
     ]
    }
   ],
   "source": [
    "# Splitting Data Subset 1 \n",
    "# Divide the data into Train and Test (7:3)\n",
    "\n",
    "from sklearn.model_selection import train_test_split\n",
    "x1_train1, x1_test1, y1_train1, y1_test1 = train_test_split(x1, y1, test_size = 0.3, random_state = 0)\n",
    "\n",
    "# Checking the Shapes\n",
    "\n",
    "print(\"Shape of x1_train1 :\", x1_train1.shape)\n",
    "print(\"Shape of y1_train :\", y1_train1.shape)\n",
    "print(\"Shape of x1_test :\", x1_test1.shape)"
   ]
  },
  {
   "cell_type": "code",
   "execution_count": 41,
   "metadata": {
    "colab": {
     "base_uri": "https://localhost:8080/"
    },
    "id": "wxrdR6DIXQF0",
    "outputId": "2ed40434-1e4a-4620-8cda-6456c8a20aea"
   },
   "outputs": [
    {
     "data": {
      "text/plain": [
       "(641, 21)"
      ]
     },
     "execution_count": 41,
     "metadata": {},
     "output_type": "execute_result"
    }
   ],
   "source": [
    "data2.shape"
   ]
  },
  {
   "cell_type": "code",
   "execution_count": 42,
   "metadata": {
    "id": "QVzeVemGXSo4"
   },
   "outputs": [],
   "source": [
    "# Getting Independent and Dependent Variables for Subset 2\n",
    "\n",
    "x2 = data2.loc[:,data2.columns != 'Good']\n",
    "y2 = data2.loc[:,data2.columns == 'Good']"
   ]
  },
  {
   "cell_type": "code",
   "execution_count": 43,
   "metadata": {
    "colab": {
     "base_uri": "https://localhost:8080/"
    },
    "id": "_YV0i9LuAZOZ",
    "outputId": "0e620658-2b13-422c-c7c9-52ee6c584735"
   },
   "outputs": [
    {
     "name": "stdout",
     "output_type": "stream",
     "text": [
      "Shape of x2_train2 : (448, 20)\n",
      "Shape of y2_train : (448, 1)\n",
      "Shape of x2_test : (193, 20)\n"
     ]
    }
   ],
   "source": [
    "# Splitting Data 2\n",
    "# Divide the data into Train and Test (7:3)\n",
    "\n",
    "from sklearn.model_selection import train_test_split\n",
    "x2_train2, x2_test2, y2_train2, y2_test2 = train_test_split(x2, y2, test_size = 0.3, random_state = 0)\n",
    "\n",
    "# Checking the Shapes\n",
    "\n",
    "print(\"Shape of x2_train2 :\", x2_train2.shape)\n",
    "print(\"Shape of y2_train :\", y2_train2.shape)\n",
    "print(\"Shape of x2_test :\", x2_test2.shape)"
   ]
  },
  {
   "cell_type": "code",
   "execution_count": 44,
   "metadata": {
    "colab": {
     "base_uri": "https://localhost:8080/",
     "height": 423
    },
    "id": "8YgMCrOtX4zg",
    "outputId": "eed50eff-5e89-40d1-a8fd-0b846a54670f"
   },
   "outputs": [
    {
     "data": {
      "text/html": [
       "<div>\n",
       "<style scoped>\n",
       "    .dataframe tbody tr th:only-of-type {\n",
       "        vertical-align: middle;\n",
       "    }\n",
       "\n",
       "    .dataframe tbody tr th {\n",
       "        vertical-align: top;\n",
       "    }\n",
       "\n",
       "    .dataframe thead th {\n",
       "        text-align: right;\n",
       "    }\n",
       "</style>\n",
       "<table border=\"1\" class=\"dataframe\">\n",
       "  <thead>\n",
       "    <tr style=\"text-align: right;\">\n",
       "      <th></th>\n",
       "      <th>Existcr</th>\n",
       "      <th>Coapp</th>\n",
       "      <th>Installp</th>\n",
       "      <th>Age</th>\n",
       "      <th>Duration</th>\n",
       "      <th>Amount</th>\n",
       "      <th>Depends</th>\n",
       "    </tr>\n",
       "  </thead>\n",
       "  <tbody>\n",
       "    <tr>\n",
       "      <th>723</th>\n",
       "      <td>1</td>\n",
       "      <td>1</td>\n",
       "      <td>4</td>\n",
       "      <td>66</td>\n",
       "      <td>9</td>\n",
       "      <td>790</td>\n",
       "      <td>1</td>\n",
       "    </tr>\n",
       "    <tr>\n",
       "      <th>486</th>\n",
       "      <td>1</td>\n",
       "      <td>1</td>\n",
       "      <td>2</td>\n",
       "      <td>52</td>\n",
       "      <td>12</td>\n",
       "      <td>3077</td>\n",
       "      <td>1</td>\n",
       "    </tr>\n",
       "    <tr>\n",
       "      <th>439</th>\n",
       "      <td>1</td>\n",
       "      <td>1</td>\n",
       "      <td>4</td>\n",
       "      <td>26</td>\n",
       "      <td>12</td>\n",
       "      <td>609</td>\n",
       "      <td>1</td>\n",
       "    </tr>\n",
       "    <tr>\n",
       "      <th>769</th>\n",
       "      <td>2</td>\n",
       "      <td>1</td>\n",
       "      <td>2</td>\n",
       "      <td>63</td>\n",
       "      <td>12</td>\n",
       "      <td>1655</td>\n",
       "      <td>1</td>\n",
       "    </tr>\n",
       "    <tr>\n",
       "      <th>356</th>\n",
       "      <td>1</td>\n",
       "      <td>2</td>\n",
       "      <td>1</td>\n",
       "      <td>49</td>\n",
       "      <td>12</td>\n",
       "      <td>2331</td>\n",
       "      <td>1</td>\n",
       "    </tr>\n",
       "    <tr>\n",
       "      <th>...</th>\n",
       "      <td>...</td>\n",
       "      <td>...</td>\n",
       "      <td>...</td>\n",
       "      <td>...</td>\n",
       "      <td>...</td>\n",
       "      <td>...</td>\n",
       "      <td>...</td>\n",
       "    </tr>\n",
       "    <tr>\n",
       "      <th>871</th>\n",
       "      <td>2</td>\n",
       "      <td>1</td>\n",
       "      <td>1</td>\n",
       "      <td>46</td>\n",
       "      <td>6</td>\n",
       "      <td>1343</td>\n",
       "      <td>2</td>\n",
       "    </tr>\n",
       "    <tr>\n",
       "      <th>478</th>\n",
       "      <td>1</td>\n",
       "      <td>1</td>\n",
       "      <td>3</td>\n",
       "      <td>39</td>\n",
       "      <td>12</td>\n",
       "      <td>1037</td>\n",
       "      <td>1</td>\n",
       "    </tr>\n",
       "    <tr>\n",
       "      <th>277</th>\n",
       "      <td>1</td>\n",
       "      <td>1</td>\n",
       "      <td>2</td>\n",
       "      <td>49</td>\n",
       "      <td>12</td>\n",
       "      <td>1262</td>\n",
       "      <td>1</td>\n",
       "    </tr>\n",
       "    <tr>\n",
       "      <th>117</th>\n",
       "      <td>2</td>\n",
       "      <td>2</td>\n",
       "      <td>2</td>\n",
       "      <td>27</td>\n",
       "      <td>10</td>\n",
       "      <td>2132</td>\n",
       "      <td>1</td>\n",
       "    </tr>\n",
       "    <tr>\n",
       "      <th>434</th>\n",
       "      <td>1</td>\n",
       "      <td>1</td>\n",
       "      <td>3</td>\n",
       "      <td>25</td>\n",
       "      <td>9</td>\n",
       "      <td>2136</td>\n",
       "      <td>1</td>\n",
       "    </tr>\n",
       "  </tbody>\n",
       "</table>\n",
       "<p>251 rows × 7 columns</p>\n",
       "</div>"
      ],
      "text/plain": [
       "     Existcr  Coapp  Installp  Age  Duration  Amount  Depends\n",
       "723        1      1         4   66         9     790        1\n",
       "486        1      1         2   52        12    3077        1\n",
       "439        1      1         4   26        12     609        1\n",
       "769        2      1         2   63        12    1655        1\n",
       "356        1      2         1   49        12    2331        1\n",
       "..       ...    ...       ...  ...       ...     ...      ...\n",
       "871        2      1         1   46         6    1343        2\n",
       "478        1      1         3   39        12    1037        1\n",
       "277        1      1         2   49        12    1262        1\n",
       "117        2      2         2   27        10    2132        1\n",
       "434        1      1         3   25         9    2136        1\n",
       "\n",
       "[251 rows x 7 columns]"
      ]
     },
     "execution_count": 44,
     "metadata": {},
     "output_type": "execute_result"
    }
   ],
   "source": [
    "# Question 3 : Feature Selection\n",
    "\n",
    "# Subset 1 : Data1 <= 12 months\n",
    "x1_train1_num = x1_train1.select_dtypes('number')\n",
    "x1_train1_cat = x1_train1.select_dtypes('object')\n",
    "x1_train1_num"
   ]
  },
  {
   "cell_type": "code",
   "execution_count": 45,
   "metadata": {
    "colab": {
     "base_uri": "https://localhost:8080/",
     "height": 423
    },
    "id": "NPBz-KbD-ITW",
    "outputId": "9350c84f-acff-445f-bf94-effa2fbe31f5"
   },
   "outputs": [
    {
     "data": {
      "text/html": [
       "<div>\n",
       "<style scoped>\n",
       "    .dataframe tbody tr th:only-of-type {\n",
       "        vertical-align: middle;\n",
       "    }\n",
       "\n",
       "    .dataframe tbody tr th {\n",
       "        vertical-align: top;\n",
       "    }\n",
       "\n",
       "    .dataframe thead th {\n",
       "        text-align: right;\n",
       "    }\n",
       "</style>\n",
       "<table border=\"1\" class=\"dataframe\">\n",
       "  <thead>\n",
       "    <tr style=\"text-align: right;\">\n",
       "      <th></th>\n",
       "      <th>housing</th>\n",
       "      <th>marital</th>\n",
       "      <th>Emploed</th>\n",
       "      <th>History</th>\n",
       "      <th>Foreign</th>\n",
       "      <th>Savings</th>\n",
       "      <th>Other</th>\n",
       "      <th>Purpose</th>\n",
       "      <th>Checking</th>\n",
       "      <th>Property</th>\n",
       "    </tr>\n",
       "  </thead>\n",
       "  <tbody>\n",
       "    <tr>\n",
       "      <th>723</th>\n",
       "      <td>2</td>\n",
       "      <td>2</td>\n",
       "      <td>3</td>\n",
       "      <td>2</td>\n",
       "      <td>1</td>\n",
       "      <td>3</td>\n",
       "      <td>3</td>\n",
       "      <td>3</td>\n",
       "      <td>2</td>\n",
       "      <td>1</td>\n",
       "    </tr>\n",
       "    <tr>\n",
       "      <th>486</th>\n",
       "      <td>2</td>\n",
       "      <td>3</td>\n",
       "      <td>3</td>\n",
       "      <td>2</td>\n",
       "      <td>1</td>\n",
       "      <td>1</td>\n",
       "      <td>3</td>\n",
       "      <td>3</td>\n",
       "      <td>4</td>\n",
       "      <td>3</td>\n",
       "    </tr>\n",
       "    <tr>\n",
       "      <th>439</th>\n",
       "      <td>2</td>\n",
       "      <td>2</td>\n",
       "      <td>2</td>\n",
       "      <td>1</td>\n",
       "      <td>1</td>\n",
       "      <td>1</td>\n",
       "      <td>3</td>\n",
       "      <td>9</td>\n",
       "      <td>3</td>\n",
       "      <td>1</td>\n",
       "    </tr>\n",
       "    <tr>\n",
       "      <th>769</th>\n",
       "      <td>2</td>\n",
       "      <td>3</td>\n",
       "      <td>5</td>\n",
       "      <td>4</td>\n",
       "      <td>1</td>\n",
       "      <td>1</td>\n",
       "      <td>3</td>\n",
       "      <td>3</td>\n",
       "      <td>4</td>\n",
       "      <td>1</td>\n",
       "    </tr>\n",
       "    <tr>\n",
       "      <th>356</th>\n",
       "      <td>2</td>\n",
       "      <td>3</td>\n",
       "      <td>5</td>\n",
       "      <td>4</td>\n",
       "      <td>1</td>\n",
       "      <td>5</td>\n",
       "      <td>3</td>\n",
       "      <td>3</td>\n",
       "      <td>4</td>\n",
       "      <td>1</td>\n",
       "    </tr>\n",
       "    <tr>\n",
       "      <th>...</th>\n",
       "      <td>...</td>\n",
       "      <td>...</td>\n",
       "      <td>...</td>\n",
       "      <td>...</td>\n",
       "      <td>...</td>\n",
       "      <td>...</td>\n",
       "      <td>...</td>\n",
       "      <td>...</td>\n",
       "      <td>...</td>\n",
       "      <td>...</td>\n",
       "    </tr>\n",
       "    <tr>\n",
       "      <th>871</th>\n",
       "      <td>2</td>\n",
       "      <td>3</td>\n",
       "      <td>5</td>\n",
       "      <td>4</td>\n",
       "      <td>2</td>\n",
       "      <td>1</td>\n",
       "      <td>3</td>\n",
       "      <td>0</td>\n",
       "      <td>3</td>\n",
       "      <td>1</td>\n",
       "    </tr>\n",
       "    <tr>\n",
       "      <th>478</th>\n",
       "      <td>2</td>\n",
       "      <td>3</td>\n",
       "      <td>4</td>\n",
       "      <td>2</td>\n",
       "      <td>1</td>\n",
       "      <td>2</td>\n",
       "      <td>3</td>\n",
       "      <td>9</td>\n",
       "      <td>2</td>\n",
       "      <td>1</td>\n",
       "    </tr>\n",
       "    <tr>\n",
       "      <th>277</th>\n",
       "      <td>2</td>\n",
       "      <td>1</td>\n",
       "      <td>5</td>\n",
       "      <td>2</td>\n",
       "      <td>1</td>\n",
       "      <td>5</td>\n",
       "      <td>3</td>\n",
       "      <td>2</td>\n",
       "      <td>1</td>\n",
       "      <td>2</td>\n",
       "    </tr>\n",
       "    <tr>\n",
       "      <th>117</th>\n",
       "      <td>1</td>\n",
       "      <td>2</td>\n",
       "      <td>2</td>\n",
       "      <td>4</td>\n",
       "      <td>2</td>\n",
       "      <td>5</td>\n",
       "      <td>3</td>\n",
       "      <td>2</td>\n",
       "      <td>1</td>\n",
       "      <td>1</td>\n",
       "    </tr>\n",
       "    <tr>\n",
       "      <th>434</th>\n",
       "      <td>2</td>\n",
       "      <td>3</td>\n",
       "      <td>3</td>\n",
       "      <td>2</td>\n",
       "      <td>1</td>\n",
       "      <td>1</td>\n",
       "      <td>3</td>\n",
       "      <td>2</td>\n",
       "      <td>1</td>\n",
       "      <td>1</td>\n",
       "    </tr>\n",
       "  </tbody>\n",
       "</table>\n",
       "<p>251 rows × 10 columns</p>\n",
       "</div>"
      ],
      "text/plain": [
       "    housing marital Emploed History Foreign Savings Other Purpose Checking  \\\n",
       "723       2       2       3       2       1       3     3       3        2   \n",
       "486       2       3       3       2       1       1     3       3        4   \n",
       "439       2       2       2       1       1       1     3       9        3   \n",
       "769       2       3       5       4       1       1     3       3        4   \n",
       "356       2       3       5       4       1       5     3       3        4   \n",
       "..      ...     ...     ...     ...     ...     ...   ...     ...      ...   \n",
       "871       2       3       5       4       2       1     3       0        3   \n",
       "478       2       3       4       2       1       2     3       9        2   \n",
       "277       2       1       5       2       1       5     3       2        1   \n",
       "117       1       2       2       4       2       5     3       2        1   \n",
       "434       2       3       3       2       1       1     3       2        1   \n",
       "\n",
       "    Property  \n",
       "723        1  \n",
       "486        3  \n",
       "439        1  \n",
       "769        1  \n",
       "356        1  \n",
       "..       ...  \n",
       "871        1  \n",
       "478        1  \n",
       "277        2  \n",
       "117        1  \n",
       "434        1  \n",
       "\n",
       "[251 rows x 10 columns]"
      ]
     },
     "execution_count": 45,
     "metadata": {},
     "output_type": "execute_result"
    }
   ],
   "source": [
    "x1_train1_cat"
   ]
  },
  {
   "cell_type": "code",
   "execution_count": 46,
   "metadata": {
    "colab": {
     "base_uri": "https://localhost:8080/"
    },
    "id": "npDz3j1UVZRI",
    "outputId": "e531e84d-5911-4255-a09d-a6ca608549f2"
   },
   "outputs": [
    {
     "name": "stdout",
     "output_type": "stream",
     "text": [
      "Feature 0: 4.049865\n",
      "Feature 1: 3.900442\n",
      "Feature 2: 4.234902\n",
      "Feature 3: 3.062692\n",
      "Feature 4: 5.814731\n",
      "Feature 5: 0.362483\n",
      "Feature 6: 3.015535\n"
     ]
    },
    {
     "name": "stderr",
     "output_type": "stream",
     "text": [
      "/opt/anaconda3/lib/python3.7/site-packages/sklearn/utils/validation.py:993: DataConversionWarning: A column-vector y was passed when a 1d array was expected. Please change the shape of y to (n_samples, ), for example using ravel().\n",
      "  y = column_or_1d(y, warn=True)\n"
     ]
    }
   ],
   "source": [
    "# Anova Test\n",
    "\n",
    "fs = SelectKBest(score_func=f_classif,k=2)\n",
    "fit = fs.fit(x1_train1_num,y1_train1)\n",
    "x1_train_fs = fit.transform(x1_train1_num)\n",
    "\n",
    "for i in range(len(fs.scores_)):\n",
    "\tprint('Feature %d: %f' % (i, fs.scores_[i]))\n",
    "    \n",
    "# Select Age, Duration"
   ]
  },
  {
   "cell_type": "code",
   "execution_count": 47,
   "metadata": {
    "colab": {
     "base_uri": "https://localhost:8080/"
    },
    "id": "4wpyQyCZWnxk",
    "outputId": "cebe247f-9606-4afa-ac9e-f09c9290c664"
   },
   "outputs": [
    {
     "name": "stdout",
     "output_type": "stream",
     "text": [
      "Feature 0: 0.098361\n",
      "Feature 1: 0.499176\n",
      "Feature 2: 1.191288\n",
      "Feature 3: 9.826464\n",
      "Feature 4: 0.269459\n",
      "Feature 5: 9.044882\n",
      "Feature 6: 0.713046\n",
      "Feature 7: 0.272862\n",
      "Feature 8: 15.019905\n",
      "Feature 9: 7.304511\n"
     ]
    }
   ],
   "source": [
    "# Chi-Square Test\n",
    "\n",
    "test = SelectKBest(chi2,k='all')\n",
    "fit = test.fit(x1_train1_cat,y1_train1)\n",
    "x1_train1_test = fit.transform(x1_train1_cat)\n",
    "\n",
    "for i in range(len(test.scores_)):\n",
    "\tprint('Feature %d: %f' % (i, test.scores_[i]))\n",
    " \n",
    "# Select History, Checking"
   ]
  },
  {
   "cell_type": "code",
   "execution_count": 48,
   "metadata": {
    "colab": {
     "base_uri": "https://localhost:8080/",
     "height": 423
    },
    "id": "VJ_vhO0-3bCw",
    "outputId": "02e9141e-a8f2-4b40-e132-8f5e607e17ab"
   },
   "outputs": [
    {
     "data": {
      "text/html": [
       "<div>\n",
       "<style scoped>\n",
       "    .dataframe tbody tr th:only-of-type {\n",
       "        vertical-align: middle;\n",
       "    }\n",
       "\n",
       "    .dataframe tbody tr th {\n",
       "        vertical-align: top;\n",
       "    }\n",
       "\n",
       "    .dataframe thead th {\n",
       "        text-align: right;\n",
       "    }\n",
       "</style>\n",
       "<table border=\"1\" class=\"dataframe\">\n",
       "  <thead>\n",
       "    <tr style=\"text-align: right;\">\n",
       "      <th></th>\n",
       "      <th>Duration</th>\n",
       "      <th>Amount</th>\n",
       "      <th>Installp</th>\n",
       "      <th>Coapp</th>\n",
       "      <th>Resident</th>\n",
       "      <th>Age</th>\n",
       "      <th>Existcr</th>\n",
       "      <th>Depends</th>\n",
       "    </tr>\n",
       "  </thead>\n",
       "  <tbody>\n",
       "    <tr>\n",
       "      <th>509</th>\n",
       "      <td>39</td>\n",
       "      <td>8588</td>\n",
       "      <td>4</td>\n",
       "      <td>1</td>\n",
       "      <td>2</td>\n",
       "      <td>45</td>\n",
       "      <td>1</td>\n",
       "      <td>1</td>\n",
       "    </tr>\n",
       "    <tr>\n",
       "      <th>183</th>\n",
       "      <td>24</td>\n",
       "      <td>3777</td>\n",
       "      <td>4</td>\n",
       "      <td>1</td>\n",
       "      <td>4</td>\n",
       "      <td>50</td>\n",
       "      <td>1</td>\n",
       "      <td>1</td>\n",
       "    </tr>\n",
       "    <tr>\n",
       "      <th>414</th>\n",
       "      <td>24</td>\n",
       "      <td>1381</td>\n",
       "      <td>4</td>\n",
       "      <td>1</td>\n",
       "      <td>2</td>\n",
       "      <td>35</td>\n",
       "      <td>1</td>\n",
       "      <td>1</td>\n",
       "    </tr>\n",
       "    <tr>\n",
       "      <th>677</th>\n",
       "      <td>72</td>\n",
       "      <td>5595</td>\n",
       "      <td>2</td>\n",
       "      <td>1</td>\n",
       "      <td>2</td>\n",
       "      <td>24</td>\n",
       "      <td>1</td>\n",
       "      <td>1</td>\n",
       "    </tr>\n",
       "    <tr>\n",
       "      <th>1</th>\n",
       "      <td>48</td>\n",
       "      <td>5951</td>\n",
       "      <td>2</td>\n",
       "      <td>1</td>\n",
       "      <td>2</td>\n",
       "      <td>22</td>\n",
       "      <td>1</td>\n",
       "      <td>1</td>\n",
       "    </tr>\n",
       "    <tr>\n",
       "      <th>...</th>\n",
       "      <td>...</td>\n",
       "      <td>...</td>\n",
       "      <td>...</td>\n",
       "      <td>...</td>\n",
       "      <td>...</td>\n",
       "      <td>...</td>\n",
       "      <td>...</td>\n",
       "      <td>...</td>\n",
       "    </tr>\n",
       "    <tr>\n",
       "      <th>14</th>\n",
       "      <td>15</td>\n",
       "      <td>1403</td>\n",
       "      <td>2</td>\n",
       "      <td>1</td>\n",
       "      <td>4</td>\n",
       "      <td>28</td>\n",
       "      <td>1</td>\n",
       "      <td>1</td>\n",
       "    </tr>\n",
       "    <tr>\n",
       "      <th>594</th>\n",
       "      <td>24</td>\n",
       "      <td>1358</td>\n",
       "      <td>4</td>\n",
       "      <td>1</td>\n",
       "      <td>3</td>\n",
       "      <td>40</td>\n",
       "      <td>1</td>\n",
       "      <td>1</td>\n",
       "    </tr>\n",
       "    <tr>\n",
       "      <th>328</th>\n",
       "      <td>36</td>\n",
       "      <td>4473</td>\n",
       "      <td>4</td>\n",
       "      <td>1</td>\n",
       "      <td>2</td>\n",
       "      <td>31</td>\n",
       "      <td>1</td>\n",
       "      <td>1</td>\n",
       "    </tr>\n",
       "    <tr>\n",
       "      <th>984</th>\n",
       "      <td>24</td>\n",
       "      <td>2028</td>\n",
       "      <td>2</td>\n",
       "      <td>1</td>\n",
       "      <td>2</td>\n",
       "      <td>30</td>\n",
       "      <td>2</td>\n",
       "      <td>1</td>\n",
       "    </tr>\n",
       "    <tr>\n",
       "      <th>887</th>\n",
       "      <td>48</td>\n",
       "      <td>15672</td>\n",
       "      <td>2</td>\n",
       "      <td>1</td>\n",
       "      <td>2</td>\n",
       "      <td>23</td>\n",
       "      <td>1</td>\n",
       "      <td>1</td>\n",
       "    </tr>\n",
       "  </tbody>\n",
       "</table>\n",
       "<p>448 rows × 8 columns</p>\n",
       "</div>"
      ],
      "text/plain": [
       "     Duration  Amount  Installp  Coapp  Resident  Age  Existcr  Depends\n",
       "509        39    8588         4      1         2   45        1        1\n",
       "183        24    3777         4      1         4   50        1        1\n",
       "414        24    1381         4      1         2   35        1        1\n",
       "677        72    5595         2      1         2   24        1        1\n",
       "1          48    5951         2      1         2   22        1        1\n",
       "..        ...     ...       ...    ...       ...  ...      ...      ...\n",
       "14         15    1403         2      1         4   28        1        1\n",
       "594        24    1358         4      1         3   40        1        1\n",
       "328        36    4473         4      1         2   31        1        1\n",
       "984        24    2028         2      1         2   30        2        1\n",
       "887        48   15672         2      1         2   23        1        1\n",
       "\n",
       "[448 rows x 8 columns]"
      ]
     },
     "execution_count": 48,
     "metadata": {},
     "output_type": "execute_result"
    }
   ],
   "source": [
    "# Subset 2 : Data1 > 12 months\n",
    "x2_train2_num = x2_train2.select_dtypes('number')\n",
    "x2_train2_cat = x2_train2.select_dtypes('object')\n",
    "x2_train2_num"
   ]
  },
  {
   "cell_type": "code",
   "execution_count": 49,
   "metadata": {
    "colab": {
     "base_uri": "https://localhost:8080/",
     "height": 423
    },
    "id": "e_f9xdio50fF",
    "outputId": "de4c0d41-906b-416c-d0d6-73bd992ae537"
   },
   "outputs": [
    {
     "data": {
      "text/html": [
       "<div>\n",
       "<style scoped>\n",
       "    .dataframe tbody tr th:only-of-type {\n",
       "        vertical-align: middle;\n",
       "    }\n",
       "\n",
       "    .dataframe tbody tr th {\n",
       "        vertical-align: top;\n",
       "    }\n",
       "\n",
       "    .dataframe thead th {\n",
       "        text-align: right;\n",
       "    }\n",
       "</style>\n",
       "<table border=\"1\" class=\"dataframe\">\n",
       "  <thead>\n",
       "    <tr style=\"text-align: right;\">\n",
       "      <th></th>\n",
       "      <th>Checking</th>\n",
       "      <th>History</th>\n",
       "      <th>Purpose</th>\n",
       "      <th>Savings</th>\n",
       "      <th>Emploed</th>\n",
       "      <th>marital</th>\n",
       "      <th>Property</th>\n",
       "      <th>Other</th>\n",
       "      <th>housing</th>\n",
       "      <th>Job</th>\n",
       "      <th>Telephone</th>\n",
       "      <th>Foreign</th>\n",
       "    </tr>\n",
       "  </thead>\n",
       "  <tbody>\n",
       "    <tr>\n",
       "      <th>509</th>\n",
       "      <td>4</td>\n",
       "      <td>2</td>\n",
       "      <td>1</td>\n",
       "      <td>2</td>\n",
       "      <td>5</td>\n",
       "      <td>3</td>\n",
       "      <td>3</td>\n",
       "      <td>3</td>\n",
       "      <td>2</td>\n",
       "      <td>4</td>\n",
       "      <td>2</td>\n",
       "      <td>1</td>\n",
       "    </tr>\n",
       "    <tr>\n",
       "      <th>183</th>\n",
       "      <td>4</td>\n",
       "      <td>4</td>\n",
       "      <td>2</td>\n",
       "      <td>4</td>\n",
       "      <td>3</td>\n",
       "      <td>3</td>\n",
       "      <td>1</td>\n",
       "      <td>3</td>\n",
       "      <td>2</td>\n",
       "      <td>3</td>\n",
       "      <td>2</td>\n",
       "      <td>1</td>\n",
       "    </tr>\n",
       "    <tr>\n",
       "      <th>414</th>\n",
       "      <td>1</td>\n",
       "      <td>2</td>\n",
       "      <td>0</td>\n",
       "      <td>5</td>\n",
       "      <td>3</td>\n",
       "      <td>2</td>\n",
       "      <td>2</td>\n",
       "      <td>3</td>\n",
       "      <td>2</td>\n",
       "      <td>3</td>\n",
       "      <td>1</td>\n",
       "      <td>1</td>\n",
       "    </tr>\n",
       "    <tr>\n",
       "      <th>677</th>\n",
       "      <td>2</td>\n",
       "      <td>2</td>\n",
       "      <td>3</td>\n",
       "      <td>2</td>\n",
       "      <td>3</td>\n",
       "      <td>4</td>\n",
       "      <td>3</td>\n",
       "      <td>3</td>\n",
       "      <td>2</td>\n",
       "      <td>3</td>\n",
       "      <td>1</td>\n",
       "      <td>1</td>\n",
       "    </tr>\n",
       "    <tr>\n",
       "      <th>1</th>\n",
       "      <td>2</td>\n",
       "      <td>2</td>\n",
       "      <td>3</td>\n",
       "      <td>1</td>\n",
       "      <td>3</td>\n",
       "      <td>2</td>\n",
       "      <td>1</td>\n",
       "      <td>3</td>\n",
       "      <td>2</td>\n",
       "      <td>3</td>\n",
       "      <td>1</td>\n",
       "      <td>1</td>\n",
       "    </tr>\n",
       "    <tr>\n",
       "      <th>...</th>\n",
       "      <td>...</td>\n",
       "      <td>...</td>\n",
       "      <td>...</td>\n",
       "      <td>...</td>\n",
       "      <td>...</td>\n",
       "      <td>...</td>\n",
       "      <td>...</td>\n",
       "      <td>...</td>\n",
       "      <td>...</td>\n",
       "      <td>...</td>\n",
       "      <td>...</td>\n",
       "      <td>...</td>\n",
       "    </tr>\n",
       "    <tr>\n",
       "      <th>14</th>\n",
       "      <td>1</td>\n",
       "      <td>2</td>\n",
       "      <td>0</td>\n",
       "      <td>1</td>\n",
       "      <td>3</td>\n",
       "      <td>2</td>\n",
       "      <td>3</td>\n",
       "      <td>3</td>\n",
       "      <td>1</td>\n",
       "      <td>3</td>\n",
       "      <td>1</td>\n",
       "      <td>1</td>\n",
       "    </tr>\n",
       "    <tr>\n",
       "      <th>594</th>\n",
       "      <td>1</td>\n",
       "      <td>1</td>\n",
       "      <td>9</td>\n",
       "      <td>5</td>\n",
       "      <td>5</td>\n",
       "      <td>3</td>\n",
       "      <td>3</td>\n",
       "      <td>2</td>\n",
       "      <td>2</td>\n",
       "      <td>4</td>\n",
       "      <td>2</td>\n",
       "      <td>1</td>\n",
       "    </tr>\n",
       "    <tr>\n",
       "      <th>328</th>\n",
       "      <td>3</td>\n",
       "      <td>2</td>\n",
       "      <td>3</td>\n",
       "      <td>1</td>\n",
       "      <td>5</td>\n",
       "      <td>3</td>\n",
       "      <td>3</td>\n",
       "      <td>3</td>\n",
       "      <td>2</td>\n",
       "      <td>3</td>\n",
       "      <td>1</td>\n",
       "      <td>1</td>\n",
       "    </tr>\n",
       "    <tr>\n",
       "      <th>984</th>\n",
       "      <td>4</td>\n",
       "      <td>4</td>\n",
       "      <td>2</td>\n",
       "      <td>1</td>\n",
       "      <td>4</td>\n",
       "      <td>3</td>\n",
       "      <td>2</td>\n",
       "      <td>3</td>\n",
       "      <td>2</td>\n",
       "      <td>2</td>\n",
       "      <td>1</td>\n",
       "      <td>1</td>\n",
       "    </tr>\n",
       "    <tr>\n",
       "      <th>887</th>\n",
       "      <td>2</td>\n",
       "      <td>2</td>\n",
       "      <td>9</td>\n",
       "      <td>1</td>\n",
       "      <td>3</td>\n",
       "      <td>3</td>\n",
       "      <td>3</td>\n",
       "      <td>3</td>\n",
       "      <td>2</td>\n",
       "      <td>3</td>\n",
       "      <td>2</td>\n",
       "      <td>1</td>\n",
       "    </tr>\n",
       "  </tbody>\n",
       "</table>\n",
       "<p>448 rows × 12 columns</p>\n",
       "</div>"
      ],
      "text/plain": [
       "    Checking History Purpose Savings Emploed marital Property Other housing  \\\n",
       "509        4       2       1       2       5       3        3     3       2   \n",
       "183        4       4       2       4       3       3        1     3       2   \n",
       "414        1       2       0       5       3       2        2     3       2   \n",
       "677        2       2       3       2       3       4        3     3       2   \n",
       "1          2       2       3       1       3       2        1     3       2   \n",
       "..       ...     ...     ...     ...     ...     ...      ...   ...     ...   \n",
       "14         1       2       0       1       3       2        3     3       1   \n",
       "594        1       1       9       5       5       3        3     2       2   \n",
       "328        3       2       3       1       5       3        3     3       2   \n",
       "984        4       4       2       1       4       3        2     3       2   \n",
       "887        2       2       9       1       3       3        3     3       2   \n",
       "\n",
       "    Job Telephone Foreign  \n",
       "509   4         2       1  \n",
       "183   3         2       1  \n",
       "414   3         1       1  \n",
       "677   3         1       1  \n",
       "1     3         1       1  \n",
       "..   ..       ...     ...  \n",
       "14    3         1       1  \n",
       "594   4         2       1  \n",
       "328   3         1       1  \n",
       "984   2         1       1  \n",
       "887   3         2       1  \n",
       "\n",
       "[448 rows x 12 columns]"
      ]
     },
     "execution_count": 49,
     "metadata": {},
     "output_type": "execute_result"
    }
   ],
   "source": [
    "x2_train2_cat"
   ]
  },
  {
   "cell_type": "code",
   "execution_count": 50,
   "metadata": {
    "colab": {
     "base_uri": "https://localhost:8080/"
    },
    "id": "yIGZ8e2L55gD",
    "outputId": "b070be92-a8d5-4cf1-af57-c28ea739038a"
   },
   "outputs": [
    {
     "name": "stdout",
     "output_type": "stream",
     "text": [
      "Feature 0: 20.274951\n",
      "Feature 1: 10.389532\n",
      "Feature 2: 0.552631\n",
      "Feature 3: 0.021844\n",
      "Feature 4: 0.335520\n",
      "Feature 5: 0.172007\n",
      "Feature 6: 0.275204\n",
      "Feature 7: 3.067421\n"
     ]
    },
    {
     "name": "stderr",
     "output_type": "stream",
     "text": [
      "/opt/anaconda3/lib/python3.7/site-packages/sklearn/utils/validation.py:993: DataConversionWarning: A column-vector y was passed when a 1d array was expected. Please change the shape of y to (n_samples, ), for example using ravel().\n",
      "  y = column_or_1d(y, warn=True)\n"
     ]
    }
   ],
   "source": [
    "# Anova Test\n",
    "\n",
    "fs = SelectKBest(score_func=f_classif,k=2)\n",
    "fit = fs.fit(x2_train2_num,y2_train2)\n",
    "x2_train2_fs = fit.transform(x2_train2_num)\n",
    "\n",
    "for i in range(len(fs.scores_)):\n",
    "\tprint('Feature %d: %f' % (i, fs.scores_[i]))\n",
    "    \n",
    "# Select Duration"
   ]
  },
  {
   "cell_type": "code",
   "execution_count": 51,
   "metadata": {
    "colab": {
     "base_uri": "https://localhost:8080/"
    },
    "id": "wULJsU8m7D2n",
    "outputId": "74343f1c-7d47-4e17-be71-2507fe92192d"
   },
   "outputs": [
    {
     "name": "stdout",
     "output_type": "stream",
     "text": [
      "Feature 0: 41.236645\n",
      "Feature 1: 9.979680\n",
      "Feature 2: 0.639871\n",
      "Feature 3: 21.990306\n",
      "Feature 4: 2.317014\n",
      "Feature 5: 0.711660\n",
      "Feature 6: 1.687528\n",
      "Feature 7: 0.059904\n",
      "Feature 8: 0.087117\n",
      "Feature 9: 0.000462\n",
      "Feature 10: 0.656135\n",
      "Feature 11: 0.008582\n"
     ]
    }
   ],
   "source": [
    "# Chi-Square Test\n",
    "\n",
    "test = SelectKBest(chi2,k='all')\n",
    "fit = test.fit(x2_train2_cat,y2_train2)\n",
    "x2_train2_test = fit.transform(x2_train2_cat)\n",
    "\n",
    "for i in range(len(test.scores_)):\n",
    "\tprint('Feature %d: %f' % (i, test.scores_[i]))\n",
    " \n",
    "# Select History, Checking, Savings"
   ]
  },
  {
   "cell_type": "code",
   "execution_count": 52,
   "metadata": {
    "id": "_q8rXrFp8sBl"
   },
   "outputs": [],
   "source": [
    "# Question 4 \n",
    "\n",
    "# Subset 1\n",
    "x1_train1 = x1_train1[['Age','Duration','History','Checking']]\n",
    "x1_test1 = x1_test1[['Age','Duration','History','Checking']]\n",
    "\n",
    "# Subset 2\n",
    "x2_train2 = x2_train2[['Duration','History','Checking','Savings']]\n",
    "x2_test2 = x2_test2[['Duration','History','Checking','Savings']]"
   ]
  },
  {
   "cell_type": "code",
   "execution_count": 53,
   "metadata": {
    "colab": {
     "base_uri": "https://localhost:8080/"
    },
    "id": "YZ05NtcYelrE",
    "outputId": "1cae0302-f65c-4fa2-b9c6-618614d5cf76"
   },
   "outputs": [
    {
     "name": "stdout",
     "output_type": "stream",
     "text": [
      "[INFO] creating woe binning ...\n",
      "[INFO] creating woe binning ...\n"
     ]
    }
   ],
   "source": [
    "# Binning\n",
    "\n",
    "from scorecardpy import woebin\n",
    "\n",
    "set1 = pd.concat([x1_train1,y1_train1],axis=1)\n",
    "set2 = pd.concat([x2_train2,y2_train2],axis=1)\n",
    "\n",
    "#binning for subset1\n",
    "bins1 = sc.woebin(set1, y='Good')\n",
    "\n",
    "#binning for subset2\n",
    "bins2 = sc.woebin(set2, y='Good')"
   ]
  },
  {
   "cell_type": "code",
   "execution_count": 54,
   "metadata": {},
   "outputs": [
    {
     "data": {
      "text/html": [
       "<div>\n",
       "<style scoped>\n",
       "    .dataframe tbody tr th:only-of-type {\n",
       "        vertical-align: middle;\n",
       "    }\n",
       "\n",
       "    .dataframe tbody tr th {\n",
       "        vertical-align: top;\n",
       "    }\n",
       "\n",
       "    .dataframe thead th {\n",
       "        text-align: right;\n",
       "    }\n",
       "</style>\n",
       "<table border=\"1\" class=\"dataframe\">\n",
       "  <thead>\n",
       "    <tr style=\"text-align: right;\">\n",
       "      <th></th>\n",
       "      <th>Duration</th>\n",
       "      <th>History</th>\n",
       "      <th>Checking</th>\n",
       "      <th>Savings</th>\n",
       "      <th>Good</th>\n",
       "    </tr>\n",
       "  </thead>\n",
       "  <tbody>\n",
       "    <tr>\n",
       "      <th>509</th>\n",
       "      <td>39</td>\n",
       "      <td>2</td>\n",
       "      <td>4</td>\n",
       "      <td>2</td>\n",
       "      <td>1</td>\n",
       "    </tr>\n",
       "    <tr>\n",
       "      <th>183</th>\n",
       "      <td>24</td>\n",
       "      <td>4</td>\n",
       "      <td>4</td>\n",
       "      <td>4</td>\n",
       "      <td>1</td>\n",
       "    </tr>\n",
       "    <tr>\n",
       "      <th>414</th>\n",
       "      <td>24</td>\n",
       "      <td>2</td>\n",
       "      <td>1</td>\n",
       "      <td>5</td>\n",
       "      <td>0</td>\n",
       "    </tr>\n",
       "    <tr>\n",
       "      <th>677</th>\n",
       "      <td>72</td>\n",
       "      <td>2</td>\n",
       "      <td>2</td>\n",
       "      <td>2</td>\n",
       "      <td>0</td>\n",
       "    </tr>\n",
       "    <tr>\n",
       "      <th>1</th>\n",
       "      <td>48</td>\n",
       "      <td>2</td>\n",
       "      <td>2</td>\n",
       "      <td>1</td>\n",
       "      <td>0</td>\n",
       "    </tr>\n",
       "    <tr>\n",
       "      <th>...</th>\n",
       "      <td>...</td>\n",
       "      <td>...</td>\n",
       "      <td>...</td>\n",
       "      <td>...</td>\n",
       "      <td>...</td>\n",
       "    </tr>\n",
       "    <tr>\n",
       "      <th>14</th>\n",
       "      <td>15</td>\n",
       "      <td>2</td>\n",
       "      <td>1</td>\n",
       "      <td>1</td>\n",
       "      <td>1</td>\n",
       "    </tr>\n",
       "    <tr>\n",
       "      <th>594</th>\n",
       "      <td>24</td>\n",
       "      <td>1</td>\n",
       "      <td>1</td>\n",
       "      <td>5</td>\n",
       "      <td>0</td>\n",
       "    </tr>\n",
       "    <tr>\n",
       "      <th>328</th>\n",
       "      <td>36</td>\n",
       "      <td>2</td>\n",
       "      <td>3</td>\n",
       "      <td>1</td>\n",
       "      <td>1</td>\n",
       "    </tr>\n",
       "    <tr>\n",
       "      <th>984</th>\n",
       "      <td>24</td>\n",
       "      <td>4</td>\n",
       "      <td>4</td>\n",
       "      <td>1</td>\n",
       "      <td>1</td>\n",
       "    </tr>\n",
       "    <tr>\n",
       "      <th>887</th>\n",
       "      <td>48</td>\n",
       "      <td>2</td>\n",
       "      <td>2</td>\n",
       "      <td>1</td>\n",
       "      <td>0</td>\n",
       "    </tr>\n",
       "  </tbody>\n",
       "</table>\n",
       "<p>448 rows × 5 columns</p>\n",
       "</div>"
      ],
      "text/plain": [
       "     Duration History Checking Savings  Good\n",
       "509        39       2        4       2     1\n",
       "183        24       4        4       4     1\n",
       "414        24       2        1       5     0\n",
       "677        72       2        2       2     0\n",
       "1          48       2        2       1     0\n",
       "..        ...     ...      ...     ...   ...\n",
       "14         15       2        1       1     1\n",
       "594        24       1        1       5     0\n",
       "328        36       2        3       1     1\n",
       "984        24       4        4       1     1\n",
       "887        48       2        2       1     0\n",
       "\n",
       "[448 rows x 5 columns]"
      ]
     },
     "execution_count": 54,
     "metadata": {},
     "output_type": "execute_result"
    }
   ],
   "source": [
    "set2"
   ]
  },
  {
   "cell_type": "code",
   "execution_count": 55,
   "metadata": {
    "id": "lOwLmocEUE-z"
   },
   "outputs": [
    {
     "data": {
      "text/plain": [
       "{'Checking': <Figure size 432x288 with 2 Axes>,\n",
       " 'Age': <Figure size 432x288 with 2 Axes>,\n",
       " 'Duration': <Figure size 432x288 with 2 Axes>,\n",
       " 'History': <Figure size 432x288 with 2 Axes>}"
      ]
     },
     "execution_count": 55,
     "metadata": {},
     "output_type": "execute_result"
    },
    {
     "data": {
      "image/png": "[encoded data removed]",
      "text/plain": [
       "<Figure size 432x288 with 2 Axes>"
      ]
     },
     "metadata": {
      "needs_background": "light"
     },
     "output_type": "display_data"
    },
    {
     "data": {
      "image/png": "[encoded data removed]",
      "text/plain": [
       "<Figure size 432x288 with 2 Axes>"
      ]
     },
     "metadata": {
      "needs_background": "light"
     },
     "output_type": "display_data"
    },
    {
     "data": {
      "image/png": "[encoded data removed]",
      "text/plain": [
       "<Figure size 432x288 with 2 Axes>"
      ]
     },
     "metadata": {
      "needs_background": "light"
     },
     "output_type": "display_data"
    },
    {
     "data": {
      "image/png": "[encoded data removed]",
      "text/plain": [
       "<Figure size 432x288 with 2 Axes>"
      ]
     },
     "metadata": {
      "needs_background": "light"
     },
     "output_type": "display_data"
    }
   ],
   "source": [
    "# Graphically display the binning results for each variable subset 1\n",
    "\n",
    "sc.woebin_plot(bins1)"
   ]
  },
  {
   "cell_type": "code",
   "execution_count": 56,
   "metadata": {},
   "outputs": [
    {
     "data": {
      "text/plain": [
       "{'Savings': <Figure size 432x288 with 2 Axes>,\n",
       " 'Checking': <Figure size 432x288 with 2 Axes>,\n",
       " 'Duration': <Figure size 432x288 with 2 Axes>,\n",
       " 'History': <Figure size 432x288 with 2 Axes>}"
      ]
     },
     "execution_count": 56,
     "metadata": {},
     "output_type": "execute_result"
    },
    {
     "data": {
      "image/png": "[encoded data removed]",
      "text/plain": [
       "<Figure size 432x288 with 2 Axes>"
      ]
     },
     "metadata": {
      "needs_background": "light"
     },
     "output_type": "display_data"
    },
    {
     "data": {
      "image/png": "[encoded data removed]",
      "text/plain": [
       "<Figure size 432x288 with 2 Axes>"
      ]
     },
     "metadata": {
      "needs_background": "light"
     },
     "output_type": "display_data"
    },
    {
     "data": {
      "image/png": "[encoded data removed]",
      "text/plain": [
       "<Figure size 432x288 with 2 Axes>"
      ]
     },
     "metadata": {
      "needs_background": "light"
     },
     "output_type": "display_data"
    },
    {
     "data": {
      "image/png": "[encoded data removed]",
      "text/plain": [
       "<Figure size 432x288 with 2 Axes>"
      ]
     },
     "metadata": {
      "needs_background": "light"
     },
     "output_type": "display_data"
    }
   ],
   "source": [
    "sc.woebin_plot(bins2)"
   ]
  },
  {
   "cell_type": "code",
   "execution_count": 57,
   "metadata": {},
   "outputs": [],
   "source": [
    "def get_history(history):\n",
    "    \n",
    "    \n",
    "    if history in ['3', '4']:\n",
    "        return '3,4'\n",
    "    elif history in ['0', '1']:\n",
    "        return '0,1'\n",
    "    else:\n",
    "        return history    \n",
    "   "
   ]
  },
  {
   "cell_type": "code",
   "execution_count": 58,
   "metadata": {},
   "outputs": [],
   "source": [
    "def get_saving(saving):\n",
    "    \n",
    "    \n",
    "    if saving in ['3', '4']:\n",
    "        return '3,4'\n",
    "    elif saving in ['1', '2']:\n",
    "        return '1,2'\n",
    "    else:\n",
    "        return saving "
   ]
  },
  {
   "cell_type": "code",
   "execution_count": 59,
   "metadata": {},
   "outputs": [],
   "source": [
    "def get_age(age):\n",
    "    \n",
    "    if age <= 25:\n",
    "        return '0_25'\n",
    "    elif age >= 26 and age <= 28:\n",
    "        return '26-28'\n",
    "    elif age >= 29 and age <= 34:\n",
    "        return '29-34' \n",
    "    else:\n",
    "        return '34above'\n"
   ]
  },
  {
   "cell_type": "code",
   "execution_count": 60,
   "metadata": {},
   "outputs": [],
   "source": [
    "def get_duration(duration):\n",
    "    \n",
    "    if duration <= 7:\n",
    "        return '0_7'\n",
    "    elif duration >= 8 and duration <= 12:\n",
    "        return '8-12'\n",
    "    elif duration >= 13 and duration <= 20:\n",
    "        return '13-20'\n",
    "    elif duration >= 21 and duration <= 46:\n",
    "        return '21-46'\n",
    "    else:\n",
    "        return '46above'"
   ]
  },
  {
   "cell_type": "code",
   "execution_count": 61,
   "metadata": {},
   "outputs": [],
   "source": [
    "x1_train1['History'] = x1_train1['History'].apply(get_history)\n",
    "x1_train1['Age'] = x1_train1['Age'].apply(get_age)\n",
    "x1_train1['Duration'] = x1_train1['Duration'].apply(get_duration)\n",
    "x1_test1['History'] = x1_test1['History'].apply(get_history)\n",
    "x1_test1['Age'] = x1_test1['Age'].apply(get_age)\n",
    "x1_test1['Duration'] = x1_test1['Duration'].apply(get_duration)\n"
   ]
  },
  {
   "cell_type": "code",
   "execution_count": 62,
   "metadata": {},
   "outputs": [],
   "source": [
    "x2_train2['History'] = x2_train2['History'].apply(get_history)\n",
    "x2_train2['Savings'] = x2_train2['Savings'].apply(get_saving)\n",
    "x2_train2['Duration'] = x2_train2['Duration'].apply(get_duration)\n",
    "x2_test2['History'] = x2_test2['History'].apply(get_history)\n",
    "x2_test2['Savings'] = x2_test2['Savings'].apply(get_saving)\n",
    "x2_test2['Duration'] = x2_test2['Duration'].apply(get_duration)\n"
   ]
  },
  {
   "cell_type": "code",
   "execution_count": 63,
   "metadata": {},
   "outputs": [
    {
     "data": {
      "text/html": [
       "<div>\n",
       "<style scoped>\n",
       "    .dataframe tbody tr th:only-of-type {\n",
       "        vertical-align: middle;\n",
       "    }\n",
       "\n",
       "    .dataframe tbody tr th {\n",
       "        vertical-align: top;\n",
       "    }\n",
       "\n",
       "    .dataframe thead th {\n",
       "        text-align: right;\n",
       "    }\n",
       "</style>\n",
       "<table border=\"1\" class=\"dataframe\">\n",
       "  <thead>\n",
       "    <tr style=\"text-align: right;\">\n",
       "      <th></th>\n",
       "      <th>Duration</th>\n",
       "      <th>History</th>\n",
       "      <th>Checking</th>\n",
       "      <th>Savings</th>\n",
       "    </tr>\n",
       "  </thead>\n",
       "  <tbody>\n",
       "    <tr>\n",
       "      <th>509</th>\n",
       "      <td>21-46</td>\n",
       "      <td>2</td>\n",
       "      <td>4</td>\n",
       "      <td>1,2</td>\n",
       "    </tr>\n",
       "    <tr>\n",
       "      <th>183</th>\n",
       "      <td>21-46</td>\n",
       "      <td>3,4</td>\n",
       "      <td>4</td>\n",
       "      <td>3,4</td>\n",
       "    </tr>\n",
       "    <tr>\n",
       "      <th>414</th>\n",
       "      <td>21-46</td>\n",
       "      <td>2</td>\n",
       "      <td>1</td>\n",
       "      <td>5</td>\n",
       "    </tr>\n",
       "    <tr>\n",
       "      <th>677</th>\n",
       "      <td>46above</td>\n",
       "      <td>2</td>\n",
       "      <td>2</td>\n",
       "      <td>1,2</td>\n",
       "    </tr>\n",
       "    <tr>\n",
       "      <th>1</th>\n",
       "      <td>46above</td>\n",
       "      <td>2</td>\n",
       "      <td>2</td>\n",
       "      <td>1,2</td>\n",
       "    </tr>\n",
       "    <tr>\n",
       "      <th>...</th>\n",
       "      <td>...</td>\n",
       "      <td>...</td>\n",
       "      <td>...</td>\n",
       "      <td>...</td>\n",
       "    </tr>\n",
       "    <tr>\n",
       "      <th>14</th>\n",
       "      <td>13-20</td>\n",
       "      <td>2</td>\n",
       "      <td>1</td>\n",
       "      <td>1,2</td>\n",
       "    </tr>\n",
       "    <tr>\n",
       "      <th>594</th>\n",
       "      <td>21-46</td>\n",
       "      <td>0,1</td>\n",
       "      <td>1</td>\n",
       "      <td>5</td>\n",
       "    </tr>\n",
       "    <tr>\n",
       "      <th>328</th>\n",
       "      <td>21-46</td>\n",
       "      <td>2</td>\n",
       "      <td>3</td>\n",
       "      <td>1,2</td>\n",
       "    </tr>\n",
       "    <tr>\n",
       "      <th>984</th>\n",
       "      <td>21-46</td>\n",
       "      <td>3,4</td>\n",
       "      <td>4</td>\n",
       "      <td>1,2</td>\n",
       "    </tr>\n",
       "    <tr>\n",
       "      <th>887</th>\n",
       "      <td>46above</td>\n",
       "      <td>2</td>\n",
       "      <td>2</td>\n",
       "      <td>1,2</td>\n",
       "    </tr>\n",
       "  </tbody>\n",
       "</table>\n",
       "<p>448 rows × 4 columns</p>\n",
       "</div>"
      ],
      "text/plain": [
       "    Duration History Checking Savings\n",
       "509    21-46       2        4     1,2\n",
       "183    21-46     3,4        4     3,4\n",
       "414    21-46       2        1       5\n",
       "677  46above       2        2     1,2\n",
       "1    46above       2        2     1,2\n",
       "..       ...     ...      ...     ...\n",
       "14     13-20       2        1     1,2\n",
       "594    21-46     0,1        1       5\n",
       "328    21-46       2        3     1,2\n",
       "984    21-46     3,4        4     1,2\n",
       "887  46above       2        2     1,2\n",
       "\n",
       "[448 rows x 4 columns]"
      ]
     },
     "execution_count": 63,
     "metadata": {},
     "output_type": "execute_result"
    }
   ],
   "source": [
    "x2_train2"
   ]
  },
  {
   "cell_type": "code",
   "execution_count": 64,
   "metadata": {
    "id": "fmoLsGVt4R4_"
   },
   "outputs": [],
   "source": [
    "# Imbalanced Data\n",
    "\n",
    "from imblearn.over_sampling import RandomOverSampler\n",
    "os = RandomOverSampler()\n",
    "x1_train1,y1_train1 = os.fit_resample(x1_train1,y1_train1)\n",
    "x2_train2,y2_train2 = os.fit_resample(x2_train2,y2_train2)"
   ]
  },
  {
   "cell_type": "code",
   "execution_count": 65,
   "metadata": {},
   "outputs": [],
   "source": [
    "#dummy variables\n",
    "\n",
    "x1_train1=pd.get_dummies(x1_train1)\n",
    "x1_test1=pd.get_dummies(x1_test1)\n",
    "\n",
    "x2_train2=pd.get_dummies(x2_train2)\n",
    "X2_test2=pd.get_dummies(x2_test2)\n"
   ]
  },
  {
   "cell_type": "code",
   "execution_count": 66,
   "metadata": {
    "colab": {
     "base_uri": "https://localhost:8080/"
    },
    "id": "bc7ESwCgUOmf",
    "outputId": "e095a180-7e2d-4993-e7d1-00bd5d270643"
   },
   "outputs": [
    {
     "name": "stdout",
     "output_type": "stream",
     "text": [
      "[[-0.39248062  0.34448161 -0.39011992  0.43919979  0.35737533 -0.35629448\n",
      "  -1.53721469  0.12380869  1.41448685 -0.98750614 -0.21753382  0.23318802\n",
      "   0.9729328 ]]\n",
      "[0.02060297]\n"
     ]
    },
    {
     "name": "stderr",
     "output_type": "stream",
     "text": [
      "/opt/anaconda3/lib/python3.7/site-packages/sklearn/utils/validation.py:993: DataConversionWarning: A column-vector y was passed when a 1d array was expected. Please change the shape of y to (n_samples, ), for example using ravel().\n",
      "  y = column_or_1d(y, warn=True)\n"
     ]
    },
    {
     "data": {
      "text/html": [
       "<div>\n",
       "<style scoped>\n",
       "    .dataframe tbody tr th:only-of-type {\n",
       "        vertical-align: middle;\n",
       "    }\n",
       "\n",
       "    .dataframe tbody tr th {\n",
       "        vertical-align: top;\n",
       "    }\n",
       "\n",
       "    .dataframe thead th {\n",
       "        text-align: right;\n",
       "    }\n",
       "</style>\n",
       "<table border=\"1\" class=\"dataframe\">\n",
       "  <thead>\n",
       "    <tr style=\"text-align: right;\">\n",
       "      <th></th>\n",
       "      <th>Variables</th>\n",
       "      <th>Coefficient</th>\n",
       "    </tr>\n",
       "  </thead>\n",
       "  <tbody>\n",
       "    <tr>\n",
       "      <th>0</th>\n",
       "      <td>Age_0_25</td>\n",
       "      <td>-0.392481</td>\n",
       "    </tr>\n",
       "    <tr>\n",
       "      <th>1</th>\n",
       "      <td>Age_26-28</td>\n",
       "      <td>0.344482</td>\n",
       "    </tr>\n",
       "    <tr>\n",
       "      <th>2</th>\n",
       "      <td>Age_29-34</td>\n",
       "      <td>-0.390120</td>\n",
       "    </tr>\n",
       "    <tr>\n",
       "      <th>3</th>\n",
       "      <td>Age_34above</td>\n",
       "      <td>0.439200</td>\n",
       "    </tr>\n",
       "    <tr>\n",
       "      <th>4</th>\n",
       "      <td>Duration_0_7</td>\n",
       "      <td>0.357375</td>\n",
       "    </tr>\n",
       "    <tr>\n",
       "      <th>5</th>\n",
       "      <td>Duration_8-12</td>\n",
       "      <td>-0.356294</td>\n",
       "    </tr>\n",
       "    <tr>\n",
       "      <th>6</th>\n",
       "      <td>History_0,1</td>\n",
       "      <td>-1.537215</td>\n",
       "    </tr>\n",
       "    <tr>\n",
       "      <th>7</th>\n",
       "      <td>History_2</td>\n",
       "      <td>0.123809</td>\n",
       "    </tr>\n",
       "    <tr>\n",
       "      <th>8</th>\n",
       "      <td>History_3,4</td>\n",
       "      <td>1.414487</td>\n",
       "    </tr>\n",
       "    <tr>\n",
       "      <th>9</th>\n",
       "      <td>Checking_1</td>\n",
       "      <td>-0.987506</td>\n",
       "    </tr>\n",
       "    <tr>\n",
       "      <th>10</th>\n",
       "      <td>Checking_2</td>\n",
       "      <td>-0.217534</td>\n",
       "    </tr>\n",
       "    <tr>\n",
       "      <th>11</th>\n",
       "      <td>Checking_3</td>\n",
       "      <td>0.233188</td>\n",
       "    </tr>\n",
       "    <tr>\n",
       "      <th>12</th>\n",
       "      <td>Checking_4</td>\n",
       "      <td>0.972933</td>\n",
       "    </tr>\n",
       "  </tbody>\n",
       "</table>\n",
       "</div>"
      ],
      "text/plain": [
       "        Variables  Coefficient\n",
       "0        Age_0_25    -0.392481\n",
       "1       Age_26-28     0.344482\n",
       "2       Age_29-34    -0.390120\n",
       "3     Age_34above     0.439200\n",
       "4    Duration_0_7     0.357375\n",
       "5   Duration_8-12    -0.356294\n",
       "6     History_0,1    -1.537215\n",
       "7       History_2     0.123809\n",
       "8     History_3,4     1.414487\n",
       "9      Checking_1    -0.987506\n",
       "10     Checking_2    -0.217534\n",
       "11     Checking_3     0.233188\n",
       "12     Checking_4     0.972933"
      ]
     },
     "execution_count": 66,
     "metadata": {},
     "output_type": "execute_result"
    }
   ],
   "source": [
    "# Logistic Regression Model1\n",
    "\n",
    "from sklearn.linear_model import LogisticRegression\n",
    "log1 = LogisticRegression(C=0.9, solver='saga', n_jobs=-1)\n",
    "log1.fit(x1_train1, y1_train1)\n",
    "print(log1.coef_)\n",
    "print(log1.intercept_)\n",
    "\n",
    "model11_score = pd.concat([pd.DataFrame(x1_train1.columns),pd.DataFrame(np.transpose(log1.coef_))], axis = 1)\n",
    "model11_scorecard = model11_score.set_axis(['Variables', 'Coefficient'], axis=1, inplace=False)\n",
    "model11_scorecard"
   ]
  },
  {
   "cell_type": "code",
   "execution_count": 67,
   "metadata": {
    "colab": {
     "base_uri": "https://localhost:8080/"
    },
    "id": "qVgAs-fR9-qK",
    "outputId": "ca13a1d8-f84f-4641-ccd2-cf21b9f4c152"
   },
   "outputs": [
    {
     "name": "stdout",
     "output_type": "stream",
     "text": [
      "[[ 3.75422052e+13  3.75422052e+13  3.75422052e+13  3.75422052e+13\n",
      "  -3.80344760e+12 -3.80344760e+12  1.03667428e+13  1.03667428e+13\n",
      "   1.03667428e+13  1.45953415e+13  1.45953415e+13  1.45953415e+13\n",
      "   1.45953415e+13]]\n",
      "[-5.87008419e+13]\n"
     ]
    },
    {
     "data": {
      "text/html": [
       "<div>\n",
       "<style scoped>\n",
       "    .dataframe tbody tr th:only-of-type {\n",
       "        vertical-align: middle;\n",
       "    }\n",
       "\n",
       "    .dataframe tbody tr th {\n",
       "        vertical-align: top;\n",
       "    }\n",
       "\n",
       "    .dataframe thead th {\n",
       "        text-align: right;\n",
       "    }\n",
       "</style>\n",
       "<table border=\"1\" class=\"dataframe\">\n",
       "  <thead>\n",
       "    <tr style=\"text-align: right;\">\n",
       "      <th></th>\n",
       "      <th>Variables</th>\n",
       "      <th>Coefficient</th>\n",
       "    </tr>\n",
       "  </thead>\n",
       "  <tbody>\n",
       "    <tr>\n",
       "      <th>0</th>\n",
       "      <td>Age_0_25</td>\n",
       "      <td>3.754221e+13</td>\n",
       "    </tr>\n",
       "    <tr>\n",
       "      <th>1</th>\n",
       "      <td>Age_26-28</td>\n",
       "      <td>3.754221e+13</td>\n",
       "    </tr>\n",
       "    <tr>\n",
       "      <th>2</th>\n",
       "      <td>Age_29-34</td>\n",
       "      <td>3.754221e+13</td>\n",
       "    </tr>\n",
       "    <tr>\n",
       "      <th>3</th>\n",
       "      <td>Age_34above</td>\n",
       "      <td>3.754221e+13</td>\n",
       "    </tr>\n",
       "    <tr>\n",
       "      <th>4</th>\n",
       "      <td>Duration_0_7</td>\n",
       "      <td>-3.803448e+12</td>\n",
       "    </tr>\n",
       "    <tr>\n",
       "      <th>5</th>\n",
       "      <td>Duration_8-12</td>\n",
       "      <td>-3.803448e+12</td>\n",
       "    </tr>\n",
       "    <tr>\n",
       "      <th>6</th>\n",
       "      <td>History_0,1</td>\n",
       "      <td>1.036674e+13</td>\n",
       "    </tr>\n",
       "    <tr>\n",
       "      <th>7</th>\n",
       "      <td>History_2</td>\n",
       "      <td>1.036674e+13</td>\n",
       "    </tr>\n",
       "    <tr>\n",
       "      <th>8</th>\n",
       "      <td>History_3,4</td>\n",
       "      <td>1.036674e+13</td>\n",
       "    </tr>\n",
       "    <tr>\n",
       "      <th>9</th>\n",
       "      <td>Checking_1</td>\n",
       "      <td>1.459534e+13</td>\n",
       "    </tr>\n",
       "    <tr>\n",
       "      <th>10</th>\n",
       "      <td>Checking_2</td>\n",
       "      <td>1.459534e+13</td>\n",
       "    </tr>\n",
       "    <tr>\n",
       "      <th>11</th>\n",
       "      <td>Checking_3</td>\n",
       "      <td>1.459534e+13</td>\n",
       "    </tr>\n",
       "    <tr>\n",
       "      <th>12</th>\n",
       "      <td>Checking_4</td>\n",
       "      <td>1.459534e+13</td>\n",
       "    </tr>\n",
       "  </tbody>\n",
       "</table>\n",
       "</div>"
      ],
      "text/plain": [
       "        Variables   Coefficient\n",
       "0        Age_0_25  3.754221e+13\n",
       "1       Age_26-28  3.754221e+13\n",
       "2       Age_29-34  3.754221e+13\n",
       "3     Age_34above  3.754221e+13\n",
       "4    Duration_0_7 -3.803448e+12\n",
       "5   Duration_8-12 -3.803448e+12\n",
       "6     History_0,1  1.036674e+13\n",
       "7       History_2  1.036674e+13\n",
       "8     History_3,4  1.036674e+13\n",
       "9      Checking_1  1.459534e+13\n",
       "10     Checking_2  1.459534e+13\n",
       "11     Checking_3  1.459534e+13\n",
       "12     Checking_4  1.459534e+13"
      ]
     },
     "execution_count": 67,
     "metadata": {},
     "output_type": "execute_result"
    }
   ],
   "source": [
    "# Linear Regression1\n",
    "\n",
    "from sklearn.linear_model import LinearRegression\n",
    "lin2 = LinearRegression()\n",
    "lin2.fit(x1_train1, y1_train1)\n",
    "print(lin2.coef_)\n",
    "print(lin2.intercept_)\n",
    "\n",
    "model11_score = pd.concat([pd.DataFrame(x1_train1.columns),pd.DataFrame(np.transpose(lin2.coef_))], axis = 1)\n",
    "model11_scorecard = model11_score.set_axis(['Variables', 'Coefficient'], axis=1, inplace=False)\n",
    "model11_scorecard"
   ]
  },
  {
   "cell_type": "code",
   "execution_count": 68,
   "metadata": {
    "colab": {
     "base_uri": "https://localhost:8080/"
    },
    "id": "-xcLbKat_Ex1",
    "outputId": "04806b92-109a-44fb-f9f8-9a118ba7cfb8"
   },
   "outputs": [
    {
     "name": "stderr",
     "output_type": "stream",
     "text": [
      "/opt/anaconda3/lib/python3.7/site-packages/sklearn/utils/validation.py:993: DataConversionWarning: A column-vector y was passed when a 1d array was expected. Please change the shape of y to (n_samples, ), for example using ravel().\n",
      "  y = column_or_1d(y, warn=True)\n"
     ]
    },
    {
     "name": "stdout",
     "output_type": "stream",
     "text": [
      "[[ 0.62660455 -0.17051772 -0.45402518 -0.37785743 -0.02940284  0.40932191\n",
      "  -1.08346968 -0.65213041  0.82828852  0.90937322 -0.63279118  0.35978934\n",
      "   0.27506349]]\n",
      "[0.54620811]\n"
     ]
    },
    {
     "data": {
      "text/html": [
       "<div>\n",
       "<style scoped>\n",
       "    .dataframe tbody tr th:only-of-type {\n",
       "        vertical-align: middle;\n",
       "    }\n",
       "\n",
       "    .dataframe tbody tr th {\n",
       "        vertical-align: top;\n",
       "    }\n",
       "\n",
       "    .dataframe thead th {\n",
       "        text-align: right;\n",
       "    }\n",
       "</style>\n",
       "<table border=\"1\" class=\"dataframe\">\n",
       "  <thead>\n",
       "    <tr style=\"text-align: right;\">\n",
       "      <th></th>\n",
       "      <th>Variables</th>\n",
       "      <th>Coefficient</th>\n",
       "    </tr>\n",
       "  </thead>\n",
       "  <tbody>\n",
       "    <tr>\n",
       "      <th>0</th>\n",
       "      <td>Duration_13-20</td>\n",
       "      <td>0.626605</td>\n",
       "    </tr>\n",
       "    <tr>\n",
       "      <th>1</th>\n",
       "      <td>Duration_21-46</td>\n",
       "      <td>-0.170518</td>\n",
       "    </tr>\n",
       "    <tr>\n",
       "      <th>2</th>\n",
       "      <td>Duration_46above</td>\n",
       "      <td>-0.454025</td>\n",
       "    </tr>\n",
       "    <tr>\n",
       "      <th>3</th>\n",
       "      <td>History_0,1</td>\n",
       "      <td>-0.377857</td>\n",
       "    </tr>\n",
       "    <tr>\n",
       "      <th>4</th>\n",
       "      <td>History_2</td>\n",
       "      <td>-0.029403</td>\n",
       "    </tr>\n",
       "    <tr>\n",
       "      <th>5</th>\n",
       "      <td>History_3,4</td>\n",
       "      <td>0.409322</td>\n",
       "    </tr>\n",
       "    <tr>\n",
       "      <th>6</th>\n",
       "      <td>Checking_1</td>\n",
       "      <td>-1.083470</td>\n",
       "    </tr>\n",
       "    <tr>\n",
       "      <th>7</th>\n",
       "      <td>Checking_2</td>\n",
       "      <td>-0.652130</td>\n",
       "    </tr>\n",
       "    <tr>\n",
       "      <th>8</th>\n",
       "      <td>Checking_3</td>\n",
       "      <td>0.828289</td>\n",
       "    </tr>\n",
       "    <tr>\n",
       "      <th>9</th>\n",
       "      <td>Checking_4</td>\n",
       "      <td>0.909373</td>\n",
       "    </tr>\n",
       "    <tr>\n",
       "      <th>10</th>\n",
       "      <td>Savings_1,2</td>\n",
       "      <td>-0.632791</td>\n",
       "    </tr>\n",
       "    <tr>\n",
       "      <th>11</th>\n",
       "      <td>Savings_3,4</td>\n",
       "      <td>0.359789</td>\n",
       "    </tr>\n",
       "    <tr>\n",
       "      <th>12</th>\n",
       "      <td>Savings_5</td>\n",
       "      <td>0.275063</td>\n",
       "    </tr>\n",
       "  </tbody>\n",
       "</table>\n",
       "</div>"
      ],
      "text/plain": [
       "           Variables  Coefficient\n",
       "0     Duration_13-20     0.626605\n",
       "1     Duration_21-46    -0.170518\n",
       "2   Duration_46above    -0.454025\n",
       "3        History_0,1    -0.377857\n",
       "4          History_2    -0.029403\n",
       "5        History_3,4     0.409322\n",
       "6         Checking_1    -1.083470\n",
       "7         Checking_2    -0.652130\n",
       "8         Checking_3     0.828289\n",
       "9         Checking_4     0.909373\n",
       "10       Savings_1,2    -0.632791\n",
       "11       Savings_3,4     0.359789\n",
       "12         Savings_5     0.275063"
      ]
     },
     "execution_count": 68,
     "metadata": {},
     "output_type": "execute_result"
    }
   ],
   "source": [
    "# Logistic Regression Model2\n",
    "\n",
    "from sklearn.linear_model import LogisticRegression\n",
    "log3 = LogisticRegression(C=0.9, solver='saga', n_jobs=-1)\n",
    "log3.fit(x2_train2, y2_train2)\n",
    "print(log3.coef_)\n",
    "print(log3.intercept_)\n",
    "\n",
    "model11_score = pd.concat([pd.DataFrame(x2_train2.columns),pd.DataFrame(np.transpose(log3.coef_))], axis = 1)\n",
    "model11_scorecard = model11_score.set_axis(['Variables', 'Coefficient'], axis=1, inplace=False)\n",
    "model11_scorecard"
   ]
  },
  {
   "cell_type": "code",
   "execution_count": 69,
   "metadata": {
    "colab": {
     "base_uri": "https://localhost:8080/"
    },
    "id": "L-Lm5xw0_K_7",
    "outputId": "83dfc872-349c-44f9-f050-5c3b4c344f03"
   },
   "outputs": [
    {
     "name": "stdout",
     "output_type": "stream",
     "text": [
      "[[ 2.36217344e+12  2.36217344e+12  2.36217344e+12  6.01920033e+13\n",
      "   6.01920033e+13  6.01920033e+13  1.00226445e+13  1.00226445e+13\n",
      "   1.00226445e+13  1.00226445e+13 -3.36556299e+12 -3.36556299e+12\n",
      "  -3.36556299e+12]]\n",
      "[-6.92112582e+13]\n"
     ]
    },
    {
     "data": {
      "text/html": [
       "<div>\n",
       "<style scoped>\n",
       "    .dataframe tbody tr th:only-of-type {\n",
       "        vertical-align: middle;\n",
       "    }\n",
       "\n",
       "    .dataframe tbody tr th {\n",
       "        vertical-align: top;\n",
       "    }\n",
       "\n",
       "    .dataframe thead th {\n",
       "        text-align: right;\n",
       "    }\n",
       "</style>\n",
       "<table border=\"1\" class=\"dataframe\">\n",
       "  <thead>\n",
       "    <tr style=\"text-align: right;\">\n",
       "      <th></th>\n",
       "      <th>Variables</th>\n",
       "      <th>Coefficient</th>\n",
       "    </tr>\n",
       "  </thead>\n",
       "  <tbody>\n",
       "    <tr>\n",
       "      <th>0</th>\n",
       "      <td>Duration_13-20</td>\n",
       "      <td>2.362173e+12</td>\n",
       "    </tr>\n",
       "    <tr>\n",
       "      <th>1</th>\n",
       "      <td>Duration_21-46</td>\n",
       "      <td>2.362173e+12</td>\n",
       "    </tr>\n",
       "    <tr>\n",
       "      <th>2</th>\n",
       "      <td>Duration_46above</td>\n",
       "      <td>2.362173e+12</td>\n",
       "    </tr>\n",
       "    <tr>\n",
       "      <th>3</th>\n",
       "      <td>History_0,1</td>\n",
       "      <td>6.019200e+13</td>\n",
       "    </tr>\n",
       "    <tr>\n",
       "      <th>4</th>\n",
       "      <td>History_2</td>\n",
       "      <td>6.019200e+13</td>\n",
       "    </tr>\n",
       "    <tr>\n",
       "      <th>5</th>\n",
       "      <td>History_3,4</td>\n",
       "      <td>6.019200e+13</td>\n",
       "    </tr>\n",
       "    <tr>\n",
       "      <th>6</th>\n",
       "      <td>Checking_1</td>\n",
       "      <td>1.002264e+13</td>\n",
       "    </tr>\n",
       "    <tr>\n",
       "      <th>7</th>\n",
       "      <td>Checking_2</td>\n",
       "      <td>1.002264e+13</td>\n",
       "    </tr>\n",
       "    <tr>\n",
       "      <th>8</th>\n",
       "      <td>Checking_3</td>\n",
       "      <td>1.002264e+13</td>\n",
       "    </tr>\n",
       "    <tr>\n",
       "      <th>9</th>\n",
       "      <td>Checking_4</td>\n",
       "      <td>1.002264e+13</td>\n",
       "    </tr>\n",
       "    <tr>\n",
       "      <th>10</th>\n",
       "      <td>Savings_1,2</td>\n",
       "      <td>-3.365563e+12</td>\n",
       "    </tr>\n",
       "    <tr>\n",
       "      <th>11</th>\n",
       "      <td>Savings_3,4</td>\n",
       "      <td>-3.365563e+12</td>\n",
       "    </tr>\n",
       "    <tr>\n",
       "      <th>12</th>\n",
       "      <td>Savings_5</td>\n",
       "      <td>-3.365563e+12</td>\n",
       "    </tr>\n",
       "  </tbody>\n",
       "</table>\n",
       "</div>"
      ],
      "text/plain": [
       "           Variables   Coefficient\n",
       "0     Duration_13-20  2.362173e+12\n",
       "1     Duration_21-46  2.362173e+12\n",
       "2   Duration_46above  2.362173e+12\n",
       "3        History_0,1  6.019200e+13\n",
       "4          History_2  6.019200e+13\n",
       "5        History_3,4  6.019200e+13\n",
       "6         Checking_1  1.002264e+13\n",
       "7         Checking_2  1.002264e+13\n",
       "8         Checking_3  1.002264e+13\n",
       "9         Checking_4  1.002264e+13\n",
       "10       Savings_1,2 -3.365563e+12\n",
       "11       Savings_3,4 -3.365563e+12\n",
       "12         Savings_5 -3.365563e+12"
      ]
     },
     "execution_count": 69,
     "metadata": {},
     "output_type": "execute_result"
    }
   ],
   "source": [
    "# Linear Regression2\n",
    "\n",
    "from sklearn.linear_model import LinearRegression\n",
    "lin4 = LinearRegression()\n",
    "lin4.fit(x2_train2, y2_train2)\n",
    "print(lin4.coef_)\n",
    "print(lin4.intercept_)\n",
    "\n",
    "model11_score = pd.concat([pd.DataFrame(x2_train2.columns),pd.DataFrame(np.transpose(lin4.coef_))], axis = 1)\n",
    "model11_scorecard = model11_score.set_axis(['Variables', 'Coefficient'], axis=1, inplace=False)\n",
    "model11_scorecard"
   ]
  },
  {
   "cell_type": "code",
   "execution_count": 70,
   "metadata": {},
   "outputs": [
    {
     "data": {
      "text/html": [
       "<div>\n",
       "<style scoped>\n",
       "    .dataframe tbody tr th:only-of-type {\n",
       "        vertical-align: middle;\n",
       "    }\n",
       "\n",
       "    .dataframe tbody tr th {\n",
       "        vertical-align: top;\n",
       "    }\n",
       "\n",
       "    .dataframe thead th {\n",
       "        text-align: right;\n",
       "    }\n",
       "</style>\n",
       "<table border=\"1\" class=\"dataframe\">\n",
       "  <thead>\n",
       "    <tr style=\"text-align: right;\">\n",
       "      <th></th>\n",
       "      <th>Age_0_25</th>\n",
       "      <th>Age_26-28</th>\n",
       "      <th>Age_29-34</th>\n",
       "      <th>Age_34above</th>\n",
       "      <th>Duration_0_7</th>\n",
       "      <th>Duration_8-12</th>\n",
       "      <th>History_0,1</th>\n",
       "      <th>History_2</th>\n",
       "      <th>History_3,4</th>\n",
       "      <th>Checking_1</th>\n",
       "      <th>Checking_2</th>\n",
       "      <th>Checking_3</th>\n",
       "      <th>Checking_4</th>\n",
       "    </tr>\n",
       "  </thead>\n",
       "  <tbody>\n",
       "    <tr>\n",
       "      <th>0</th>\n",
       "      <td>0</td>\n",
       "      <td>0</td>\n",
       "      <td>0</td>\n",
       "      <td>1</td>\n",
       "      <td>0</td>\n",
       "      <td>1</td>\n",
       "      <td>0</td>\n",
       "      <td>1</td>\n",
       "      <td>0</td>\n",
       "      <td>0</td>\n",
       "      <td>1</td>\n",
       "      <td>0</td>\n",
       "      <td>0</td>\n",
       "    </tr>\n",
       "    <tr>\n",
       "      <th>1</th>\n",
       "      <td>0</td>\n",
       "      <td>0</td>\n",
       "      <td>0</td>\n",
       "      <td>1</td>\n",
       "      <td>0</td>\n",
       "      <td>1</td>\n",
       "      <td>0</td>\n",
       "      <td>1</td>\n",
       "      <td>0</td>\n",
       "      <td>0</td>\n",
       "      <td>0</td>\n",
       "      <td>0</td>\n",
       "      <td>1</td>\n",
       "    </tr>\n",
       "    <tr>\n",
       "      <th>2</th>\n",
       "      <td>0</td>\n",
       "      <td>1</td>\n",
       "      <td>0</td>\n",
       "      <td>0</td>\n",
       "      <td>0</td>\n",
       "      <td>1</td>\n",
       "      <td>1</td>\n",
       "      <td>0</td>\n",
       "      <td>0</td>\n",
       "      <td>0</td>\n",
       "      <td>0</td>\n",
       "      <td>1</td>\n",
       "      <td>0</td>\n",
       "    </tr>\n",
       "    <tr>\n",
       "      <th>3</th>\n",
       "      <td>0</td>\n",
       "      <td>0</td>\n",
       "      <td>0</td>\n",
       "      <td>1</td>\n",
       "      <td>0</td>\n",
       "      <td>1</td>\n",
       "      <td>0</td>\n",
       "      <td>0</td>\n",
       "      <td>1</td>\n",
       "      <td>0</td>\n",
       "      <td>0</td>\n",
       "      <td>0</td>\n",
       "      <td>1</td>\n",
       "    </tr>\n",
       "    <tr>\n",
       "      <th>4</th>\n",
       "      <td>0</td>\n",
       "      <td>0</td>\n",
       "      <td>0</td>\n",
       "      <td>1</td>\n",
       "      <td>0</td>\n",
       "      <td>1</td>\n",
       "      <td>0</td>\n",
       "      <td>0</td>\n",
       "      <td>1</td>\n",
       "      <td>0</td>\n",
       "      <td>0</td>\n",
       "      <td>0</td>\n",
       "      <td>1</td>\n",
       "    </tr>\n",
       "    <tr>\n",
       "      <th>...</th>\n",
       "      <td>...</td>\n",
       "      <td>...</td>\n",
       "      <td>...</td>\n",
       "      <td>...</td>\n",
       "      <td>...</td>\n",
       "      <td>...</td>\n",
       "      <td>...</td>\n",
       "      <td>...</td>\n",
       "      <td>...</td>\n",
       "      <td>...</td>\n",
       "      <td>...</td>\n",
       "      <td>...</td>\n",
       "      <td>...</td>\n",
       "    </tr>\n",
       "    <tr>\n",
       "      <th>389</th>\n",
       "      <td>0</td>\n",
       "      <td>0</td>\n",
       "      <td>0</td>\n",
       "      <td>1</td>\n",
       "      <td>0</td>\n",
       "      <td>1</td>\n",
       "      <td>0</td>\n",
       "      <td>1</td>\n",
       "      <td>0</td>\n",
       "      <td>1</td>\n",
       "      <td>0</td>\n",
       "      <td>0</td>\n",
       "      <td>0</td>\n",
       "    </tr>\n",
       "    <tr>\n",
       "      <th>390</th>\n",
       "      <td>1</td>\n",
       "      <td>0</td>\n",
       "      <td>0</td>\n",
       "      <td>0</td>\n",
       "      <td>0</td>\n",
       "      <td>1</td>\n",
       "      <td>0</td>\n",
       "      <td>1</td>\n",
       "      <td>0</td>\n",
       "      <td>1</td>\n",
       "      <td>0</td>\n",
       "      <td>0</td>\n",
       "      <td>0</td>\n",
       "    </tr>\n",
       "    <tr>\n",
       "      <th>391</th>\n",
       "      <td>0</td>\n",
       "      <td>0</td>\n",
       "      <td>0</td>\n",
       "      <td>1</td>\n",
       "      <td>1</td>\n",
       "      <td>0</td>\n",
       "      <td>0</td>\n",
       "      <td>0</td>\n",
       "      <td>1</td>\n",
       "      <td>0</td>\n",
       "      <td>1</td>\n",
       "      <td>0</td>\n",
       "      <td>0</td>\n",
       "    </tr>\n",
       "    <tr>\n",
       "      <th>392</th>\n",
       "      <td>1</td>\n",
       "      <td>0</td>\n",
       "      <td>0</td>\n",
       "      <td>0</td>\n",
       "      <td>0</td>\n",
       "      <td>1</td>\n",
       "      <td>0</td>\n",
       "      <td>1</td>\n",
       "      <td>0</td>\n",
       "      <td>1</td>\n",
       "      <td>0</td>\n",
       "      <td>0</td>\n",
       "      <td>0</td>\n",
       "    </tr>\n",
       "    <tr>\n",
       "      <th>393</th>\n",
       "      <td>1</td>\n",
       "      <td>0</td>\n",
       "      <td>0</td>\n",
       "      <td>0</td>\n",
       "      <td>0</td>\n",
       "      <td>1</td>\n",
       "      <td>0</td>\n",
       "      <td>1</td>\n",
       "      <td>0</td>\n",
       "      <td>0</td>\n",
       "      <td>0</td>\n",
       "      <td>0</td>\n",
       "      <td>1</td>\n",
       "    </tr>\n",
       "  </tbody>\n",
       "</table>\n",
       "<p>394 rows × 13 columns</p>\n",
       "</div>"
      ],
      "text/plain": [
       "     Age_0_25  Age_26-28  Age_29-34  Age_34above  Duration_0_7  Duration_8-12  \\\n",
       "0           0          0          0            1             0              1   \n",
       "1           0          0          0            1             0              1   \n",
       "2           0          1          0            0             0              1   \n",
       "3           0          0          0            1             0              1   \n",
       "4           0          0          0            1             0              1   \n",
       "..        ...        ...        ...          ...           ...            ...   \n",
       "389         0          0          0            1             0              1   \n",
       "390         1          0          0            0             0              1   \n",
       "391         0          0          0            1             1              0   \n",
       "392         1          0          0            0             0              1   \n",
       "393         1          0          0            0             0              1   \n",
       "\n",
       "     History_0,1  History_2  History_3,4  Checking_1  Checking_2  Checking_3  \\\n",
       "0              0          1            0           0           1           0   \n",
       "1              0          1            0           0           0           0   \n",
       "2              1          0            0           0           0           1   \n",
       "3              0          0            1           0           0           0   \n",
       "4              0          0            1           0           0           0   \n",
       "..           ...        ...          ...         ...         ...         ...   \n",
       "389            0          1            0           1           0           0   \n",
       "390            0          1            0           1           0           0   \n",
       "391            0          0            1           0           1           0   \n",
       "392            0          1            0           1           0           0   \n",
       "393            0          1            0           0           0           0   \n",
       "\n",
       "     Checking_4  \n",
       "0             0  \n",
       "1             1  \n",
       "2             0  \n",
       "3             1  \n",
       "4             1  \n",
       "..          ...  \n",
       "389           0  \n",
       "390           0  \n",
       "391           0  \n",
       "392           0  \n",
       "393           1  \n",
       "\n",
       "[394 rows x 13 columns]"
      ]
     },
     "execution_count": 70,
     "metadata": {},
     "output_type": "execute_result"
    }
   ],
   "source": [
    "x1_train1"
   ]
  },
  {
   "cell_type": "code",
   "execution_count": 71,
   "metadata": {
    "id": "_zgK8wx8_mNQ"
   },
   "outputs": [
    {
     "data": {
      "image/png": "[encoded data removed]",
      "text/plain": [
       "<Figure size 432x288 with 1 Axes>"
      ]
     },
     "metadata": {
      "needs_background": "light"
     },
     "output_type": "display_data"
    }
   ],
   "source": [
    "# Question 5 : ROC Curve/KS Values\n",
    "\n",
    "from optbinning.scorecard.plots import plot_ks, plot_auc_roc\n",
    "from sklearn.metrics import roc_curve, confusion_matrix, classification_report, roc_auc_score,precision_recall_curve\n",
    "\n",
    "# Subset 1 logistic\n",
    "\n",
    "# Predicted Probability\n",
    "test_pred1 = log1.predict_proba(x1_test1)[:,1]\n",
    "\n",
    "plot_auc_roc(y1_test1,test_pred1)\n",
    "\n"
   ]
  },
  {
   "cell_type": "code",
   "execution_count": 101,
   "metadata": {
    "id": "0FhCi5df_maf"
   },
   "outputs": [
    {
     "data": {
      "image/png": "[encoded data removed]",
      "text/plain": [
       "<Figure size 432x288 with 1 Axes>"
      ]
     },
     "metadata": {
      "needs_background": "light"
     },
     "output_type": "display_data"
    }
   ],
   "source": [
    "# Subset 1 linear\n",
    "\n",
    "# Predicted Probability\n",
    "test_pred2 = lin2.predict(x1_test1)\n",
    "\n",
    "plot_auc_roc(y1_test1,test_pred2)"
   ]
  },
  {
   "cell_type": "code",
   "execution_count": 102,
   "metadata": {},
   "outputs": [],
   "source": [
    "from scipy.stats import ks_2samp\n",
    "import numpy as np\n"
   ]
  },
  {
   "cell_type": "code",
   "execution_count": 106,
   "metadata": {},
   "outputs": [
    {
     "data": {
      "text/plain": [
       "KstestResult(statistic=0.7962962962962963, pvalue=2.3489666885288875e-34)"
      ]
     },
     "execution_count": 106,
     "metadata": {},
     "output_type": "execute_result"
    }
   ],
   "source": [
    "ks11 = ks_2samp(y1_test1['Good'], test_pred1)\n",
    "ks11"
   ]
  },
  {
   "cell_type": "code",
   "execution_count": 113,
   "metadata": {},
   "outputs": [
    {
     "data": {
      "image/png": "[encoded data removed]",
      "text/plain": [
       "<Figure size 432x288 with 1 Axes>"
      ]
     },
     "metadata": {
      "needs_background": "light"
     },
     "output_type": "display_data"
    }
   ],
   "source": [
    "plot_ks(y1_test1,test_pred1)"
   ]
  },
  {
   "cell_type": "code",
   "execution_count": 114,
   "metadata": {},
   "outputs": [
    {
     "data": {
      "text/plain": [
       "array([0.48837226, 0.91473866, 0.56288923, 0.48837226, 0.88227279,\n",
       "       0.59168369, 0.62959715, 0.77628708, 0.62959715, 0.50244577,\n",
       "       0.478779  , 0.92350338, 0.87145885, 0.14563552, 0.07474889,\n",
       "       0.50244577, 0.65220252, 0.60224763, 0.62959715, 0.30536107,\n",
       "       0.96100693, 0.76856921, 0.7658118 , 0.59111324, 0.1459295 ,\n",
       "       0.07706421, 0.1609414 , 0.74736348, 0.40882746, 0.92350338,\n",
       "       0.50244577, 0.30536107, 0.3186052 , 0.42584334, 0.61565392,\n",
       "       0.478779  , 0.74736348, 0.76856921, 0.29840444, 0.84045377,\n",
       "       0.29355097, 0.61313397, 0.62959715, 0.77628708, 0.16912102,\n",
       "       0.59111324, 0.76954488, 0.50244577, 0.77628708, 0.59111324,\n",
       "       0.84013696, 0.3186052 , 0.61313397, 0.92350338, 0.62959715,\n",
       "       0.16912102, 0.30536107, 0.76856921, 0.169453  , 0.78591261,\n",
       "       0.74639114, 0.87145885, 0.92350338, 0.92350338, 0.29355097,\n",
       "       0.74691749, 0.92350338, 0.30536107, 0.07723229, 0.86047027,\n",
       "       0.76856921, 0.87145885, 0.59168369, 0.40825703, 0.84045377,\n",
       "       0.07706421, 0.92350338, 0.9149226 , 0.59111324, 0.59111324,\n",
       "       0.83976289, 0.47296952, 0.78591261, 0.62959715, 0.76954488,\n",
       "       0.30536107, 0.75129512, 0.62959715, 0.84045377, 0.76856921,\n",
       "       0.84045377, 0.50244577, 0.08156937, 0.61565392, 0.23138301,\n",
       "       0.91653782, 0.48837226, 0.75129512, 0.77628708, 0.30536107,\n",
       "       0.76856921, 0.67336693, 0.75129512, 0.30536107, 0.92350338,\n",
       "       0.91653782, 0.67336693, 0.76856921])"
      ]
     },
     "execution_count": 114,
     "metadata": {},
     "output_type": "execute_result"
    }
   ],
   "source": [
    "test_pred1"
   ]
  },
  {
   "cell_type": "code",
   "execution_count": null,
   "metadata": {},
   "outputs": [],
   "source": [
    "df1=df[[\"HomeTeam\",\"HBP\"]]\n",
    "df1.rename(columns={'HomeTeam':'Team','HBP':'Point'}, inplace=True)\n",
    "df2=df[[\"AwayTeam\",\"ABP\"]]\n",
    "df2.rename(columns={'AwayTeam':'Team','ABP':'Point'}, inplace=True)\n",
    "dfair = pd.concat([df1,df2])\n",
    "\n",
    "dfair = dfair.groupby('Team').sum().reset_index()\n",
    "dfair.sort_values('Point', ascending=True)\n",
    "\n",
    "result = dfair.groupby([\"Team\"])['Point'].aggregate('sum').reset_index().sort_values('Point')\n",
    "sns.barplot(x='Point', y=\"Team\", data=dfair, order=result['Team'])\n",
    "plt.show()\n",
    "\n",
    "\n",
    "ax.set_xlabel(\"Fair Play Points\", fontsize = 15)\n",
    "ax.set_ylabel(\"Teams\", fontsize = 15)"
   ]
  }
 ],
 "metadata": {
  "colab": {
   "collapsed_sections": [],
   "name": "CreditRisk.ipynb",
   "provenance": []
  },
  "kernelspec": {
   "display_name": "Python 3",
   "language": "python",
   "name": "python3"
  },
  "language_info": {
   "codemirror_mode": {
    "name": "ipython",
    "version": 3
   },
   "file_extension": ".py",
   "mimetype": "text/x-python",
   "name": "python",
   "nbconvert_exporter": "python",
   "pygments_lexer": "ipython3",
   "version": "3.7.7"
  }
 },
 "nbformat": 4,
 "nbformat_minor": 1
}
